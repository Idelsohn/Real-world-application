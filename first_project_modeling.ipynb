{
  "nbformat": 4,
  "nbformat_minor": 0,
  "metadata": {
    "colab": {
      "provenance": [],
      "authorship_tag": "ABX9TyMMjdD+vQJ+7i/NRsqSXDKk",
      "include_colab_link": true
    },
    "kernelspec": {
      "name": "python3",
      "display_name": "Python 3"
    },
    "language_info": {
      "name": "python"
    }
  },
  "cells": [
    {
      "cell_type": "markdown",
      "metadata": {
        "id": "view-in-github",
        "colab_type": "text"
      },
      "source": [
        "<a href=\"https://colab.research.google.com/github/Idelsohn/Real-world-application/blob/main/first_project_modeling.ipynb\" target=\"_parent\"><img src=\"https://colab.research.google.com/assets/colab-badge.svg\" alt=\"Open In Colab\"/></a>"
      ]
    },
    {
      "cell_type": "markdown",
      "source": [
        "# Explantation -\n",
        "This is the second notebook of the project which includes the modeling itself and it hyperparameters improvement.\n",
        "This model uses the data from the previous notebook"
      ],
      "metadata": {
        "id": "5SGf6ru3QU8u"
      }
    },
    {
      "cell_type": "markdown",
      "source": [
        "# Imports"
      ],
      "metadata": {
        "id": "0cOIYHmIQRbq"
      }
    },
    {
      "cell_type": "code",
      "execution_count": null,
      "metadata": {
        "id": "TXn_Vk2xQDLN",
        "colab": {
          "base_uri": "https://localhost:8080/"
        },
        "outputId": "4989d30b-5a97-4a8b-c568-898f21b594cb"
      },
      "outputs": [
        {
          "output_type": "stream",
          "name": "stdout",
          "text": [
            "Collecting catboost\n",
            "  Downloading catboost-1.2.3-cp310-cp310-manylinux2014_x86_64.whl (98.5 MB)\n",
            "\u001b[2K     \u001b[90m━━━━━━━━━━━━━━━━━━━━━━━━━━━━━━━━━━━━━━━━\u001b[0m \u001b[32m98.5/98.5 MB\u001b[0m \u001b[31m8.9 MB/s\u001b[0m eta \u001b[36m0:00:00\u001b[0m\n",
            "\u001b[?25hRequirement already satisfied: graphviz in /usr/local/lib/python3.10/dist-packages (from catboost) (0.20.3)\n",
            "Requirement already satisfied: matplotlib in /usr/local/lib/python3.10/dist-packages (from catboost) (3.7.1)\n",
            "Requirement already satisfied: numpy>=1.16.0 in /usr/local/lib/python3.10/dist-packages (from catboost) (1.25.2)\n",
            "Requirement already satisfied: pandas>=0.24 in /usr/local/lib/python3.10/dist-packages (from catboost) (2.0.3)\n",
            "Requirement already satisfied: scipy in /usr/local/lib/python3.10/dist-packages (from catboost) (1.11.4)\n",
            "Requirement already satisfied: plotly in /usr/local/lib/python3.10/dist-packages (from catboost) (5.15.0)\n",
            "Requirement already satisfied: six in /usr/local/lib/python3.10/dist-packages (from catboost) (1.16.0)\n",
            "Requirement already satisfied: python-dateutil>=2.8.2 in /usr/local/lib/python3.10/dist-packages (from pandas>=0.24->catboost) (2.8.2)\n",
            "Requirement already satisfied: pytz>=2020.1 in /usr/local/lib/python3.10/dist-packages (from pandas>=0.24->catboost) (2023.4)\n",
            "Requirement already satisfied: tzdata>=2022.1 in /usr/local/lib/python3.10/dist-packages (from pandas>=0.24->catboost) (2024.1)\n",
            "Requirement already satisfied: contourpy>=1.0.1 in /usr/local/lib/python3.10/dist-packages (from matplotlib->catboost) (1.2.1)\n",
            "Requirement already satisfied: cycler>=0.10 in /usr/local/lib/python3.10/dist-packages (from matplotlib->catboost) (0.12.1)\n",
            "Requirement already satisfied: fonttools>=4.22.0 in /usr/local/lib/python3.10/dist-packages (from matplotlib->catboost) (4.51.0)\n",
            "Requirement already satisfied: kiwisolver>=1.0.1 in /usr/local/lib/python3.10/dist-packages (from matplotlib->catboost) (1.4.5)\n",
            "Requirement already satisfied: packaging>=20.0 in /usr/local/lib/python3.10/dist-packages (from matplotlib->catboost) (24.0)\n",
            "Requirement already satisfied: pillow>=6.2.0 in /usr/local/lib/python3.10/dist-packages (from matplotlib->catboost) (9.4.0)\n",
            "Requirement already satisfied: pyparsing>=2.3.1 in /usr/local/lib/python3.10/dist-packages (from matplotlib->catboost) (3.1.2)\n",
            "Requirement already satisfied: tenacity>=6.2.0 in /usr/local/lib/python3.10/dist-packages (from plotly->catboost) (8.2.3)\n",
            "Installing collected packages: catboost\n",
            "Successfully installed catboost-1.2.3\n"
          ]
        }
      ],
      "source": [
        "import pandas as pd\n",
        "import numpy as np\n",
        "import plotly.express as px\n",
        "import matplotlib.pyplot as plt\n",
        "import seaborn as sns\n",
        "\n",
        "\n",
        "### Sklearn libraries\n",
        "from sklearn.preprocessing import LabelEncoder\n",
        "# Encoders\n",
        "from sklearn.preprocessing import OneHotEncoder, LabelEncoder, PowerTransformer\n",
        "# Feature selection\n",
        "from sklearn.feature_selection import mutual_info_classif\n",
        "\n",
        "\n",
        "!pip install catboost\n",
        "#################### Models\n",
        "from xgboost import XGBClassifier\n",
        "from catboost import CatBoostClassifier\n",
        "from lightgbm import LGBMClassifier\n",
        "from sklearn.ensemble import RandomForestClassifier\n",
        "from sklearn.linear_model import RidgeClassifier, LogisticRegression\n",
        "\n",
        "#################### Actions\n",
        "from sklearn import set_config\n",
        "import os\n",
        "from sklearn.model_selection import cross_val_score\n",
        "from sklearn.preprocessing import FunctionTransformer\n",
        "from sklearn.model_selection import StratifiedKFold\n",
        "\n",
        "#\n",
        "from sklearn.model_selection import train_test_split\n",
        "from sklearn.model_selection import cross_val_score\n",
        "RANDOM_STATE = 42\n",
        "from sklearn.dummy import DummyClassifier\n",
        "from sklearn.tree import DecisionTreeClassifier\n",
        "from sklearn.metrics import accuracy_score\n",
        "\n",
        "from sklearn.metrics import  confusion_matrix\n",
        "from sklearn.metrics import ConfusionMatrixDisplay\n",
        "import numpy as np\n",
        "from sklearn.metrics import f1_score"
      ]
    },
    {
      "cell_type": "code",
      "source": [
        "BASE_PATH_CSV = \"/content/sample_data/Project_Intake_Sheet.csv\"\n",
        "# Read the csv file\n",
        "data = pd.read_csv(BASE_PATH_CSV)\n",
        "\n",
        "# Filtering the data to contain only Cancelled and\n",
        "TARGET = 'Request Status'"
      ],
      "metadata": {
        "id": "eGRPFMY08QME"
      },
      "execution_count": null,
      "outputs": []
    },
    {
      "cell_type": "code",
      "source": [
        "# Configuration\n",
        "target_col = data[TARGET]\n",
        "train = data.drop(columns = [TARGET])\n",
        "X_train, X_temp, y_train, y_temp = train_test_split(train, target_col, test_size=0.3, random_state=RANDOM_STATE, stratify=target_col)\n",
        "X_val, X_test, y_val, y_test = train_test_split(X_temp, y_temp, test_size=0.4, random_state=RANDOM_STATE, stratify=y_temp)\n",
        "print(X_train.shape)\n",
        "print(X_val.shape)\n",
        "print(X_test.shape)\n",
        "print(y_train.value_counts())\n",
        "print(y_test.value_counts())"
      ],
      "metadata": {
        "id": "Ynit-w4NQQWj",
        "colab": {
          "base_uri": "https://localhost:8080/"
        },
        "outputId": "4db4e19f-8534-4bad-ed35-6ad17df6cf17"
      },
      "execution_count": null,
      "outputs": [
        {
          "output_type": "stream",
          "name": "stdout",
          "text": [
            "(1135, 45)\n",
            "(292, 45)\n",
            "(195, 45)\n",
            "Request Status\n",
            "0    818\n",
            "1    317\n",
            "Name: count, dtype: int64\n",
            "Request Status\n",
            "0    141\n",
            "1     54\n",
            "Name: count, dtype: int64\n"
          ]
        }
      ]
    },
    {
      "cell_type": "markdown",
      "source": [
        "# Adversarial Validation\n",
        "Adversarial Validation is a very clever and very simple way to let us know if our test data and our training data are similar"
      ],
      "metadata": {
        "id": "mIGJHvyV5Yjl"
      }
    },
    {
      "cell_type": "code",
      "source": [
        "from sklearn.ensemble import RandomForestClassifier\n",
        "from sklearn.model_selection import cross_val_predict\n",
        "from sklearn.metrics import roc_auc_score\n",
        "\n",
        "X =  pd.concat([X_train, X_test], axis=0)\n",
        "y = [0] * len(X_train) + [1] * len(X_test)\n",
        "\n",
        "model = XGBClassifier(random_state=RANDOM_STATE)\n",
        "cv_preds = cross_val_predict(model, X, y, cv=5, n_jobs=-1, method='predict_proba')\n",
        "\n",
        "score = roc_auc_score(y_true=y, y_score=cv_preds[:,1])\n",
        "print(f\"roc-auc score: {score:0.3f}\")"
      ],
      "metadata": {
        "id": "LM-wodMXQQ0K",
        "colab": {
          "base_uri": "https://localhost:8080/"
        },
        "outputId": "ea24bd60-a08c-46fd-ab2e-724a64f7e103"
      },
      "execution_count": null,
      "outputs": [
        {
          "output_type": "stream",
          "name": "stdout",
          "text": [
            "roc-auc score: 0.474\n"
          ]
        }
      ]
    },
    {
      "cell_type": "markdown",
      "source": [
        "Since the roc-auc score is about 0.5, we have a confirmation that train and test are from the same distribution"
      ],
      "metadata": {
        "id": "Hl5M6taJ5mHf"
      }
    },
    {
      "cell_type": "markdown",
      "source": [
        "# **Baseline** - creating a deafult baseline model\n",
        "Created two baselines -\n",
        "\n",
        "1)  an estimation of f1 score across different models\n",
        "\n",
        "2) LGBM model with no hyperparameter tuning but with class weights"
      ],
      "metadata": {
        "id": "AwrwWExa5oVc"
      }
    },
    {
      "cell_type": "code",
      "source": [
        "cv = StratifiedKFold(n_splits=10, shuffle=True, random_state=RANDOM_STATE)\n",
        "classifiers = [\n",
        "    CatBoostClassifier(verbose = False),\n",
        "    LGBMClassifier(),\n",
        "    XGBClassifier()\n",
        "]\n",
        "cv_results = []\n",
        "for classifier in classifiers :\n",
        "    cv_results.append(cross_val_score(classifier, X_train, y = y_train,\n",
        "        scoring = \"f1\", cv = cv, n_jobs=4))\n",
        "\n",
        "cv_means = []\n",
        "cv_std = []\n",
        "for cv_result in cv_results:\n",
        "    cv_means.append(cv_result.mean())\n",
        "    cv_std.append(cv_result.std())\n",
        "\n",
        "cv_res = pd.DataFrame({\n",
        "    \"CrossValMeans\":cv_means,\n",
        "    \"CrossValerrors\": cv_std,\n",
        "    \"Algorithm\":[\"CatBoostClassifier\", \"LGBMClassifier\", \"XGBClassifier\"]\n",
        "})\n",
        "\n",
        "cv_res"
      ],
      "metadata": {
        "id": "Qj6FXZAO5o4b",
        "colab": {
          "base_uri": "https://localhost:8080/",
          "height": 143
        },
        "outputId": "31898a77-53f2-4a87-a319-b4523d0b7a45"
      },
      "execution_count": null,
      "outputs": [
        {
          "output_type": "execute_result",
          "data": {
            "text/plain": [
              "   CrossValMeans  CrossValerrors           Algorithm\n",
              "0       0.248200        0.056147  CatBoostClassifier\n",
              "1       0.367123        0.059050      LGBMClassifier\n",
              "2       0.327074        0.077987       XGBClassifier"
            ],
            "text/html": [
              "\n",
              "  <div id=\"df-e0544d24-563a-47de-b1ea-298d972c187d\" class=\"colab-df-container\">\n",
              "    <div>\n",
              "<style scoped>\n",
              "    .dataframe tbody tr th:only-of-type {\n",
              "        vertical-align: middle;\n",
              "    }\n",
              "\n",
              "    .dataframe tbody tr th {\n",
              "        vertical-align: top;\n",
              "    }\n",
              "\n",
              "    .dataframe thead th {\n",
              "        text-align: right;\n",
              "    }\n",
              "</style>\n",
              "<table border=\"1\" class=\"dataframe\">\n",
              "  <thead>\n",
              "    <tr style=\"text-align: right;\">\n",
              "      <th></th>\n",
              "      <th>CrossValMeans</th>\n",
              "      <th>CrossValerrors</th>\n",
              "      <th>Algorithm</th>\n",
              "    </tr>\n",
              "  </thead>\n",
              "  <tbody>\n",
              "    <tr>\n",
              "      <th>0</th>\n",
              "      <td>0.248200</td>\n",
              "      <td>0.056147</td>\n",
              "      <td>CatBoostClassifier</td>\n",
              "    </tr>\n",
              "    <tr>\n",
              "      <th>1</th>\n",
              "      <td>0.367123</td>\n",
              "      <td>0.059050</td>\n",
              "      <td>LGBMClassifier</td>\n",
              "    </tr>\n",
              "    <tr>\n",
              "      <th>2</th>\n",
              "      <td>0.327074</td>\n",
              "      <td>0.077987</td>\n",
              "      <td>XGBClassifier</td>\n",
              "    </tr>\n",
              "  </tbody>\n",
              "</table>\n",
              "</div>\n",
              "    <div class=\"colab-df-buttons\">\n",
              "\n",
              "  <div class=\"colab-df-container\">\n",
              "    <button class=\"colab-df-convert\" onclick=\"convertToInteractive('df-e0544d24-563a-47de-b1ea-298d972c187d')\"\n",
              "            title=\"Convert this dataframe to an interactive table.\"\n",
              "            style=\"display:none;\">\n",
              "\n",
              "  <svg xmlns=\"http://www.w3.org/2000/svg\" height=\"24px\" viewBox=\"0 -960 960 960\">\n",
              "    <path d=\"M120-120v-720h720v720H120Zm60-500h600v-160H180v160Zm220 220h160v-160H400v160Zm0 220h160v-160H400v160ZM180-400h160v-160H180v160Zm440 0h160v-160H620v160ZM180-180h160v-160H180v160Zm440 0h160v-160H620v160Z\"/>\n",
              "  </svg>\n",
              "    </button>\n",
              "\n",
              "  <style>\n",
              "    .colab-df-container {\n",
              "      display:flex;\n",
              "      gap: 12px;\n",
              "    }\n",
              "\n",
              "    .colab-df-convert {\n",
              "      background-color: #E8F0FE;\n",
              "      border: none;\n",
              "      border-radius: 50%;\n",
              "      cursor: pointer;\n",
              "      display: none;\n",
              "      fill: #1967D2;\n",
              "      height: 32px;\n",
              "      padding: 0 0 0 0;\n",
              "      width: 32px;\n",
              "    }\n",
              "\n",
              "    .colab-df-convert:hover {\n",
              "      background-color: #E2EBFA;\n",
              "      box-shadow: 0px 1px 2px rgba(60, 64, 67, 0.3), 0px 1px 3px 1px rgba(60, 64, 67, 0.15);\n",
              "      fill: #174EA6;\n",
              "    }\n",
              "\n",
              "    .colab-df-buttons div {\n",
              "      margin-bottom: 4px;\n",
              "    }\n",
              "\n",
              "    [theme=dark] .colab-df-convert {\n",
              "      background-color: #3B4455;\n",
              "      fill: #D2E3FC;\n",
              "    }\n",
              "\n",
              "    [theme=dark] .colab-df-convert:hover {\n",
              "      background-color: #434B5C;\n",
              "      box-shadow: 0px 1px 3px 1px rgba(0, 0, 0, 0.15);\n",
              "      filter: drop-shadow(0px 1px 2px rgba(0, 0, 0, 0.3));\n",
              "      fill: #FFFFFF;\n",
              "    }\n",
              "  </style>\n",
              "\n",
              "    <script>\n",
              "      const buttonEl =\n",
              "        document.querySelector('#df-e0544d24-563a-47de-b1ea-298d972c187d button.colab-df-convert');\n",
              "      buttonEl.style.display =\n",
              "        google.colab.kernel.accessAllowed ? 'block' : 'none';\n",
              "\n",
              "      async function convertToInteractive(key) {\n",
              "        const element = document.querySelector('#df-e0544d24-563a-47de-b1ea-298d972c187d');\n",
              "        const dataTable =\n",
              "          await google.colab.kernel.invokeFunction('convertToInteractive',\n",
              "                                                    [key], {});\n",
              "        if (!dataTable) return;\n",
              "\n",
              "        const docLinkHtml = 'Like what you see? Visit the ' +\n",
              "          '<a target=\"_blank\" href=https://colab.research.google.com/notebooks/data_table.ipynb>data table notebook</a>'\n",
              "          + ' to learn more about interactive tables.';\n",
              "        element.innerHTML = '';\n",
              "        dataTable['output_type'] = 'display_data';\n",
              "        await google.colab.output.renderOutput(dataTable, element);\n",
              "        const docLink = document.createElement('div');\n",
              "        docLink.innerHTML = docLinkHtml;\n",
              "        element.appendChild(docLink);\n",
              "      }\n",
              "    </script>\n",
              "  </div>\n",
              "\n",
              "\n",
              "<div id=\"df-9ee21a37-d4a2-498d-a1e5-a217b5fc1930\">\n",
              "  <button class=\"colab-df-quickchart\" onclick=\"quickchart('df-9ee21a37-d4a2-498d-a1e5-a217b5fc1930')\"\n",
              "            title=\"Suggest charts\"\n",
              "            style=\"display:none;\">\n",
              "\n",
              "<svg xmlns=\"http://www.w3.org/2000/svg\" height=\"24px\"viewBox=\"0 0 24 24\"\n",
              "     width=\"24px\">\n",
              "    <g>\n",
              "        <path d=\"M19 3H5c-1.1 0-2 .9-2 2v14c0 1.1.9 2 2 2h14c1.1 0 2-.9 2-2V5c0-1.1-.9-2-2-2zM9 17H7v-7h2v7zm4 0h-2V7h2v10zm4 0h-2v-4h2v4z\"/>\n",
              "    </g>\n",
              "</svg>\n",
              "  </button>\n",
              "\n",
              "<style>\n",
              "  .colab-df-quickchart {\n",
              "      --bg-color: #E8F0FE;\n",
              "      --fill-color: #1967D2;\n",
              "      --hover-bg-color: #E2EBFA;\n",
              "      --hover-fill-color: #174EA6;\n",
              "      --disabled-fill-color: #AAA;\n",
              "      --disabled-bg-color: #DDD;\n",
              "  }\n",
              "\n",
              "  [theme=dark] .colab-df-quickchart {\n",
              "      --bg-color: #3B4455;\n",
              "      --fill-color: #D2E3FC;\n",
              "      --hover-bg-color: #434B5C;\n",
              "      --hover-fill-color: #FFFFFF;\n",
              "      --disabled-bg-color: #3B4455;\n",
              "      --disabled-fill-color: #666;\n",
              "  }\n",
              "\n",
              "  .colab-df-quickchart {\n",
              "    background-color: var(--bg-color);\n",
              "    border: none;\n",
              "    border-radius: 50%;\n",
              "    cursor: pointer;\n",
              "    display: none;\n",
              "    fill: var(--fill-color);\n",
              "    height: 32px;\n",
              "    padding: 0;\n",
              "    width: 32px;\n",
              "  }\n",
              "\n",
              "  .colab-df-quickchart:hover {\n",
              "    background-color: var(--hover-bg-color);\n",
              "    box-shadow: 0 1px 2px rgba(60, 64, 67, 0.3), 0 1px 3px 1px rgba(60, 64, 67, 0.15);\n",
              "    fill: var(--button-hover-fill-color);\n",
              "  }\n",
              "\n",
              "  .colab-df-quickchart-complete:disabled,\n",
              "  .colab-df-quickchart-complete:disabled:hover {\n",
              "    background-color: var(--disabled-bg-color);\n",
              "    fill: var(--disabled-fill-color);\n",
              "    box-shadow: none;\n",
              "  }\n",
              "\n",
              "  .colab-df-spinner {\n",
              "    border: 2px solid var(--fill-color);\n",
              "    border-color: transparent;\n",
              "    border-bottom-color: var(--fill-color);\n",
              "    animation:\n",
              "      spin 1s steps(1) infinite;\n",
              "  }\n",
              "\n",
              "  @keyframes spin {\n",
              "    0% {\n",
              "      border-color: transparent;\n",
              "      border-bottom-color: var(--fill-color);\n",
              "      border-left-color: var(--fill-color);\n",
              "    }\n",
              "    20% {\n",
              "      border-color: transparent;\n",
              "      border-left-color: var(--fill-color);\n",
              "      border-top-color: var(--fill-color);\n",
              "    }\n",
              "    30% {\n",
              "      border-color: transparent;\n",
              "      border-left-color: var(--fill-color);\n",
              "      border-top-color: var(--fill-color);\n",
              "      border-right-color: var(--fill-color);\n",
              "    }\n",
              "    40% {\n",
              "      border-color: transparent;\n",
              "      border-right-color: var(--fill-color);\n",
              "      border-top-color: var(--fill-color);\n",
              "    }\n",
              "    60% {\n",
              "      border-color: transparent;\n",
              "      border-right-color: var(--fill-color);\n",
              "    }\n",
              "    80% {\n",
              "      border-color: transparent;\n",
              "      border-right-color: var(--fill-color);\n",
              "      border-bottom-color: var(--fill-color);\n",
              "    }\n",
              "    90% {\n",
              "      border-color: transparent;\n",
              "      border-bottom-color: var(--fill-color);\n",
              "    }\n",
              "  }\n",
              "</style>\n",
              "\n",
              "  <script>\n",
              "    async function quickchart(key) {\n",
              "      const quickchartButtonEl =\n",
              "        document.querySelector('#' + key + ' button');\n",
              "      quickchartButtonEl.disabled = true;  // To prevent multiple clicks.\n",
              "      quickchartButtonEl.classList.add('colab-df-spinner');\n",
              "      try {\n",
              "        const charts = await google.colab.kernel.invokeFunction(\n",
              "            'suggestCharts', [key], {});\n",
              "      } catch (error) {\n",
              "        console.error('Error during call to suggestCharts:', error);\n",
              "      }\n",
              "      quickchartButtonEl.classList.remove('colab-df-spinner');\n",
              "      quickchartButtonEl.classList.add('colab-df-quickchart-complete');\n",
              "    }\n",
              "    (() => {\n",
              "      let quickchartButtonEl =\n",
              "        document.querySelector('#df-9ee21a37-d4a2-498d-a1e5-a217b5fc1930 button');\n",
              "      quickchartButtonEl.style.display =\n",
              "        google.colab.kernel.accessAllowed ? 'block' : 'none';\n",
              "    })();\n",
              "  </script>\n",
              "</div>\n",
              "\n",
              "  <div id=\"id_95f2e717-1384-4cc8-8eef-d75a57824d57\">\n",
              "    <style>\n",
              "      .colab-df-generate {\n",
              "        background-color: #E8F0FE;\n",
              "        border: none;\n",
              "        border-radius: 50%;\n",
              "        cursor: pointer;\n",
              "        display: none;\n",
              "        fill: #1967D2;\n",
              "        height: 32px;\n",
              "        padding: 0 0 0 0;\n",
              "        width: 32px;\n",
              "      }\n",
              "\n",
              "      .colab-df-generate:hover {\n",
              "        background-color: #E2EBFA;\n",
              "        box-shadow: 0px 1px 2px rgba(60, 64, 67, 0.3), 0px 1px 3px 1px rgba(60, 64, 67, 0.15);\n",
              "        fill: #174EA6;\n",
              "      }\n",
              "\n",
              "      [theme=dark] .colab-df-generate {\n",
              "        background-color: #3B4455;\n",
              "        fill: #D2E3FC;\n",
              "      }\n",
              "\n",
              "      [theme=dark] .colab-df-generate:hover {\n",
              "        background-color: #434B5C;\n",
              "        box-shadow: 0px 1px 3px 1px rgba(0, 0, 0, 0.15);\n",
              "        filter: drop-shadow(0px 1px 2px rgba(0, 0, 0, 0.3));\n",
              "        fill: #FFFFFF;\n",
              "      }\n",
              "    </style>\n",
              "    <button class=\"colab-df-generate\" onclick=\"generateWithVariable('cv_res')\"\n",
              "            title=\"Generate code using this dataframe.\"\n",
              "            style=\"display:none;\">\n",
              "\n",
              "  <svg xmlns=\"http://www.w3.org/2000/svg\" height=\"24px\"viewBox=\"0 0 24 24\"\n",
              "       width=\"24px\">\n",
              "    <path d=\"M7,19H8.4L18.45,9,17,7.55,7,17.6ZM5,21V16.75L18.45,3.32a2,2,0,0,1,2.83,0l1.4,1.43a1.91,1.91,0,0,1,.58,1.4,1.91,1.91,0,0,1-.58,1.4L9.25,21ZM18.45,9,17,7.55Zm-12,3A5.31,5.31,0,0,0,4.9,8.1,5.31,5.31,0,0,0,1,6.5,5.31,5.31,0,0,0,4.9,4.9,5.31,5.31,0,0,0,6.5,1,5.31,5.31,0,0,0,8.1,4.9,5.31,5.31,0,0,0,12,6.5,5.46,5.46,0,0,0,6.5,12Z\"/>\n",
              "  </svg>\n",
              "    </button>\n",
              "    <script>\n",
              "      (() => {\n",
              "      const buttonEl =\n",
              "        document.querySelector('#id_95f2e717-1384-4cc8-8eef-d75a57824d57 button.colab-df-generate');\n",
              "      buttonEl.style.display =\n",
              "        google.colab.kernel.accessAllowed ? 'block' : 'none';\n",
              "\n",
              "      buttonEl.onclick = () => {\n",
              "        google.colab.notebook.generateWithVariable('cv_res');\n",
              "      }\n",
              "      })();\n",
              "    </script>\n",
              "  </div>\n",
              "\n",
              "    </div>\n",
              "  </div>\n"
            ],
            "application/vnd.google.colaboratory.intrinsic+json": {
              "type": "dataframe",
              "variable_name": "cv_res",
              "summary": "{\n  \"name\": \"cv_res\",\n  \"rows\": 3,\n  \"fields\": [\n    {\n      \"column\": \"CrossValMeans\",\n      \"properties\": {\n        \"dtype\": \"number\",\n        \"std\": 0.06050857802800793,\n        \"min\": 0.2481998255870283,\n        \"max\": 0.3671229238012717,\n        \"num_unique_values\": 3,\n        \"samples\": [\n          0.2481998255870283,\n          0.3671229238012717,\n          0.3270736537529992\n        ],\n        \"semantic_type\": \"\",\n        \"description\": \"\"\n      }\n    },\n    {\n      \"column\": \"CrossValerrors\",\n      \"properties\": {\n        \"dtype\": \"number\",\n        \"std\": 0.011860271090217039,\n        \"min\": 0.05614698224754462,\n        \"max\": 0.07798656868913431,\n        \"num_unique_values\": 3,\n        \"samples\": [\n          0.05614698224754462,\n          0.0590497661103829,\n          0.07798656868913431\n        ],\n        \"semantic_type\": \"\",\n        \"description\": \"\"\n      }\n    },\n    {\n      \"column\": \"Algorithm\",\n      \"properties\": {\n        \"dtype\": \"string\",\n        \"num_unique_values\": 3,\n        \"samples\": [\n          \"CatBoostClassifier\",\n          \"LGBMClassifier\",\n          \"XGBClassifier\"\n        ],\n        \"semantic_type\": \"\",\n        \"description\": \"\"\n      }\n    }\n  ]\n}"
            }
          },
          "metadata": {},
          "execution_count": 15
        }
      ]
    },
    {
      "cell_type": "markdown",
      "source": [
        "# Creating first prediction"
      ],
      "metadata": {
        "id": "oOFAL-mg6WEs"
      }
    },
    {
      "cell_type": "code",
      "source": [
        "from sklearn.datasets import make_classification\n",
        "from sklearn.utils import class_weight\n",
        "from sklearn.metrics import accuracy_score, f1_score, classification_report\n",
        "\n",
        "# 1. Calculate class weights\n",
        "class_weights = class_weight.compute_class_weight(class_weight='balanced', classes=np.unique(y_train), y=y_train)\n",
        "class_weights_dict = dict(zip(np.unique(y_train), class_weights))\n",
        "\n",
        "# 2. Create and train the model with class weights\n",
        "model = LGBMClassifier(class_weight=class_weights_dict ,random_state=42, verbose = -1)\n",
        "model.fit(X_train, y_train)\n",
        "\n",
        "y_pred = model.predict(X_train)\n",
        "cm_ensemble = confusion_matrix(y_train, y_pred)\n",
        "disp = ConfusionMatrixDisplay(confusion_matrix=cm_ensemble)\n",
        "disp.plot()\n",
        "plt.show()\n"
      ],
      "metadata": {
        "id": "vNiLoiPx6Vh9",
        "colab": {
          "base_uri": "https://localhost:8080/",
          "height": 451
        },
        "outputId": "a13b577f-7b52-4ab3-d21b-e4a335f83880"
      },
      "execution_count": null,
      "outputs": [
        {
          "output_type": "display_data",
          "data": {
            "text/plain": [
              "<Figure size 640x480 with 2 Axes>"
            ],
            "image/png": "[encoded data removed]"
          },
          "metadata": {}
        }
      ]
    },
    {
      "cell_type": "markdown",
      "source": [
        "# Feature improtance plot"
      ],
      "metadata": {
        "id": "jL6q52bF6cVA"
      }
    },
    {
      "cell_type": "code",
      "source": [
        "def plot_feature_importance(model, feature_names=None, top_n=20, plot=True):\n",
        "\n",
        "    # Get feature importance\n",
        "    feature_importance = model.feature_importances_\n",
        "\n",
        "    # Get feature names\n",
        "    if feature_names is None:\n",
        "        feature_names = model.feature_name()\n",
        "\n",
        "    # Create DataFrame with feature names and importance scores\n",
        "    feature_importance_df = pd.DataFrame({'Feature': feature_names, 'Importance': feature_importance})\n",
        "\n",
        "    # Sort by importance and select top features\n",
        "    feature_importance_df = feature_importance_df.sort_values(by='Importance', ascending=False).head(top_n)\n",
        "\n",
        "    # Plot the feature importance\n",
        "    if plot:\n",
        "        plt.figure(figsize=(10, 10))\n",
        "        sns.barplot(x='Importance', y='Feature', data=feature_importance_df, palette='viridis')\n",
        "        plt.title('LightGBM Feature Importance')\n",
        "        plt.show()\n",
        "\n",
        "    return feature_importance_df\n",
        "\n",
        "feature_importance_df = plot_feature_importance(model,feature_names=X_train.columns)"
      ],
      "metadata": {
        "id": "7MusGCe06jKd",
        "colab": {
          "base_uri": "https://localhost:8080/",
          "height": 815
        },
        "outputId": "7f55b17b-ac8d-4cb0-db7b-c2d1b9f7ba68"
      },
      "execution_count": null,
      "outputs": [
        {
          "output_type": "stream",
          "name": "stderr",
          "text": [
            "<ipython-input-12-6bf95ccd349d>:19: FutureWarning: \n",
            "\n",
            "Passing `palette` without assigning `hue` is deprecated and will be removed in v0.14.0. Assign the `y` variable to `hue` and set `legend=False` for the same effect.\n",
            "\n",
            "  sns.barplot(x='Importance', y='Feature', data=feature_importance_df, palette='viridis')\n"
          ]
        },
        {
          "output_type": "display_data",
          "data": {
            "text/plain": [
              "<Figure size 1000x1000 with 1 Axes>"
            ],
            "image/png": "[encoded data removed]"
          },
          "metadata": {}
        }
      ]
    },
    {
      "cell_type": "markdown",
      "source": [
        "# Evaluation of the test data"
      ],
      "metadata": {
        "id": "AdEsIVSY6pPg"
      }
    },
    {
      "cell_type": "code",
      "source": [
        "# 5. Evaluation with emphasis on the minority class\n",
        "from sklearn.metrics import accuracy_score, recall_score, precision_score, f1_score\n",
        "\n",
        "y_pred = model.predict(X_val)\n",
        "\n",
        "print('Accuracy:', accuracy_score(y_val, y_pred))\n",
        "print('Recall:', recall_score(y_val, y_pred))\n",
        "print('Precision:', precision_score(y_val, y_pred))\n",
        "print('F1-Score:', f1_score(y_val, y_pred))\n",
        "\n",
        "\n",
        "cm_ensemble = confusion_matrix(y_val, y_pred)\n",
        "disp = ConfusionMatrixDisplay(confusion_matrix=cm_ensemble)\n",
        "disp.plot()\n",
        "plt.show()"
      ],
      "metadata": {
        "id": "CwQxeJXo6nli",
        "colab": {
          "base_uri": "https://localhost:8080/",
          "height": 518
        },
        "outputId": "25d9073c-9f67-43eb-c21a-307bea79a8ab"
      },
      "execution_count": null,
      "outputs": [
        {
          "output_type": "stream",
          "name": "stdout",
          "text": [
            "Accuracy: 0.678082191780822\n",
            "Recall: 0.36585365853658536\n",
            "Precision: 0.4166666666666667\n",
            "F1-Score: 0.38961038961038963\n"
          ]
        },
        {
          "output_type": "display_data",
          "data": {
            "text/plain": [
              "<Figure size 640x480 with 2 Axes>"
            ],
            "image/png": "[encoded data removed]"
          },
          "metadata": {}
        }
      ]
    },
    {
      "cell_type": "markdown",
      "source": [
        "# Shap Values and premutation score\n",
        "after the failure of the evalution to predict the result at a level that does not resemble at all the classification of the train set there is a need to"
      ],
      "metadata": {
        "id": "5GDClMlOX2o1"
      }
    },
    {
      "cell_type": "markdown",
      "source": [],
      "metadata": {
        "id": "WFZObyUaZVBg"
      }
    },
    {
      "cell_type": "code",
      "source": [
        "!pip install shap\n",
        "import shap\n",
        "from sklearn.metrics import classification_report\n",
        "from sklearn.model_selection import train_test_split\n",
        "\n",
        "clf = LGBMClassifier()\n",
        "clf.fit(X_train, y_train)\n",
        "\n",
        "# Make prediction on the testing data\n",
        "y_pred = clf.predict(X_val)\n",
        "\n",
        "# Classification Report\n",
        "print(classification_report(y_pred, y_val))"
      ],
      "metadata": {
        "colab": {
          "base_uri": "https://localhost:8080/"
        },
        "id": "ptA8r6G1ZVtZ",
        "outputId": "a36d77b6-8311-4011-d9d5-c7d4a4c8e924"
      },
      "execution_count": null,
      "outputs": [
        {
          "output_type": "stream",
          "name": "stdout",
          "text": [
            "Collecting shap\n",
            "  Downloading shap-0.45.0-cp310-cp310-manylinux_2_12_x86_64.manylinux2010_x86_64.manylinux_2_17_x86_64.manylinux2014_x86_64.whl (538 kB)\n",
            "\u001b[2K     \u001b[90m━━━━━━━━━━━━━━━━━━━━━━━━━━━━━━━━━━━━━━━━\u001b[0m \u001b[32m538.2/538.2 kB\u001b[0m \u001b[31m4.6 MB/s\u001b[0m eta \u001b[36m0:00:00\u001b[0m\n",
            "\u001b[?25hRequirement already satisfied: numpy in /usr/local/lib/python3.10/dist-packages (from shap) (1.25.2)\n",
            "Requirement already satisfied: scipy in /usr/local/lib/python3.10/dist-packages (from shap) (1.11.4)\n",
            "Requirement already satisfied: scikit-learn in /usr/local/lib/python3.10/dist-packages (from shap) (1.2.2)\n",
            "Requirement already satisfied: pandas in /usr/local/lib/python3.10/dist-packages (from shap) (2.0.3)\n",
            "Requirement already satisfied: tqdm>=4.27.0 in /usr/local/lib/python3.10/dist-packages (from shap) (4.66.2)\n",
            "Requirement already satisfied: packaging>20.9 in /usr/local/lib/python3.10/dist-packages (from shap) (24.0)\n",
            "Collecting slicer==0.0.7 (from shap)\n",
            "  Downloading slicer-0.0.7-py3-none-any.whl (14 kB)\n",
            "Requirement already satisfied: numba in /usr/local/lib/python3.10/dist-packages (from shap) (0.58.1)\n",
            "Requirement already satisfied: cloudpickle in /usr/local/lib/python3.10/dist-packages (from shap) (2.2.1)\n",
            "Requirement already satisfied: llvmlite<0.42,>=0.41.0dev0 in /usr/local/lib/python3.10/dist-packages (from numba->shap) (0.41.1)\n",
            "Requirement already satisfied: python-dateutil>=2.8.2 in /usr/local/lib/python3.10/dist-packages (from pandas->shap) (2.8.2)\n",
            "Requirement already satisfied: pytz>=2020.1 in /usr/local/lib/python3.10/dist-packages (from pandas->shap) (2023.4)\n",
            "Requirement already satisfied: tzdata>=2022.1 in /usr/local/lib/python3.10/dist-packages (from pandas->shap) (2024.1)\n",
            "Requirement already satisfied: joblib>=1.1.1 in /usr/local/lib/python3.10/dist-packages (from scikit-learn->shap) (1.4.0)\n",
            "Requirement already satisfied: threadpoolctl>=2.0.0 in /usr/local/lib/python3.10/dist-packages (from scikit-learn->shap) (3.4.0)\n",
            "Requirement already satisfied: six>=1.5 in /usr/local/lib/python3.10/dist-packages (from python-dateutil>=2.8.2->pandas->shap) (1.16.0)\n",
            "Installing collected packages: slicer, shap\n",
            "Successfully installed shap-0.45.0 slicer-0.0.7\n",
            "[LightGBM] [Warning] Found whitespace in feature_names, replace with underlines\n",
            "[LightGBM] [Info] Number of positive: 317, number of negative: 818\n",
            "[LightGBM] [Info] Auto-choosing row-wise multi-threading, the overhead of testing was 0.000230 seconds.\n",
            "You can set `force_row_wise=true` to remove the overhead.\n",
            "And if memory is not enough, you can set `force_col_wise=true`.\n",
            "[LightGBM] [Info] Total Bins 787\n",
            "[LightGBM] [Info] Number of data points in the train set: 1135, number of used features: 38\n",
            "[LightGBM] [Info] [binary:BoostFromScore]: pavg=0.279295 -> initscore=-0.947961\n",
            "[LightGBM] [Info] Start training from score -0.947961\n",
            "              precision    recall  f1-score   support\n",
            "\n",
            "           0       0.88      0.75      0.81       245\n",
            "           1       0.26      0.45      0.33        47\n",
            "\n",
            "    accuracy                           0.70       292\n",
            "   macro avg       0.57      0.60      0.57       292\n",
            "weighted avg       0.78      0.70      0.73       292\n",
            "\n"
          ]
        }
      ]
    },
    {
      "cell_type": "markdown",
      "source": [
        "# Hyperparameters tuning"
      ],
      "metadata": {
        "id": "2knAAO4C6vp2"
      }
    },
    {
      "cell_type": "markdown",
      "source": [
        "## LGBM Optuna Hyperparameters tuning\n",
        "tuning LGBM parameters using Optuna library"
      ],
      "metadata": {
        "id": "gwbUVWr37roY"
      }
    },
    {
      "cell_type": "code",
      "source": [
        "!pip install optuna\n",
        "import optuna\n",
        "import lightgbm as lgb\n",
        "from sklearn.model_selection import cross_validate, StratifiedKFold\n",
        "from sklearn.metrics import accuracy_score  # Or other suitable metric\n",
        "\n",
        "def objective_lgbm(trial):\n",
        "    params = {\n",
        "        'max_depth': trial.suggest_int('max_depth', 5, 15),\n",
        "        'num_leaves': trial.suggest_int('num_leaves', 2, 256),\n",
        "        'learning_rate': trial.suggest_float('learning_rate', 0.3, 1),\n",
        "        'feature_fraction': trial.suggest_float('feature_fraction', 0.4, 1.0),\n",
        "        'bagging_fraction': trial.suggest_float('bagging_fraction', 0.4, 1.0),\n",
        "        'bagging_freq': trial.suggest_int('bagging_freq', 1, 10),\n",
        "        'reg_alpha': trial.suggest_loguniform('reg_alpha', 1e-3, 0.1),\n",
        "        'reg_lambda': trial.suggest_loguniform('reg_lambda', 1e-1, 10.0),\n",
        "        'colsample_bytree': trial.suggest_float('colsample_bytree', 0.3, 0.9),\n",
        "        'subsample': trial.suggest_float('subsample', 0.8, 1.0),\n",
        "        'min_child_samples': trial.suggest_int('min_child_samples', 10, 50),\n",
        "    }\n",
        "    lgbParams = {\n",
        "        'is_unbalance': True,\n",
        "        'random_state': 42,\n",
        "        'metric': 'binary_logloss', # binary metric\n",
        "        \"boosting_type\": \"gbdt\", # Can experiment with other types\n",
        "        'objective': 'binary', # For binary classification\n",
        "    }\n",
        "\n",
        "    LGBM_model = lgb.LGBMClassifier(**params, **lgbParams)\n",
        "\n",
        "    cv = StratifiedKFold(n_splits=5, shuffle=True, random_state=42)\n",
        "    cv_results = cross_validate(LGBM_model, X_train, y_train, cv=cv, scoring='f1', return_train_score=False)\n",
        "\n",
        "    score = cv_results['test_score'].mean()\n",
        "    return score\n",
        "\n",
        "# Assuming you have your data in 'X_train' and 'y_train'\n",
        "\n",
        "study = optuna.create_study(direction='maximize', sampler=optuna.samplers.TPESampler())\n",
        "study.optimize(objective_lgbm, n_trials=50)\n",
        "\n",
        "best_params = study.best_params\n",
        "print(\"Best Hyperparameters for LGBM:\", best_params)\n",
        "\n",
        "optuna.visualization.plot_param_importances(study)"
      ],
      "metadata": {
        "id": "u6nRQU9M6yNH"
      },
      "execution_count": null,
      "outputs": []
    },
    {
      "cell_type": "code",
      "source": [
        "optuna_LGBM = {\n",
        "               'max_depth': 13,\n",
        "               'num_leaves': 147,\n",
        "               'learning_rate': 0.4500756157117973,\n",
        "               'feature_fraction': 0.7301992104097964,\n",
        "               'bagging_fraction': 0.9359450585018844,\n",
        "               'bagging_freq': 6, 'reg_alpha': 0.018888660125774434,\n",
        "               'reg_lambda': 0.1399392554580834,\n",
        "               'colsample_bytree': 0.7185635561648196,\n",
        "               'subsample': 0.9130070661805147,\n",
        "               'min_child_samples': 23\n",
        "               }\n",
        "lgbm_model = LGBMClassifier(**optuna_LGBM)\n",
        "lgbm_model.fit(X_train, y_train)\n",
        "\n",
        "y_pred = model.predict(X_test)\n",
        "\n",
        "print('Accuracy:', accuracy_score(y_test, y_pred))\n",
        "print('Recall:', recall_score(y_test, y_pred))\n",
        "print('Precision:', precision_score(y_test, y_pred))\n",
        "print('F1-Score:', f1_score(y_test, y_pred))\n",
        "\n",
        "\n",
        "cm_ensemble = confusion_matrix(y_test, y_pred)\n",
        "disp = ConfusionMatrixDisplay(confusion_matrix=cm_ensemble)\n",
        "disp.plot()\n",
        "plt.show()"
      ],
      "metadata": {
        "id": "1TIYN3lI73Kh"
      },
      "execution_count": null,
      "outputs": []
    },
    {
      "cell_type": "markdown",
      "source": [
        "## XGBoost Optuna"
      ],
      "metadata": {
        "id": "ZUAhGS6m8F4w"
      }
    }
  ]
}