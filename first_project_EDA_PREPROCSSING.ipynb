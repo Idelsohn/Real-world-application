{
  "nbformat": 4,
  "nbformat_minor": 0,
  "metadata": {
    "colab": {
      "provenance": [],
      "authorship_tag": "ABX9TyOs0xf8O+j3lFss27tlfj3E",
      "include_colab_link": true
    },
    "kernelspec": {
      "name": "python3",
      "display_name": "Python 3"
    },
    "language_info": {
      "name": "python"
    }
  },
  "cells": [
    {
      "cell_type": "markdown",
      "metadata": {
        "id": "view-in-github",
        "colab_type": "text"
      },
      "source": [
        "<a href=\"https://colab.research.google.com/github/Idelsohn/Real-world-application/blob/main/first_project_EDA_PREPROCSSING.ipynb\" target=\"_parent\"><img src=\"https://colab.research.google.com/assets/colab-badge.svg\" alt=\"Open In Colab\"/></a>"
      ]
    },
    {
      "cell_type": "markdown",
      "source": [
        "# Imports"
      ],
      "metadata": {
        "id": "l5kstyBIu_-N"
      }
    },
    {
      "cell_type": "code",
      "execution_count": null,
      "metadata": {
        "id": "BwmyYj78Yxo-",
        "colab": {
          "base_uri": "https://localhost:8080/"
        },
        "outputId": "2195086f-1759-4011-887e-a4e92ada3ab6"
      },
      "outputs": [
        {
          "output_type": "stream",
          "name": "stdout",
          "text": [
            "Collecting catboost\n",
            "  Downloading catboost-1.2.5-cp310-cp310-manylinux2014_x86_64.whl.metadata (1.2 kB)\n",
            "Requirement already satisfied: graphviz in /usr/local/lib/python3.10/dist-packages (from catboost) (0.20.3)\n",
            "Requirement already satisfied: matplotlib in /usr/local/lib/python3.10/dist-packages (from catboost) (3.7.1)\n",
            "Requirement already satisfied: numpy>=1.16.0 in /usr/local/lib/python3.10/dist-packages (from catboost) (1.26.4)\n",
            "Requirement already satisfied: pandas>=0.24 in /usr/local/lib/python3.10/dist-packages (from catboost) (2.1.4)\n",
            "Requirement already satisfied: scipy in /usr/local/lib/python3.10/dist-packages (from catboost) (1.13.1)\n",
            "Requirement already satisfied: plotly in /usr/local/lib/python3.10/dist-packages (from catboost) (5.15.0)\n",
            "Requirement already satisfied: six in /usr/local/lib/python3.10/dist-packages (from catboost) (1.16.0)\n",
            "Requirement already satisfied: python-dateutil>=2.8.2 in /usr/local/lib/python3.10/dist-packages (from pandas>=0.24->catboost) (2.8.2)\n",
            "Requirement already satisfied: pytz>=2020.1 in /usr/local/lib/python3.10/dist-packages (from pandas>=0.24->catboost) (2024.1)\n",
            "Requirement already satisfied: tzdata>=2022.1 in /usr/local/lib/python3.10/dist-packages (from pandas>=0.24->catboost) (2024.1)\n",
            "Requirement already satisfied: contourpy>=1.0.1 in /usr/local/lib/python3.10/dist-packages (from matplotlib->catboost) (1.2.1)\n",
            "Requirement already satisfied: cycler>=0.10 in /usr/local/lib/python3.10/dist-packages (from matplotlib->catboost) (0.12.1)\n",
            "Requirement already satisfied: fonttools>=4.22.0 in /usr/local/lib/python3.10/dist-packages (from matplotlib->catboost) (4.53.1)\n",
            "Requirement already satisfied: kiwisolver>=1.0.1 in /usr/local/lib/python3.10/dist-packages (from matplotlib->catboost) (1.4.5)\n",
            "Requirement already satisfied: packaging>=20.0 in /usr/local/lib/python3.10/dist-packages (from matplotlib->catboost) (24.1)\n",
            "Requirement already satisfied: pillow>=6.2.0 in /usr/local/lib/python3.10/dist-packages (from matplotlib->catboost) (9.4.0)\n",
            "Requirement already satisfied: pyparsing>=2.3.1 in /usr/local/lib/python3.10/dist-packages (from matplotlib->catboost) (3.1.2)\n",
            "Requirement already satisfied: tenacity>=6.2.0 in /usr/local/lib/python3.10/dist-packages (from plotly->catboost) (9.0.0)\n",
            "Downloading catboost-1.2.5-cp310-cp310-manylinux2014_x86_64.whl (98.2 MB)\n",
            "\u001b[2K   \u001b[90m━━━━━━━━━━━━━━━━━━━━━━━━━━━━━━━━━━━━━━━━\u001b[0m \u001b[32m98.2/98.2 MB\u001b[0m \u001b[31m7.2 MB/s\u001b[0m eta \u001b[36m0:00:00\u001b[0m\n",
            "\u001b[?25hInstalling collected packages: catboost\n",
            "Successfully installed catboost-1.2.5\n"
          ]
        },
        {
          "output_type": "stream",
          "name": "stderr",
          "text": [
            "/usr/local/lib/python3.10/dist-packages/dask/dataframe/__init__.py:42: FutureWarning: \n",
            "Dask dataframe query planning is disabled because dask-expr is not installed.\n",
            "\n",
            "You can install it with `pip install dask[dataframe]` or `conda install dask`.\n",
            "This will raise in a future version.\n",
            "\n",
            "  warnings.warn(msg, FutureWarning)\n"
          ]
        }
      ],
      "source": [
        "import pandas as pd\n",
        "import numpy as np\n",
        "import plotly.express as px\n",
        "import matplotlib.pyplot as plt\n",
        "import seaborn as sns\n",
        "\n",
        "\n",
        "### Sklearn libraries\n",
        "from sklearn.preprocessing import LabelEncoder\n",
        "# Encoders\n",
        "from sklearn.preprocessing import OneHotEncoder, LabelEncoder, PowerTransformer\n",
        "# Feature selection\n",
        "from sklearn.feature_selection import mutual_info_classif\n",
        "\n",
        "\n",
        "!pip install catboost\n",
        "#################### Models\n",
        "from xgboost import XGBClassifier\n",
        "from catboost import CatBoostClassifier\n",
        "from lightgbm import LGBMClassifier\n",
        "from sklearn.ensemble import RandomForestClassifier\n",
        "from sklearn.linear_model import RidgeClassifier, LogisticRegression\n",
        "\n",
        "#################### Actions\n",
        "from sklearn import set_config\n",
        "import os\n",
        "from sklearn.model_selection import cross_val_score\n",
        "from sklearn.preprocessing import FunctionTransformer\n",
        "from sklearn.model_selection import StratifiedKFold\n",
        "\n",
        "#\n",
        "from sklearn.model_selection import train_test_split\n",
        "from sklearn.model_selection import cross_val_score\n",
        "RANDOM_STATE = 42\n",
        "from sklearn.dummy import DummyClassifier\n",
        "from sklearn.tree import DecisionTreeClassifier\n",
        "from sklearn.metrics import accuracy_score\n",
        "\n",
        "from sklearn.metrics import  confusion_matrix\n",
        "from sklearn.metrics import ConfusionMatrixDisplay\n",
        "import numpy as np\n",
        "from sklearn.metrics import f1_score\n"
      ]
    },
    {
      "cell_type": "markdown",
      "source": [
        "# Configuration\n",
        "Run This Action one to convert the xlsx file into a csv file"
      ],
      "metadata": {
        "id": "UXO2CyX5ZsoL"
      }
    },
    {
      "cell_type": "code",
      "source": [
        "# Specify Path\n",
        "BASE_PATH_EXCEL = \"/content/sample_data/Project Intake database 03062024.xlsx\"\n",
        "\n",
        "# Read the excel file\n",
        "xlsx_data = pd.read_excel(BASE_PATH_EXCEL, sheet_name=None)\n",
        "\n",
        "# Iterate through the sheets\n",
        "for sheet_name, df in xlsx_data.items():\n",
        "    # Save each sheet as a separate CSV file\n",
        "    df.to_csv(f'{sheet_name}.csv', index=False)"
      ],
      "metadata": {
        "id": "uZvOKt5FY4hl"
      },
      "execution_count": null,
      "outputs": []
    },
    {
      "cell_type": "markdown",
      "source": [
        "### *Configuration values*\n",
        "We set some key values and set the dataframe"
      ],
      "metadata": {
        "id": "k1oHvxZmWd8G"
      }
    },
    {
      "cell_type": "code",
      "source": [
        "#Specify Details\n",
        "BASE_PATH = '/content/Project Intake Sheet.csv'\n",
        "columns = ['Support Request Support Request ID','Request Status','Regional Parent Name','Country Name',\n",
        "           'Probability (%)','Vertical','Category ','Required Support', 'Last 4Q Margin ',\n",
        "           'Last 4Q Revenue', 'Account name lookup ','Solution Complexity',\n",
        "           'Solution Priority','Product(s)','Customization Type', 'Estimated Revenue Max (Millions)',\n",
        "           'Estimated Margin (%)','Ship To Countries']\n",
        "\n",
        "#Read the file\n",
        "data = pd.read_csv(BASE_PATH)\n",
        "\n",
        "#Adjust the final to contain only the selected columns\n",
        "data = data[columns]\n",
        "\n",
        "# Filtering the data to contain only Cancelled and\n",
        "TARGET = 'Request Status'"
      ],
      "metadata": {
        "id": "NyMNJumNZ6yY"
      },
      "execution_count": null,
      "outputs": []
    },
    {
      "cell_type": "markdown",
      "source": [
        "# Find Different columns\n",
        "I had to develop a function to find the different columns between two CSV files."
      ],
      "metadata": {
        "id": "xwctcjle_JhR"
      }
    },
    {
      "cell_type": "code",
      "source": [
        "# # Specify Path\n",
        "# BASE_PATH_EXCEL = \"/content/sample_data/Prediction base 03042024.xlsx\"\n",
        "\n",
        "# # Read the excel file\n",
        "# xlsx_data = pd.read_excel(BASE_PATH_EXCEL, sheet_name=None)\n",
        "\n",
        "# # Iterate through the sheets\n",
        "# for sheet_name, df in xlsx_data.items():\n",
        "#     # Save each sheet as a separate CSV file\n",
        "#     df.to_csv(f'{sheet_name}2.csv', index=False)\n",
        "\n"
      ],
      "metadata": {
        "id": "n0srev_y7Ava"
      },
      "execution_count": null,
      "outputs": []
    },
    {
      "cell_type": "code",
      "source": [
        "# BASE_PATH_2 = '/content/Project Intake Sheet2.csv'\n",
        "# data_1 = pd.read_csv(BASE_PATH)\n",
        "# data_2 = pd.read_csv(BASE_PATH_2)\n",
        "# import pandas as pd\n",
        "\n",
        "# # Columns unique to df1\n",
        "# unique_cols_df1 = set(data_1.columns) - set(data_2.columns)\n",
        "# print(\"Columns unique to file1.csv:\", unique_cols_df1)\n",
        "\n",
        "# # Columns unique to df2\n",
        "# unique_cols_df2 = set(data_2.columns) - set(data_1.columns)\n",
        "# print(\"Columns unique to file2.csv:\", unique_cols_df2)\n"
      ],
      "metadata": {
        "id": "PfMZvmkT7pfD"
      },
      "execution_count": null,
      "outputs": []
    },
    {
      "cell_type": "markdown",
      "source": [
        "# **Preprocessing**\n",
        "In this Section I will perform actions that start to prepare the data for"
      ],
      "metadata": {
        "id": "qvmJXD9xH4U2"
      }
    },
    {
      "cell_type": "code",
      "source": [
        "# Table for first look\n",
        "def summary(df):\n",
        "    sum = pd.DataFrame(df.dtypes, columns=['dtypes'])\n",
        "    sum['missing#'] = df.isna().sum()\n",
        "    sum['missing%'] = (df.isna().sum())/len(df)\n",
        "    sum['uniques'] = df.nunique().values\n",
        "    sum['count'] = df.count().values\n",
        "    return sum\n",
        "\n",
        "summary(data).style.background_gradient(cmap='Blues')\n"
      ],
      "metadata": {
        "colab": {
          "base_uri": "https://localhost:8080/",
          "height": 614
        },
        "id": "FugHZk80V92y",
        "outputId": "4f1fdc01-3909-4a10-c911-85a35ed3e013"
      },
      "execution_count": null,
      "outputs": [
        {
          "output_type": "execute_result",
          "data": {
            "text/plain": [
              "<pandas.io.formats.style.Styler at 0x7ca908654df0>"
            ],
            "text/html": [
              "<style type=\"text/css\">\n",
              "#T_a82e4_row0_col1, #T_a82e4_row0_col2, #T_a82e4_row1_col1, #T_a82e4_row1_col2, #T_a82e4_row1_col3, #T_a82e4_row2_col1, #T_a82e4_row2_col2, #T_a82e4_row2_col3, #T_a82e4_row3_col1, #T_a82e4_row3_col2, #T_a82e4_row5_col1, #T_a82e4_row5_col2, #T_a82e4_row6_col1, #T_a82e4_row6_col2, #T_a82e4_row6_col3, #T_a82e4_row7_col1, #T_a82e4_row7_col2, #T_a82e4_row8_col1, #T_a82e4_row8_col2, #T_a82e4_row9_col1, #T_a82e4_row9_col2, #T_a82e4_row11_col3, #T_a82e4_row12_col3, #T_a82e4_row15_col1, #T_a82e4_row15_col2, #T_a82e4_row16_col4, #T_a82e4_row17_col1, #T_a82e4_row17_col2 {\n",
              "  background-color: #f7fbff;\n",
              "  color: #000000;\n",
              "}\n",
              "#T_a82e4_row0_col3, #T_a82e4_row0_col4, #T_a82e4_row1_col4, #T_a82e4_row2_col4, #T_a82e4_row3_col4, #T_a82e4_row5_col4, #T_a82e4_row6_col4, #T_a82e4_row7_col4, #T_a82e4_row8_col4, #T_a82e4_row9_col4, #T_a82e4_row15_col4, #T_a82e4_row16_col1, #T_a82e4_row16_col2, #T_a82e4_row17_col4 {\n",
              "  background-color: #08306b;\n",
              "  color: #f1f1f1;\n",
              "}\n",
              "#T_a82e4_row3_col3 {\n",
              "  background-color: #f4f9fe;\n",
              "  color: #000000;\n",
              "}\n",
              "#T_a82e4_row4_col1, #T_a82e4_row4_col2 {\n",
              "  background-color: #f2f7fd;\n",
              "  color: #000000;\n",
              "}\n",
              "#T_a82e4_row4_col3 {\n",
              "  background-color: #b8d5ea;\n",
              "  color: #000000;\n",
              "}\n",
              "#T_a82e4_row4_col4 {\n",
              "  background-color: #083776;\n",
              "  color: #f1f1f1;\n",
              "}\n",
              "#T_a82e4_row5_col3 {\n",
              "  background-color: #f6faff;\n",
              "  color: #000000;\n",
              "}\n",
              "#T_a82e4_row7_col3, #T_a82e4_row12_col1, #T_a82e4_row12_col2 {\n",
              "  background-color: #f3f8fe;\n",
              "  color: #000000;\n",
              "}\n",
              "#T_a82e4_row8_col3, #T_a82e4_row9_col3 {\n",
              "  background-color: #c9ddf0;\n",
              "  color: #000000;\n",
              "}\n",
              "#T_a82e4_row10_col1, #T_a82e4_row10_col2 {\n",
              "  background-color: #e3eef8;\n",
              "  color: #000000;\n",
              "}\n",
              "#T_a82e4_row10_col3 {\n",
              "  background-color: #bad6eb;\n",
              "  color: #000000;\n",
              "}\n",
              "#T_a82e4_row10_col4 {\n",
              "  background-color: #084b93;\n",
              "  color: #f1f1f1;\n",
              "}\n",
              "#T_a82e4_row11_col1, #T_a82e4_row11_col2 {\n",
              "  background-color: #f5fafe;\n",
              "  color: #000000;\n",
              "}\n",
              "#T_a82e4_row11_col4 {\n",
              "  background-color: #08326e;\n",
              "  color: #f1f1f1;\n",
              "}\n",
              "#T_a82e4_row12_col4 {\n",
              "  background-color: #083573;\n",
              "  color: #f1f1f1;\n",
              "}\n",
              "#T_a82e4_row13_col1, #T_a82e4_row13_col2 {\n",
              "  background-color: #eff6fc;\n",
              "  color: #000000;\n",
              "}\n",
              "#T_a82e4_row13_col3 {\n",
              "  background-color: #95c5df;\n",
              "  color: #000000;\n",
              "}\n",
              "#T_a82e4_row13_col4 {\n",
              "  background-color: #083a7a;\n",
              "  color: #f1f1f1;\n",
              "}\n",
              "#T_a82e4_row14_col1, #T_a82e4_row14_col2, #T_a82e4_row16_col3 {\n",
              "  background-color: #f5f9fe;\n",
              "  color: #000000;\n",
              "}\n",
              "#T_a82e4_row14_col3 {\n",
              "  background-color: #e4eff9;\n",
              "  color: #000000;\n",
              "}\n",
              "#T_a82e4_row14_col4 {\n",
              "  background-color: #083370;\n",
              "  color: #f1f1f1;\n",
              "}\n",
              "#T_a82e4_row15_col3 {\n",
              "  background-color: #edf4fc;\n",
              "  color: #000000;\n",
              "}\n",
              "#T_a82e4_row17_col3 {\n",
              "  background-color: #ecf4fb;\n",
              "  color: #000000;\n",
              "}\n",
              "</style>\n",
              "<table id=\"T_a82e4\" class=\"dataframe\">\n",
              "  <thead>\n",
              "    <tr>\n",
              "      <th class=\"blank level0\" >&nbsp;</th>\n",
              "      <th id=\"T_a82e4_level0_col0\" class=\"col_heading level0 col0\" >dtypes</th>\n",
              "      <th id=\"T_a82e4_level0_col1\" class=\"col_heading level0 col1\" >missing#</th>\n",
              "      <th id=\"T_a82e4_level0_col2\" class=\"col_heading level0 col2\" >missing%</th>\n",
              "      <th id=\"T_a82e4_level0_col3\" class=\"col_heading level0 col3\" >uniques</th>\n",
              "      <th id=\"T_a82e4_level0_col4\" class=\"col_heading level0 col4\" >count</th>\n",
              "    </tr>\n",
              "  </thead>\n",
              "  <tbody>\n",
              "    <tr>\n",
              "      <th id=\"T_a82e4_level0_row0\" class=\"row_heading level0 row0\" >Support Request Support Request ID</th>\n",
              "      <td id=\"T_a82e4_row0_col0\" class=\"data row0 col0\" >object</td>\n",
              "      <td id=\"T_a82e4_row0_col1\" class=\"data row0 col1\" >0</td>\n",
              "      <td id=\"T_a82e4_row0_col2\" class=\"data row0 col2\" >0.000000</td>\n",
              "      <td id=\"T_a82e4_row0_col3\" class=\"data row0 col3\" >2888</td>\n",
              "      <td id=\"T_a82e4_row0_col4\" class=\"data row0 col4\" >2894</td>\n",
              "    </tr>\n",
              "    <tr>\n",
              "      <th id=\"T_a82e4_level0_row1\" class=\"row_heading level0 row1\" >Request Status</th>\n",
              "      <td id=\"T_a82e4_row1_col0\" class=\"data row1 col0\" >object</td>\n",
              "      <td id=\"T_a82e4_row1_col1\" class=\"data row1 col1\" >0</td>\n",
              "      <td id=\"T_a82e4_row1_col2\" class=\"data row1 col2\" >0.000000</td>\n",
              "      <td id=\"T_a82e4_row1_col3\" class=\"data row1 col3\" >14</td>\n",
              "      <td id=\"T_a82e4_row1_col4\" class=\"data row1 col4\" >2894</td>\n",
              "    </tr>\n",
              "    <tr>\n",
              "      <th id=\"T_a82e4_level0_row2\" class=\"row_heading level0 row2\" >Regional Parent Name</th>\n",
              "      <td id=\"T_a82e4_row2_col0\" class=\"data row2 col0\" >object</td>\n",
              "      <td id=\"T_a82e4_row2_col1\" class=\"data row2 col1\" >0</td>\n",
              "      <td id=\"T_a82e4_row2_col2\" class=\"data row2 col2\" >0.000000</td>\n",
              "      <td id=\"T_a82e4_row2_col3\" class=\"data row2 col3\" >4</td>\n",
              "      <td id=\"T_a82e4_row2_col4\" class=\"data row2 col4\" >2894</td>\n",
              "    </tr>\n",
              "    <tr>\n",
              "      <th id=\"T_a82e4_level0_row3\" class=\"row_heading level0 row3\" >Country Name</th>\n",
              "      <td id=\"T_a82e4_row3_col0\" class=\"data row3 col0\" >object</td>\n",
              "      <td id=\"T_a82e4_row3_col1\" class=\"data row3 col1\" >0</td>\n",
              "      <td id=\"T_a82e4_row3_col2\" class=\"data row3 col2\" >0.000000</td>\n",
              "      <td id=\"T_a82e4_row3_col3\" class=\"data row3 col3\" >52</td>\n",
              "      <td id=\"T_a82e4_row3_col4\" class=\"data row3 col4\" >2894</td>\n",
              "    </tr>\n",
              "    <tr>\n",
              "      <th id=\"T_a82e4_level0_row4\" class=\"row_heading level0 row4\" >Probability (%)</th>\n",
              "      <td id=\"T_a82e4_row4_col0\" class=\"data row4 col0\" >object</td>\n",
              "      <td id=\"T_a82e4_row4_col1\" class=\"data row4 col1\" >54</td>\n",
              "      <td id=\"T_a82e4_row4_col2\" class=\"data row4 col2\" >0.018659</td>\n",
              "      <td id=\"T_a82e4_row4_col3\" class=\"data row4 col3\" >856</td>\n",
              "      <td id=\"T_a82e4_row4_col4\" class=\"data row4 col4\" >2840</td>\n",
              "    </tr>\n",
              "    <tr>\n",
              "      <th id=\"T_a82e4_level0_row5\" class=\"row_heading level0 row5\" >Vertical</th>\n",
              "      <td id=\"T_a82e4_row5_col0\" class=\"data row5 col0\" >object</td>\n",
              "      <td id=\"T_a82e4_row5_col1\" class=\"data row5 col1\" >0</td>\n",
              "      <td id=\"T_a82e4_row5_col2\" class=\"data row5 col2\" >0.000000</td>\n",
              "      <td id=\"T_a82e4_row5_col3\" class=\"data row5 col3\" >16</td>\n",
              "      <td id=\"T_a82e4_row5_col4\" class=\"data row5 col4\" >2894</td>\n",
              "    </tr>\n",
              "    <tr>\n",
              "      <th id=\"T_a82e4_level0_row6\" class=\"row_heading level0 row6\" >Category </th>\n",
              "      <td id=\"T_a82e4_row6_col0\" class=\"data row6 col0\" >object</td>\n",
              "      <td id=\"T_a82e4_row6_col1\" class=\"data row6 col1\" >0</td>\n",
              "      <td id=\"T_a82e4_row6_col2\" class=\"data row6 col2\" >0.000000</td>\n",
              "      <td id=\"T_a82e4_row6_col3\" class=\"data row6 col3\" >7</td>\n",
              "      <td id=\"T_a82e4_row6_col4\" class=\"data row6 col4\" >2894</td>\n",
              "    </tr>\n",
              "    <tr>\n",
              "      <th id=\"T_a82e4_level0_row7\" class=\"row_heading level0 row7\" >Required Support</th>\n",
              "      <td id=\"T_a82e4_row7_col0\" class=\"data row7 col0\" >object</td>\n",
              "      <td id=\"T_a82e4_row7_col1\" class=\"data row7 col1\" >0</td>\n",
              "      <td id=\"T_a82e4_row7_col2\" class=\"data row7 col2\" >0.000000</td>\n",
              "      <td id=\"T_a82e4_row7_col3\" class=\"data row7 col3\" >66</td>\n",
              "      <td id=\"T_a82e4_row7_col4\" class=\"data row7 col4\" >2894</td>\n",
              "    </tr>\n",
              "    <tr>\n",
              "      <th id=\"T_a82e4_level0_row8\" class=\"row_heading level0 row8\" >Last 4Q Margin </th>\n",
              "      <td id=\"T_a82e4_row8_col0\" class=\"data row8 col0\" >float64</td>\n",
              "      <td id=\"T_a82e4_row8_col1\" class=\"data row8 col1\" >0</td>\n",
              "      <td id=\"T_a82e4_row8_col2\" class=\"data row8 col2\" >0.000000</td>\n",
              "      <td id=\"T_a82e4_row8_col3\" class=\"data row8 col3\" >681</td>\n",
              "      <td id=\"T_a82e4_row8_col4\" class=\"data row8 col4\" >2894</td>\n",
              "    </tr>\n",
              "    <tr>\n",
              "      <th id=\"T_a82e4_level0_row9\" class=\"row_heading level0 row9\" >Last 4Q Revenue</th>\n",
              "      <td id=\"T_a82e4_row9_col0\" class=\"data row9 col0\" >float64</td>\n",
              "      <td id=\"T_a82e4_row9_col1\" class=\"data row9 col1\" >0</td>\n",
              "      <td id=\"T_a82e4_row9_col2\" class=\"data row9 col2\" >0.000000</td>\n",
              "      <td id=\"T_a82e4_row9_col3\" class=\"data row9 col3\" >681</td>\n",
              "      <td id=\"T_a82e4_row9_col4\" class=\"data row9 col4\" >2894</td>\n",
              "    </tr>\n",
              "    <tr>\n",
              "      <th id=\"T_a82e4_level0_row10\" class=\"row_heading level0 row10\" >Account name lookup </th>\n",
              "      <td id=\"T_a82e4_row10_col0\" class=\"data row10 col0\" >object</td>\n",
              "      <td id=\"T_a82e4_row10_col1\" class=\"data row10 col1\" >206</td>\n",
              "      <td id=\"T_a82e4_row10_col2\" class=\"data row10 col2\" >0.071182</td>\n",
              "      <td id=\"T_a82e4_row10_col3\" class=\"data row10 col3\" >836</td>\n",
              "      <td id=\"T_a82e4_row10_col4\" class=\"data row10 col4\" >2688</td>\n",
              "    </tr>\n",
              "    <tr>\n",
              "      <th id=\"T_a82e4_level0_row11\" class=\"row_heading level0 row11\" >Solution Complexity</th>\n",
              "      <td id=\"T_a82e4_row11_col0\" class=\"data row11 col0\" >object</td>\n",
              "      <td id=\"T_a82e4_row11_col1\" class=\"data row11 col1\" >16</td>\n",
              "      <td id=\"T_a82e4_row11_col2\" class=\"data row11 col2\" >0.005529</td>\n",
              "      <td id=\"T_a82e4_row11_col3\" class=\"data row11 col3\" >4</td>\n",
              "      <td id=\"T_a82e4_row11_col4\" class=\"data row11 col4\" >2878</td>\n",
              "    </tr>\n",
              "    <tr>\n",
              "      <th id=\"T_a82e4_level0_row12\" class=\"row_heading level0 row12\" >Solution Priority</th>\n",
              "      <td id=\"T_a82e4_row12_col0\" class=\"data row12 col0\" >object</td>\n",
              "      <td id=\"T_a82e4_row12_col1\" class=\"data row12 col1\" >41</td>\n",
              "      <td id=\"T_a82e4_row12_col2\" class=\"data row12 col2\" >0.014167</td>\n",
              "      <td id=\"T_a82e4_row12_col3\" class=\"data row12 col3\" >3</td>\n",
              "      <td id=\"T_a82e4_row12_col4\" class=\"data row12 col4\" >2853</td>\n",
              "    </tr>\n",
              "    <tr>\n",
              "      <th id=\"T_a82e4_level0_row13\" class=\"row_heading level0 row13\" >Product(s)</th>\n",
              "      <td id=\"T_a82e4_row13_col0\" class=\"data row13 col0\" >object</td>\n",
              "      <td id=\"T_a82e4_row13_col1\" class=\"data row13 col1\" >80</td>\n",
              "      <td id=\"T_a82e4_row13_col2\" class=\"data row13 col2\" >0.027643</td>\n",
              "      <td id=\"T_a82e4_row13_col3\" class=\"data row13 col3\" >1152</td>\n",
              "      <td id=\"T_a82e4_row13_col4\" class=\"data row13 col4\" >2814</td>\n",
              "    </tr>\n",
              "    <tr>\n",
              "      <th id=\"T_a82e4_level0_row14\" class=\"row_heading level0 row14\" >Customization Type</th>\n",
              "      <td id=\"T_a82e4_row14_col0\" class=\"data row14 col0\" >object</td>\n",
              "      <td id=\"T_a82e4_row14_col1\" class=\"data row14 col1\" >28</td>\n",
              "      <td id=\"T_a82e4_row14_col2\" class=\"data row14 col2\" >0.009675</td>\n",
              "      <td id=\"T_a82e4_row14_col3\" class=\"data row14 col3\" >283</td>\n",
              "      <td id=\"T_a82e4_row14_col4\" class=\"data row14 col4\" >2866</td>\n",
              "    </tr>\n",
              "    <tr>\n",
              "      <th id=\"T_a82e4_level0_row15\" class=\"row_heading level0 row15\" >Estimated Revenue Max (Millions)</th>\n",
              "      <td id=\"T_a82e4_row15_col0\" class=\"data row15 col0\" >float64</td>\n",
              "      <td id=\"T_a82e4_row15_col1\" class=\"data row15 col1\" >1</td>\n",
              "      <td id=\"T_a82e4_row15_col2\" class=\"data row15 col2\" >0.000346</td>\n",
              "      <td id=\"T_a82e4_row15_col3\" class=\"data row15 col3\" >159</td>\n",
              "      <td id=\"T_a82e4_row15_col4\" class=\"data row15 col4\" >2893</td>\n",
              "    </tr>\n",
              "    <tr>\n",
              "      <th id=\"T_a82e4_level0_row16\" class=\"row_heading level0 row16\" >Estimated Margin (%)</th>\n",
              "      <td id=\"T_a82e4_row16_col0\" class=\"data row16 col0\" >float64</td>\n",
              "      <td id=\"T_a82e4_row16_col1\" class=\"data row16 col1\" >1972</td>\n",
              "      <td id=\"T_a82e4_row16_col2\" class=\"data row16 col2\" >0.681410</td>\n",
              "      <td id=\"T_a82e4_row16_col3\" class=\"data row16 col3\" >37</td>\n",
              "      <td id=\"T_a82e4_row16_col4\" class=\"data row16 col4\" >922</td>\n",
              "    </tr>\n",
              "    <tr>\n",
              "      <th id=\"T_a82e4_level0_row17\" class=\"row_heading level0 row17\" >Ship To Countries</th>\n",
              "      <td id=\"T_a82e4_row17_col0\" class=\"data row17 col0\" >object</td>\n",
              "      <td id=\"T_a82e4_row17_col1\" class=\"data row17 col1\" >1</td>\n",
              "      <td id=\"T_a82e4_row17_col2\" class=\"data row17 col2\" >0.000346</td>\n",
              "      <td id=\"T_a82e4_row17_col3\" class=\"data row17 col3\" >168</td>\n",
              "      <td id=\"T_a82e4_row17_col4\" class=\"data row17 col4\" >2893</td>\n",
              "    </tr>\n",
              "  </tbody>\n",
              "</table>\n"
            ]
          },
          "metadata": {},
          "execution_count": 6
        }
      ]
    },
    {
      "cell_type": "code",
      "source": [
        "num_cols = data.select_dtypes(include=['float'])\n",
        "\n",
        "num_cols.describe().T\\\n",
        "    .style.bar(subset=['mean'], color=px.colors.qualitative.G10[2])\\\n",
        "    .background_gradient(subset=['std'], cmap='Blues')\\\n",
        "    .background_gradient(subset=['50%'], cmap='BuGn')"
      ],
      "metadata": {
        "colab": {
          "base_uri": "https://localhost:8080/",
          "height": 316
        },
        "id": "1gPvTAMEv3_f",
        "outputId": "fbc83e3d-52ec-42b0-b422-ea48b7f42a31"
      },
      "execution_count": null,
      "outputs": [
        {
          "output_type": "execute_result",
          "data": {
            "text/plain": [
              "<pandas.io.formats.style.Styler at 0x7ca8a5171bd0>"
            ],
            "text/html": [
              "<style type=\"text/css\">\n",
              "#T_befc1_row0_col1 {\n",
              "  width: 10em;\n",
              "  background: linear-gradient(90deg, #FF9900 21.9%, transparent 21.9%);\n",
              "}\n",
              "#T_befc1_row0_col2 {\n",
              "  background-color: #b8d5ea;\n",
              "  color: #000000;\n",
              "}\n",
              "#T_befc1_row0_col5 {\n",
              "  background-color: #e8f6fa;\n",
              "  color: #000000;\n",
              "}\n",
              "#T_befc1_row1_col1 {\n",
              "  width: 10em;\n",
              "  background: linear-gradient(90deg, #FF9900 100.0%, transparent 100.0%);\n",
              "}\n",
              "#T_befc1_row1_col2 {\n",
              "  background-color: #08306b;\n",
              "  color: #f1f1f1;\n",
              "}\n",
              "#T_befc1_row1_col5 {\n",
              "  background-color: #00441b;\n",
              "  color: #f1f1f1;\n",
              "}\n",
              "#T_befc1_row2_col1, #T_befc1_row3_col1 {\n",
              "  width: 10em;\n",
              "  background: linear-gradient(90deg, #FF9900 0.0%, transparent 0.0%);\n",
              "}\n",
              "#T_befc1_row2_col2, #T_befc1_row3_col2 {\n",
              "  background-color: #f7fbff;\n",
              "  color: #000000;\n",
              "}\n",
              "#T_befc1_row2_col5, #T_befc1_row3_col5 {\n",
              "  background-color: #f7fcfd;\n",
              "  color: #000000;\n",
              "}\n",
              "</style>\n",
              "<table id=\"T_befc1\" class=\"dataframe\">\n",
              "  <thead>\n",
              "    <tr>\n",
              "      <th class=\"blank level0\" >&nbsp;</th>\n",
              "      <th id=\"T_befc1_level0_col0\" class=\"col_heading level0 col0\" >count</th>\n",
              "      <th id=\"T_befc1_level0_col1\" class=\"col_heading level0 col1\" >mean</th>\n",
              "      <th id=\"T_befc1_level0_col2\" class=\"col_heading level0 col2\" >std</th>\n",
              "      <th id=\"T_befc1_level0_col3\" class=\"col_heading level0 col3\" >min</th>\n",
              "      <th id=\"T_befc1_level0_col4\" class=\"col_heading level0 col4\" >25%</th>\n",
              "      <th id=\"T_befc1_level0_col5\" class=\"col_heading level0 col5\" >50%</th>\n",
              "      <th id=\"T_befc1_level0_col6\" class=\"col_heading level0 col6\" >75%</th>\n",
              "      <th id=\"T_befc1_level0_col7\" class=\"col_heading level0 col7\" >max</th>\n",
              "    </tr>\n",
              "  </thead>\n",
              "  <tbody>\n",
              "    <tr>\n",
              "      <th id=\"T_befc1_level0_row0\" class=\"row_heading level0 row0\" >Last 4Q Margin </th>\n",
              "      <td id=\"T_befc1_row0_col0\" class=\"data row0 col0\" >2894.000000</td>\n",
              "      <td id=\"T_befc1_row0_col1\" class=\"data row0 col1\" >2668960.659603</td>\n",
              "      <td id=\"T_befc1_row0_col2\" class=\"data row0 col2\" >12480821.599877</td>\n",
              "      <td id=\"T_befc1_row0_col3\" class=\"data row0 col3\" >-2289058.740000</td>\n",
              "      <td id=\"T_befc1_row0_col4\" class=\"data row0 col4\" >0.000000</td>\n",
              "      <td id=\"T_befc1_row0_col5\" class=\"data row0 col5\" >151850.885000</td>\n",
              "      <td id=\"T_befc1_row0_col6\" class=\"data row0 col6\" >1099591.600000</td>\n",
              "      <td id=\"T_befc1_row0_col7\" class=\"data row0 col7\" >193471107.590000</td>\n",
              "    </tr>\n",
              "    <tr>\n",
              "      <th id=\"T_befc1_level0_row1\" class=\"row_heading level0 row1\" >Last 4Q Revenue</th>\n",
              "      <td id=\"T_befc1_row1_col0\" class=\"data row1 col0\" >2894.000000</td>\n",
              "      <td id=\"T_befc1_row1_col1\" class=\"data row1 col1\" >12174196.522702</td>\n",
              "      <td id=\"T_befc1_row1_col2\" class=\"data row1 col2\" >42087609.663366</td>\n",
              "      <td id=\"T_befc1_row1_col3\" class=\"data row1 col3\" >-332170.000000</td>\n",
              "      <td id=\"T_befc1_row1_col4\" class=\"data row1 col4\" >0.000000</td>\n",
              "      <td id=\"T_befc1_row1_col5\" class=\"data row1 col5\" >1389611.700000</td>\n",
              "      <td id=\"T_befc1_row1_col6\" class=\"data row1 col6\" >7871820.600000</td>\n",
              "      <td id=\"T_befc1_row1_col7\" class=\"data row1 col7\" >727180841.870000</td>\n",
              "    </tr>\n",
              "    <tr>\n",
              "      <th id=\"T_befc1_level0_row2\" class=\"row_heading level0 row2\" >Estimated Revenue Max (Millions)</th>\n",
              "      <td id=\"T_befc1_row2_col0\" class=\"data row2 col0\" >2893.000000</td>\n",
              "      <td id=\"T_befc1_row2_col1\" class=\"data row2 col1\" >15.244765</td>\n",
              "      <td id=\"T_befc1_row2_col2\" class=\"data row2 col2\" >62.951946</td>\n",
              "      <td id=\"T_befc1_row2_col3\" class=\"data row2 col3\" >-0.500000</td>\n",
              "      <td id=\"T_befc1_row2_col4\" class=\"data row2 col4\" >0.800000</td>\n",
              "      <td id=\"T_befc1_row2_col5\" class=\"data row2 col5\" >2.000000</td>\n",
              "      <td id=\"T_befc1_row2_col6\" class=\"data row2 col6\" >7.000000</td>\n",
              "      <td id=\"T_befc1_row2_col7\" class=\"data row2 col7\" >999.000000</td>\n",
              "    </tr>\n",
              "    <tr>\n",
              "      <th id=\"T_befc1_level0_row3\" class=\"row_heading level0 row3\" >Estimated Margin (%)</th>\n",
              "      <td id=\"T_befc1_row3_col0\" class=\"data row3 col0\" >922.000000</td>\n",
              "      <td id=\"T_befc1_row3_col1\" class=\"data row3 col1\" >0.160552</td>\n",
              "      <td id=\"T_befc1_row3_col2\" class=\"data row3 col2\" >0.091751</td>\n",
              "      <td id=\"T_befc1_row3_col3\" class=\"data row3 col3\" >-0.200000</td>\n",
              "      <td id=\"T_befc1_row3_col4\" class=\"data row3 col4\" >0.100000</td>\n",
              "      <td id=\"T_befc1_row3_col5\" class=\"data row3 col5\" >0.150000</td>\n",
              "      <td id=\"T_befc1_row3_col6\" class=\"data row3 col6\" >0.200000</td>\n",
              "      <td id=\"T_befc1_row3_col7\" class=\"data row3 col7\" >0.536000</td>\n",
              "    </tr>\n",
              "  </tbody>\n",
              "</table>\n"
            ]
          },
          "metadata": {},
          "execution_count": 7
        }
      ]
    },
    {
      "cell_type": "markdown",
      "source": [
        "### *Transform Y column*\n",
        "This function is used to remove all the unecessary rows for the classification"
      ],
      "metadata": {
        "id": "8vkmxUdnnIy0"
      }
    },
    {
      "cell_type": "code",
      "source": [
        "# Transform the Target column (This is the column we predicting on)\n",
        "\n",
        "# define base values\n",
        "Filter_list = ['Closed', 'Complete', 'Cancelled']\n",
        "switch_str = 'Closed'\n",
        "switcher_str = 'Complete'\n",
        "\n",
        "# Transform\n",
        "data = data.loc[data[TARGET].isin(Filter_list)]\n",
        "data[TARGET] =data[TARGET].replace(switch_str, switcher_str)"
      ],
      "metadata": {
        "colab": {
          "base_uri": "https://localhost:8080/"
        },
        "id": "3lvEn3D_lUvk",
        "outputId": "64a8e919-2c3c-4a79-bddc-26bf125c8a9c"
      },
      "execution_count": null,
      "outputs": [
        {
          "output_type": "stream",
          "name": "stderr",
          "text": [
            "<ipython-input-8-556adb5a61d7>:10: SettingWithCopyWarning: \n",
            "A value is trying to be set on a copy of a slice from a DataFrame.\n",
            "Try using .loc[row_indexer,col_indexer] = value instead\n",
            "\n",
            "See the caveats in the documentation: https://pandas.pydata.org/pandas-docs/stable/user_guide/indexing.html#returning-a-view-versus-a-copy\n",
            "  data[TARGET] =data[TARGET].replace(switch_str, switcher_str)\n"
          ]
        }
      ]
    },
    {
      "cell_type": "markdown",
      "source": [
        "## ***Deal with columns***\n",
        "our data is not the most polished with some columns having more than 500 different categories.\n",
        "To solve that I came up with a few possiblities"
      ],
      "metadata": {
        "id": "rEWI0cWgTcll"
      }
    },
    {
      "cell_type": "markdown",
      "source": [
        "### Problematic Columns\n",
        "I will be dealing with the following columns\n",
        "\n",
        "1.   Probability (%)\n",
        "2.   Request Status\n",
        "3.   Support Request Support Request ID\n",
        "\n"
      ],
      "metadata": {
        "id": "2auNGMSwfmti"
      }
    },
    {
      "cell_type": "code",
      "source": [
        "# 1 - Probability (%) - convert everything cell that isn't a number type to nan\n",
        "data['Probability (%)'] = data['Probability (%)'].str.replace('%', '')\n",
        "data['Probability (%)'] = pd.to_numeric(data['Probability (%)'], errors='coerce')\n",
        "\n",
        "# 2 - Request Status - convert it to 0 and 1 for the classification (Because it the Target data)\n",
        "target_encoder = {\n",
        "    'Cancelled':1,\n",
        "    'Complete':0}\n",
        "def transform_target_column(col):\n",
        "    col = col.map(target_encoder)\n",
        "    return col\n",
        "\n",
        "data[TARGET] = transform_target_column(data[TARGET])\n",
        "\n",
        "# 3 - Support Request Support Request ID - remove this id column\n",
        "print(data.shape)\n",
        "data = data.drop(columns = 'Support Request Support Request ID')\n",
        "data.shape"
      ],
      "metadata": {
        "colab": {
          "base_uri": "https://localhost:8080/"
        },
        "id": "WyRIIjHLXQkd",
        "outputId": "9872c1a1-276a-42e4-8dd9-9055cb87be85"
      },
      "execution_count": null,
      "outputs": [
        {
          "output_type": "stream",
          "name": "stdout",
          "text": [
            "(1622, 18)\n"
          ]
        },
        {
          "output_type": "stream",
          "name": "stderr",
          "text": [
            "<ipython-input-9-deef09dbfe03>:2: SettingWithCopyWarning: \n",
            "A value is trying to be set on a copy of a slice from a DataFrame.\n",
            "Try using .loc[row_indexer,col_indexer] = value instead\n",
            "\n",
            "See the caveats in the documentation: https://pandas.pydata.org/pandas-docs/stable/user_guide/indexing.html#returning-a-view-versus-a-copy\n",
            "  data['Probability (%)'] = data['Probability (%)'].str.replace('%', '')\n",
            "<ipython-input-9-deef09dbfe03>:3: SettingWithCopyWarning: \n",
            "A value is trying to be set on a copy of a slice from a DataFrame.\n",
            "Try using .loc[row_indexer,col_indexer] = value instead\n",
            "\n",
            "See the caveats in the documentation: https://pandas.pydata.org/pandas-docs/stable/user_guide/indexing.html#returning-a-view-versus-a-copy\n",
            "  data['Probability (%)'] = pd.to_numeric(data['Probability (%)'], errors='coerce')\n",
            "<ipython-input-9-deef09dbfe03>:13: SettingWithCopyWarning: \n",
            "A value is trying to be set on a copy of a slice from a DataFrame.\n",
            "Try using .loc[row_indexer,col_indexer] = value instead\n",
            "\n",
            "See the caveats in the documentation: https://pandas.pydata.org/pandas-docs/stable/user_guide/indexing.html#returning-a-view-versus-a-copy\n",
            "  data[TARGET] = transform_target_column(data[TARGET])\n"
          ]
        },
        {
          "output_type": "execute_result",
          "data": {
            "text/plain": [
              "(1622, 17)"
            ]
          },
          "metadata": {},
          "execution_count": 9
        }
      ]
    },
    {
      "cell_type": "markdown",
      "source": [
        "## Encoding options\n",
        "to encode the object type data (because float type is already fit to go machine learning process) after we processed it we can use following options option"
      ],
      "metadata": {
        "id": "qqgLUg6ZW6X7"
      }
    },
    {
      "cell_type": "markdown",
      "source": [
        "### *1. Keep top 10 labels*\n",
        "In our dataframe there are columns with dozens and even hunders of unique labels. It will be impossible and uneffective to the computer to deal with. The following function solves the problem by narrowing each column to have only the top 10 lables there and the rest will be regarded as others.\n",
        "\n",
        "Of course the 10 labels is only for the baseline and I will experiment with different amount of labels too.\n",
        "\n",
        "\n",
        "\n"
      ],
      "metadata": {
        "id": "kjBt02J-G7Hi"
      }
    },
    {
      "cell_type": "code",
      "source": [
        "# cols = data.columns\n",
        "# for col in cols:\n",
        "#     value_counts = data[col].value_counts(dropna = False)\n",
        "#     top_10_labels = value_counts.index[~value_counts.index.isna()][:10].tolist()\n",
        "#     mask = (data[col].notna()) & (~data[col].isin(top_10_labels))\n",
        "#     data.loc[mask, col] = \"Others\"\n",
        "\n",
        "# print(data)"
      ],
      "metadata": {
        "id": "Z2yAy6DNG5dx"
      },
      "execution_count": null,
      "outputs": []
    },
    {
      "cell_type": "markdown",
      "source": [
        "## *2. Get Dummies*\n",
        "converts every unique value in the column selected into a column of his own"
      ],
      "metadata": {
        "id": "4xZ00NSwx_Xh"
      }
    },
    {
      "cell_type": "code",
      "source": [
        "dummies_columns = ['Regional Parent Name', 'Category ', 'Vertical', 'Solution Complexity', 'Solution Priority']\n",
        "data = pd.get_dummies(data, columns = dummies_columns)\n"
      ],
      "metadata": {
        "id": "1aYMMrFcx-vU"
      },
      "execution_count": null,
      "outputs": []
    },
    {
      "cell_type": "markdown",
      "source": [
        "## *3. Frequency Encoding*\n",
        "a method where you replace every category with the amount of times it appears. For example the color \"blue\" comes up twice in the color column then the cells that contain this word will be replaced by 2"
      ],
      "metadata": {
        "id": "YVEvbv9sTuX3"
      }
    },
    {
      "cell_type": "code",
      "source": [
        "cat_cols = data.select_dtypes(exclude=[np.number])\n",
        "\n",
        "for col in cat_cols:\n",
        "  freq = data[col].value_counts() # Calculate frequencies\n",
        "\n",
        "  # Replace original values with frequencies\n",
        "  data[col] = data[col].map(freq)"
      ],
      "metadata": {
        "id": "ZC9LQimvTtTS"
      },
      "execution_count": null,
      "outputs": []
    },
    {
      "cell_type": "markdown",
      "source": [
        "## 4. Fill Nan's\n",
        "to predict with lower level algorithms there is a need to eliminate Nan's from the dataframe"
      ],
      "metadata": {
        "id": "SZpG_cZJFbSv"
      }
    },
    {
      "cell_type": "code",
      "source": [
        "data = data.fillna(-1)"
      ],
      "metadata": {
        "id": "7eYHQPyqFXBT"
      },
      "execution_count": null,
      "outputs": []
    },
    {
      "cell_type": "code",
      "source": [
        "# export the processed dataframe\n",
        "data.to_csv('Project_Intake_Sheet.csv', index=False)"
      ],
      "metadata": {
        "id": "gn6O6fRg8bSE"
      },
      "execution_count": null,
      "outputs": []
    },
    {
      "cell_type": "markdown",
      "source": [
        "# **EDA** - Exploratory Data Analysis"
      ],
      "metadata": {
        "id": "hRKHSBmndwuS"
      }
    },
    {
      "cell_type": "code",
      "source": [
        "fig, axs = plt.subplots(figsize = (12,5))\n",
        "plt.suptitle(\"Target Distribution\")\n",
        "\n",
        "axs.pie(\n",
        "        data[TARGET].value_counts(),\n",
        "        shadow = True,\n",
        "        explode=[.1 for i in range(data[TARGET].nunique())],\n",
        "        labels = data[TARGET].value_counts().index,\n",
        "        autopct='%1.f%%',\n",
        "    )\n",
        "\n",
        "plt.tight_layout()\n",
        "plt.show()"
      ],
      "metadata": {
        "colab": {
          "base_uri": "https://localhost:8080/",
          "height": 512
        },
        "id": "RSgBo_LIfrAT",
        "outputId": "cd61f377-f78d-46b5-dca4-35a45cae0925"
      },
      "execution_count": null,
      "outputs": [
        {
          "output_type": "display_data",
          "data": {
            "text/plain": [
              "<Figure size 1200x500 with 1 Axes>"
            ],
            "image/png": "[encoded data removed]"
          },
          "metadata": {}
        }
      ]
    },
    {
      "cell_type": "code",
      "source": [
        "# def corr_heat_map(df,scale=1) :\n",
        "#     # Calculate the correlation matrix\n",
        "#     correlation_matrix = df.corr()\n",
        "\n",
        "#     # Create a mask for the upper triangle\n",
        "#     mask = np.triu(np.ones_like(correlation_matrix, dtype=bool))\n",
        "\n",
        "#     # Set up the matplotlib figure\n",
        "#     plt.figure(figsize=(10//scale, 8//scale))\n",
        "\n",
        "#     # Define a custom color palette\n",
        "#     cmap = sns.diverging_palette(220, 20, as_cmap=True)\n",
        "\n",
        "#     # Draw the heatmap with the mask and correct aspect ratio\n",
        "#     sns.heatmap(correlation_matrix, mask=mask, cmap=cmap, vmax=.3, center=0,\n",
        "#                 square=True, linewidths=.5, cbar_kws={\"shrink\": 0.7})\n",
        "\n",
        "#     plt.title('Correlation Heatmap')\n",
        "\n",
        "# plt.figure(figsize=(20,7))\n",
        "\n",
        "# corr_heat_map(data)\n",
        "# plt.show()\n",
        "correlation = data.corr(method = 'pearson').abs()\n",
        "sorted_features = correlation['Request Status'].sort_values(ascending=False)\n",
        "sorted_features.head(20)\n"
      ],
      "metadata": {
        "id": "msEli0nBDqts",
        "colab": {
          "base_uri": "https://localhost:8080/",
          "height": 711
        },
        "outputId": "c9deda62-a2b1-4366-8c06-bbcab74cb9ab"
      },
      "execution_count": null,
      "outputs": [
        {
          "output_type": "execute_result",
          "data": {
            "text/plain": [
              "Request Status                1.000000\n",
              "Solution Complexity_Tier 3    0.176674\n",
              "Solution Complexity_Tier 2    0.164676\n",
              "Regional Parent Name_EMEA     0.111089\n",
              "Category _label               0.094166\n",
              "Required Support              0.082153\n",
              "Category _other               0.071140\n",
              "Regional Parent Name_APJ      0.069774\n",
              "Solution Priority_High        0.061283\n",
              "Regional Parent Name_AMER     0.057547\n",
              "Category _imaging             0.055838\n",
              "Vertical_Webtech              0.055212\n",
              "Vertical_Energy               0.054968\n",
              "Vertical_Hosting              0.052115\n",
              "Vertical_Communications       0.049363\n",
              "Probability (%)               0.047813\n",
              "Country Name                  0.044946\n",
              "Vertical_Education            0.044820\n",
              "Ship To Countries             0.041716\n",
              "Category _branding            0.034207\n",
              "Name: Request Status, dtype: float64"
            ],
            "text/html": [
              "<div>\n",
              "<style scoped>\n",
              "    .dataframe tbody tr th:only-of-type {\n",
              "        vertical-align: middle;\n",
              "    }\n",
              "\n",
              "    .dataframe tbody tr th {\n",
              "        vertical-align: top;\n",
              "    }\n",
              "\n",
              "    .dataframe thead th {\n",
              "        text-align: right;\n",
              "    }\n",
              "</style>\n",
              "<table border=\"1\" class=\"dataframe\">\n",
              "  <thead>\n",
              "    <tr style=\"text-align: right;\">\n",
              "      <th></th>\n",
              "      <th>Request Status</th>\n",
              "    </tr>\n",
              "  </thead>\n",
              "  <tbody>\n",
              "    <tr>\n",
              "      <th>Request Status</th>\n",
              "      <td>1.000000</td>\n",
              "    </tr>\n",
              "    <tr>\n",
              "      <th>Solution Complexity_Tier 3</th>\n",
              "      <td>0.176674</td>\n",
              "    </tr>\n",
              "    <tr>\n",
              "      <th>Solution Complexity_Tier 2</th>\n",
              "      <td>0.164676</td>\n",
              "    </tr>\n",
              "    <tr>\n",
              "      <th>Regional Parent Name_EMEA</th>\n",
              "      <td>0.111089</td>\n",
              "    </tr>\n",
              "    <tr>\n",
              "      <th>Category _label</th>\n",
              "      <td>0.094166</td>\n",
              "    </tr>\n",
              "    <tr>\n",
              "      <th>Required Support</th>\n",
              "      <td>0.082153</td>\n",
              "    </tr>\n",
              "    <tr>\n",
              "      <th>Category _other</th>\n",
              "      <td>0.071140</td>\n",
              "    </tr>\n",
              "    <tr>\n",
              "      <th>Regional Parent Name_APJ</th>\n",
              "      <td>0.069774</td>\n",
              "    </tr>\n",
              "    <tr>\n",
              "      <th>Solution Priority_High</th>\n",
              "      <td>0.061283</td>\n",
              "    </tr>\n",
              "    <tr>\n",
              "      <th>Regional Parent Name_AMER</th>\n",
              "      <td>0.057547</td>\n",
              "    </tr>\n",
              "    <tr>\n",
              "      <th>Category _imaging</th>\n",
              "      <td>0.055838</td>\n",
              "    </tr>\n",
              "    <tr>\n",
              "      <th>Vertical_Webtech</th>\n",
              "      <td>0.055212</td>\n",
              "    </tr>\n",
              "    <tr>\n",
              "      <th>Vertical_Energy</th>\n",
              "      <td>0.054968</td>\n",
              "    </tr>\n",
              "    <tr>\n",
              "      <th>Vertical_Hosting</th>\n",
              "      <td>0.052115</td>\n",
              "    </tr>\n",
              "    <tr>\n",
              "      <th>Vertical_Communications</th>\n",
              "      <td>0.049363</td>\n",
              "    </tr>\n",
              "    <tr>\n",
              "      <th>Probability (%)</th>\n",
              "      <td>0.047813</td>\n",
              "    </tr>\n",
              "    <tr>\n",
              "      <th>Country Name</th>\n",
              "      <td>0.044946</td>\n",
              "    </tr>\n",
              "    <tr>\n",
              "      <th>Vertical_Education</th>\n",
              "      <td>0.044820</td>\n",
              "    </tr>\n",
              "    <tr>\n",
              "      <th>Ship To Countries</th>\n",
              "      <td>0.041716</td>\n",
              "    </tr>\n",
              "    <tr>\n",
              "      <th>Category _branding</th>\n",
              "      <td>0.034207</td>\n",
              "    </tr>\n",
              "  </tbody>\n",
              "</table>\n",
              "</div><br><label><b>dtype:</b> float64</label>"
            ]
          },
          "metadata": {},
          "execution_count": 16
        }
      ]
    },
    {
      "cell_type": "markdown",
      "source": [
        "# Adversarial Validation\n",
        "Adversarial Validation is a very clever and very simple way to let us know if our test data and our training data are similar"
      ],
      "metadata": {
        "id": "zidnFxc_zV2f"
      }
    },
    {
      "cell_type": "code",
      "source": [
        "# Configuration\n",
        "# target_col = data[TARGET]\n",
        "# train = data.drop(columns = [TARGET])\n",
        "# X_train, X_temp, y_train, y_temp = train_test_split(train, target_col, test_size=0.3, random_state=RANDOM_STATE, stratify=target_col)\n",
        "# X_val, X_test, y_val, y_test = train_test_split(X_temp, y_temp, test_size=0.4, random_state=RANDOM_STATE, stratify=y_temp)\n",
        "# print(X_train.shape)\n",
        "# print(X_val.shape)\n",
        "# print(X_test.shape)\n",
        "# print(y_train.value_counts())\n",
        "# print(y_test.value_counts())\n",
        "\n",
        "# Configuration\n",
        "target_col = data[TARGET]\n",
        "train = data.drop(columns = [TARGET])\n",
        "X_train, X_test, y_train, y_test = train_test_split(train, target_col, test_size=0.2, random_state=RANDOM_STATE, stratify=target_col)\n",
        "print(X_train.shape)\n",
        "print(X_test.shape)"
      ],
      "metadata": {
        "colab": {
          "base_uri": "https://localhost:8080/"
        },
        "id": "2s8Lax3gUu_d",
        "outputId": "fc4fa747-0c78-495a-b54d-199153ef7ad8"
      },
      "execution_count": null,
      "outputs": [
        {
          "output_type": "stream",
          "name": "stdout",
          "text": [
            "(1297, 45)\n",
            "(325, 45)\n"
          ]
        }
      ]
    },
    {
      "cell_type": "code",
      "source": [
        "from sklearn.ensemble import RandomForestClassifier\n",
        "from sklearn.model_selection import cross_val_predict\n",
        "from sklearn.metrics import roc_auc_score\n",
        "\n",
        "X =  pd.concat([X_train, X_test], axis=0)\n",
        "y = [0] * len(X_train) + [1] * len(X_test)\n",
        "\n",
        "model = XGBClassifier(random_state=RANDOM_STATE)\n",
        "cv_preds = cross_val_predict(model, X, y, cv=5, n_jobs=-1, method='predict_proba')\n",
        "\n",
        "score = roc_auc_score(y_true=y, y_score=cv_preds[:,1])\n",
        "print(f\"roc-auc score: {score:0.3f}\")"
      ],
      "metadata": {
        "colab": {
          "base_uri": "https://localhost:8080/"
        },
        "id": "7b9LYDCT0FmO",
        "outputId": "dd89347c-cab8-421d-b86c-3a2c23556e69"
      },
      "execution_count": null,
      "outputs": [
        {
          "output_type": "stream",
          "name": "stdout",
          "text": [
            "roc-auc score: 0.539\n"
          ]
        }
      ]
    },
    {
      "cell_type": "markdown",
      "source": [
        "Since the roc-auc score is about 0.5, we have a confirmation that train and test are from the same distribution"
      ],
      "metadata": {
        "id": "3c8KoodE3ZVD"
      }
    },
    {
      "cell_type": "markdown",
      "source": [
        "# **Baseline** - creating a deafult baseline model\n",
        "Created two baselines -\n",
        "\n",
        "1)  an estimation of f1 score across different models\n",
        "\n",
        "2) LGBM model with no hyperparameter tuning but with class weights"
      ],
      "metadata": {
        "id": "3IZehkDGFttq"
      }
    },
    {
      "cell_type": "code",
      "source": [
        "cv = StratifiedKFold(n_splits=10, shuffle=True, random_state=RANDOM_STATE)\n",
        "classifiers = [\n",
        "    CatBoostClassifier(verbose = False),\n",
        "    LGBMClassifier(),\n",
        "    XGBClassifier(),\n",
        "    DecisionTreeClassifier()\n",
        "]\n",
        "cv_results = []\n",
        "for classifier in classifiers :\n",
        "    cv_results.append(cross_val_score(classifier, X_train, y = y_train,\n",
        "        scoring = \"f1\", cv = cv, n_jobs=4))\n",
        "\n",
        "cv_means = []\n",
        "cv_std = []\n",
        "for cv_result in cv_results:\n",
        "    cv_means.append(cv_result.mean())\n",
        "    cv_std.append(cv_result.std())\n",
        "\n",
        "cv_res = pd.DataFrame({\n",
        "    \"CrossValMeans\":cv_means,\n",
        "    \"CrossValerrors\": cv_std,\n",
        "    \"Algorithm\":[\"CatBoostClassifier\", \"LGBMClassifier\", \"XGBClassifier\", \"DecisionTreeClassifier\"]\n",
        "})\n",
        "\n",
        "cv_res"
      ],
      "metadata": {
        "id": "SbacyIUAabwq",
        "colab": {
          "base_uri": "https://localhost:8080/",
          "height": 175
        },
        "outputId": "900df515-046a-45ae-9611-c84020b31584"
      },
      "execution_count": null,
      "outputs": [
        {
          "output_type": "execute_result",
          "data": {
            "text/plain": [
              "   CrossValMeans  CrossValerrors               Algorithm\n",
              "0       0.239312        0.088935      CatBoostClassifier\n",
              "1       0.320786        0.090153          LGBMClassifier\n",
              "2       0.318145        0.061606           XGBClassifier\n",
              "3       0.368600        0.062167  DecisionTreeClassifier"
            ],
            "text/html": [
              "\n",
              "  <div id=\"df-622bd944-5022-4c69-99f0-f07e11e96327\" class=\"colab-df-container\">\n",
              "    <div>\n",
              "<style scoped>\n",
              "    .dataframe tbody tr th:only-of-type {\n",
              "        vertical-align: middle;\n",
              "    }\n",
              "\n",
              "    .dataframe tbody tr th {\n",
              "        vertical-align: top;\n",
              "    }\n",
              "\n",
              "    .dataframe thead th {\n",
              "        text-align: right;\n",
              "    }\n",
              "</style>\n",
              "<table border=\"1\" class=\"dataframe\">\n",
              "  <thead>\n",
              "    <tr style=\"text-align: right;\">\n",
              "      <th></th>\n",
              "      <th>CrossValMeans</th>\n",
              "      <th>CrossValerrors</th>\n",
              "      <th>Algorithm</th>\n",
              "    </tr>\n",
              "  </thead>\n",
              "  <tbody>\n",
              "    <tr>\n",
              "      <th>0</th>\n",
              "      <td>0.239312</td>\n",
              "      <td>0.088935</td>\n",
              "      <td>CatBoostClassifier</td>\n",
              "    </tr>\n",
              "    <tr>\n",
              "      <th>1</th>\n",
              "      <td>0.320786</td>\n",
              "      <td>0.090153</td>\n",
              "      <td>LGBMClassifier</td>\n",
              "    </tr>\n",
              "    <tr>\n",
              "      <th>2</th>\n",
              "      <td>0.318145</td>\n",
              "      <td>0.061606</td>\n",
              "      <td>XGBClassifier</td>\n",
              "    </tr>\n",
              "    <tr>\n",
              "      <th>3</th>\n",
              "      <td>0.368600</td>\n",
              "      <td>0.062167</td>\n",
              "      <td>DecisionTreeClassifier</td>\n",
              "    </tr>\n",
              "  </tbody>\n",
              "</table>\n",
              "</div>\n",
              "    <div class=\"colab-df-buttons\">\n",
              "\n",
              "  <div class=\"colab-df-container\">\n",
              "    <button class=\"colab-df-convert\" onclick=\"convertToInteractive('df-622bd944-5022-4c69-99f0-f07e11e96327')\"\n",
              "            title=\"Convert this dataframe to an interactive table.\"\n",
              "            style=\"display:none;\">\n",
              "\n",
              "  <svg xmlns=\"http://www.w3.org/2000/svg\" height=\"24px\" viewBox=\"0 -960 960 960\">\n",
              "    <path d=\"M120-120v-720h720v720H120Zm60-500h600v-160H180v160Zm220 220h160v-160H400v160Zm0 220h160v-160H400v160ZM180-400h160v-160H180v160Zm440 0h160v-160H620v160ZM180-180h160v-160H180v160Zm440 0h160v-160H620v160Z\"/>\n",
              "  </svg>\n",
              "    </button>\n",
              "\n",
              "  <style>\n",
              "    .colab-df-container {\n",
              "      display:flex;\n",
              "      gap: 12px;\n",
              "    }\n",
              "\n",
              "    .colab-df-convert {\n",
              "      background-color: #E8F0FE;\n",
              "      border: none;\n",
              "      border-radius: 50%;\n",
              "      cursor: pointer;\n",
              "      display: none;\n",
              "      fill: #1967D2;\n",
              "      height: 32px;\n",
              "      padding: 0 0 0 0;\n",
              "      width: 32px;\n",
              "    }\n",
              "\n",
              "    .colab-df-convert:hover {\n",
              "      background-color: #E2EBFA;\n",
              "      box-shadow: 0px 1px 2px rgba(60, 64, 67, 0.3), 0px 1px 3px 1px rgba(60, 64, 67, 0.15);\n",
              "      fill: #174EA6;\n",
              "    }\n",
              "\n",
              "    .colab-df-buttons div {\n",
              "      margin-bottom: 4px;\n",
              "    }\n",
              "\n",
              "    [theme=dark] .colab-df-convert {\n",
              "      background-color: #3B4455;\n",
              "      fill: #D2E3FC;\n",
              "    }\n",
              "\n",
              "    [theme=dark] .colab-df-convert:hover {\n",
              "      background-color: #434B5C;\n",
              "      box-shadow: 0px 1px 3px 1px rgba(0, 0, 0, 0.15);\n",
              "      filter: drop-shadow(0px 1px 2px rgba(0, 0, 0, 0.3));\n",
              "      fill: #FFFFFF;\n",
              "    }\n",
              "  </style>\n",
              "\n",
              "    <script>\n",
              "      const buttonEl =\n",
              "        document.querySelector('#df-622bd944-5022-4c69-99f0-f07e11e96327 button.colab-df-convert');\n",
              "      buttonEl.style.display =\n",
              "        google.colab.kernel.accessAllowed ? 'block' : 'none';\n",
              "\n",
              "      async function convertToInteractive(key) {\n",
              "        const element = document.querySelector('#df-622bd944-5022-4c69-99f0-f07e11e96327');\n",
              "        const dataTable =\n",
              "          await google.colab.kernel.invokeFunction('convertToInteractive',\n",
              "                                                    [key], {});\n",
              "        if (!dataTable) return;\n",
              "\n",
              "        const docLinkHtml = 'Like what you see? Visit the ' +\n",
              "          '<a target=\"_blank\" href=https://colab.research.google.com/notebooks/data_table.ipynb>data table notebook</a>'\n",
              "          + ' to learn more about interactive tables.';\n",
              "        element.innerHTML = '';\n",
              "        dataTable['output_type'] = 'display_data';\n",
              "        await google.colab.output.renderOutput(dataTable, element);\n",
              "        const docLink = document.createElement('div');\n",
              "        docLink.innerHTML = docLinkHtml;\n",
              "        element.appendChild(docLink);\n",
              "      }\n",
              "    </script>\n",
              "  </div>\n",
              "\n",
              "\n",
              "<div id=\"df-a5cc30bb-b953-4a19-a169-7b15ff2315db\">\n",
              "  <button class=\"colab-df-quickchart\" onclick=\"quickchart('df-a5cc30bb-b953-4a19-a169-7b15ff2315db')\"\n",
              "            title=\"Suggest charts\"\n",
              "            style=\"display:none;\">\n",
              "\n",
              "<svg xmlns=\"http://www.w3.org/2000/svg\" height=\"24px\"viewBox=\"0 0 24 24\"\n",
              "     width=\"24px\">\n",
              "    <g>\n",
              "        <path d=\"M19 3H5c-1.1 0-2 .9-2 2v14c0 1.1.9 2 2 2h14c1.1 0 2-.9 2-2V5c0-1.1-.9-2-2-2zM9 17H7v-7h2v7zm4 0h-2V7h2v10zm4 0h-2v-4h2v4z\"/>\n",
              "    </g>\n",
              "</svg>\n",
              "  </button>\n",
              "\n",
              "<style>\n",
              "  .colab-df-quickchart {\n",
              "      --bg-color: #E8F0FE;\n",
              "      --fill-color: #1967D2;\n",
              "      --hover-bg-color: #E2EBFA;\n",
              "      --hover-fill-color: #174EA6;\n",
              "      --disabled-fill-color: #AAA;\n",
              "      --disabled-bg-color: #DDD;\n",
              "  }\n",
              "\n",
              "  [theme=dark] .colab-df-quickchart {\n",
              "      --bg-color: #3B4455;\n",
              "      --fill-color: #D2E3FC;\n",
              "      --hover-bg-color: #434B5C;\n",
              "      --hover-fill-color: #FFFFFF;\n",
              "      --disabled-bg-color: #3B4455;\n",
              "      --disabled-fill-color: #666;\n",
              "  }\n",
              "\n",
              "  .colab-df-quickchart {\n",
              "    background-color: var(--bg-color);\n",
              "    border: none;\n",
              "    border-radius: 50%;\n",
              "    cursor: pointer;\n",
              "    display: none;\n",
              "    fill: var(--fill-color);\n",
              "    height: 32px;\n",
              "    padding: 0;\n",
              "    width: 32px;\n",
              "  }\n",
              "\n",
              "  .colab-df-quickchart:hover {\n",
              "    background-color: var(--hover-bg-color);\n",
              "    box-shadow: 0 1px 2px rgba(60, 64, 67, 0.3), 0 1px 3px 1px rgba(60, 64, 67, 0.15);\n",
              "    fill: var(--button-hover-fill-color);\n",
              "  }\n",
              "\n",
              "  .colab-df-quickchart-complete:disabled,\n",
              "  .colab-df-quickchart-complete:disabled:hover {\n",
              "    background-color: var(--disabled-bg-color);\n",
              "    fill: var(--disabled-fill-color);\n",
              "    box-shadow: none;\n",
              "  }\n",
              "\n",
              "  .colab-df-spinner {\n",
              "    border: 2px solid var(--fill-color);\n",
              "    border-color: transparent;\n",
              "    border-bottom-color: var(--fill-color);\n",
              "    animation:\n",
              "      spin 1s steps(1) infinite;\n",
              "  }\n",
              "\n",
              "  @keyframes spin {\n",
              "    0% {\n",
              "      border-color: transparent;\n",
              "      border-bottom-color: var(--fill-color);\n",
              "      border-left-color: var(--fill-color);\n",
              "    }\n",
              "    20% {\n",
              "      border-color: transparent;\n",
              "      border-left-color: var(--fill-color);\n",
              "      border-top-color: var(--fill-color);\n",
              "    }\n",
              "    30% {\n",
              "      border-color: transparent;\n",
              "      border-left-color: var(--fill-color);\n",
              "      border-top-color: var(--fill-color);\n",
              "      border-right-color: var(--fill-color);\n",
              "    }\n",
              "    40% {\n",
              "      border-color: transparent;\n",
              "      border-right-color: var(--fill-color);\n",
              "      border-top-color: var(--fill-color);\n",
              "    }\n",
              "    60% {\n",
              "      border-color: transparent;\n",
              "      border-right-color: var(--fill-color);\n",
              "    }\n",
              "    80% {\n",
              "      border-color: transparent;\n",
              "      border-right-color: var(--fill-color);\n",
              "      border-bottom-color: var(--fill-color);\n",
              "    }\n",
              "    90% {\n",
              "      border-color: transparent;\n",
              "      border-bottom-color: var(--fill-color);\n",
              "    }\n",
              "  }\n",
              "</style>\n",
              "\n",
              "  <script>\n",
              "    async function quickchart(key) {\n",
              "      const quickchartButtonEl =\n",
              "        document.querySelector('#' + key + ' button');\n",
              "      quickchartButtonEl.disabled = true;  // To prevent multiple clicks.\n",
              "      quickchartButtonEl.classList.add('colab-df-spinner');\n",
              "      try {\n",
              "        const charts = await google.colab.kernel.invokeFunction(\n",
              "            'suggestCharts', [key], {});\n",
              "      } catch (error) {\n",
              "        console.error('Error during call to suggestCharts:', error);\n",
              "      }\n",
              "      quickchartButtonEl.classList.remove('colab-df-spinner');\n",
              "      quickchartButtonEl.classList.add('colab-df-quickchart-complete');\n",
              "    }\n",
              "    (() => {\n",
              "      let quickchartButtonEl =\n",
              "        document.querySelector('#df-a5cc30bb-b953-4a19-a169-7b15ff2315db button');\n",
              "      quickchartButtonEl.style.display =\n",
              "        google.colab.kernel.accessAllowed ? 'block' : 'none';\n",
              "    })();\n",
              "  </script>\n",
              "</div>\n",
              "\n",
              "  <div id=\"id_7afcb053-4846-4c75-ab21-e78f11c8f37b\">\n",
              "    <style>\n",
              "      .colab-df-generate {\n",
              "        background-color: #E8F0FE;\n",
              "        border: none;\n",
              "        border-radius: 50%;\n",
              "        cursor: pointer;\n",
              "        display: none;\n",
              "        fill: #1967D2;\n",
              "        height: 32px;\n",
              "        padding: 0 0 0 0;\n",
              "        width: 32px;\n",
              "      }\n",
              "\n",
              "      .colab-df-generate:hover {\n",
              "        background-color: #E2EBFA;\n",
              "        box-shadow: 0px 1px 2px rgba(60, 64, 67, 0.3), 0px 1px 3px 1px rgba(60, 64, 67, 0.15);\n",
              "        fill: #174EA6;\n",
              "      }\n",
              "\n",
              "      [theme=dark] .colab-df-generate {\n",
              "        background-color: #3B4455;\n",
              "        fill: #D2E3FC;\n",
              "      }\n",
              "\n",
              "      [theme=dark] .colab-df-generate:hover {\n",
              "        background-color: #434B5C;\n",
              "        box-shadow: 0px 1px 3px 1px rgba(0, 0, 0, 0.15);\n",
              "        filter: drop-shadow(0px 1px 2px rgba(0, 0, 0, 0.3));\n",
              "        fill: #FFFFFF;\n",
              "      }\n",
              "    </style>\n",
              "    <button class=\"colab-df-generate\" onclick=\"generateWithVariable('cv_res')\"\n",
              "            title=\"Generate code using this dataframe.\"\n",
              "            style=\"display:none;\">\n",
              "\n",
              "  <svg xmlns=\"http://www.w3.org/2000/svg\" height=\"24px\"viewBox=\"0 0 24 24\"\n",
              "       width=\"24px\">\n",
              "    <path d=\"M7,19H8.4L18.45,9,17,7.55,7,17.6ZM5,21V16.75L18.45,3.32a2,2,0,0,1,2.83,0l1.4,1.43a1.91,1.91,0,0,1,.58,1.4,1.91,1.91,0,0,1-.58,1.4L9.25,21ZM18.45,9,17,7.55Zm-12,3A5.31,5.31,0,0,0,4.9,8.1,5.31,5.31,0,0,0,1,6.5,5.31,5.31,0,0,0,4.9,4.9,5.31,5.31,0,0,0,6.5,1,5.31,5.31,0,0,0,8.1,4.9,5.31,5.31,0,0,0,12,6.5,5.46,5.46,0,0,0,6.5,12Z\"/>\n",
              "  </svg>\n",
              "    </button>\n",
              "    <script>\n",
              "      (() => {\n",
              "      const buttonEl =\n",
              "        document.querySelector('#id_7afcb053-4846-4c75-ab21-e78f11c8f37b button.colab-df-generate');\n",
              "      buttonEl.style.display =\n",
              "        google.colab.kernel.accessAllowed ? 'block' : 'none';\n",
              "\n",
              "      buttonEl.onclick = () => {\n",
              "        google.colab.notebook.generateWithVariable('cv_res');\n",
              "      }\n",
              "      })();\n",
              "    </script>\n",
              "  </div>\n",
              "\n",
              "    </div>\n",
              "  </div>\n"
            ],
            "application/vnd.google.colaboratory.intrinsic+json": {
              "type": "dataframe",
              "variable_name": "cv_res",
              "summary": "{\n  \"name\": \"cv_res\",\n  \"rows\": 4,\n  \"fields\": [\n    {\n      \"column\": \"CrossValMeans\",\n      \"properties\": {\n        \"dtype\": \"number\",\n        \"std\": 0.0535468650011849,\n        \"min\": 0.2393117722012302,\n        \"max\": 0.36860036233700644,\n        \"num_unique_values\": 4,\n        \"samples\": [\n          0.32078602952349106,\n          0.36860036233700644,\n          0.2393117722012302\n        ],\n        \"semantic_type\": \"\",\n        \"description\": \"\"\n      }\n    },\n    {\n      \"column\": \"CrossValerrors\",\n      \"properties\": {\n        \"dtype\": \"number\",\n        \"std\": 0.01597754293413012,\n        \"min\": 0.06160562828814411,\n        \"max\": 0.09015332060264988,\n        \"num_unique_values\": 4,\n        \"samples\": [\n          0.09015332060264988,\n          0.062167162185664315,\n          0.08893476752659187\n        ],\n        \"semantic_type\": \"\",\n        \"description\": \"\"\n      }\n    },\n    {\n      \"column\": \"Algorithm\",\n      \"properties\": {\n        \"dtype\": \"string\",\n        \"num_unique_values\": 4,\n        \"samples\": [\n          \"LGBMClassifier\",\n          \"DecisionTreeClassifier\",\n          \"CatBoostClassifier\"\n        ],\n        \"semantic_type\": \"\",\n        \"description\": \"\"\n      }\n    }\n  ]\n}"
            }
          },
          "metadata": {},
          "execution_count": 19
        }
      ]
    },
    {
      "cell_type": "markdown",
      "source": [
        "### Decision Tree Classifier visualization\n",
        "Present the Decision Tree to the costumer in order to understand  "
      ],
      "metadata": {
        "id": "5njBXx-3kTvg"
      }
    },
    {
      "cell_type": "code",
      "source": [
        "from sklearn import tree\n",
        "from sklearn.datasets import load_iris\n",
        "import graphviz\n",
        "\n",
        "# 2. Fit Decision Tree\n",
        "clf = tree.DecisionTreeClassifier(max_depth=5)  # Control tree depth for readability\n",
        "model = clf.fit(X_train, y_train)\n",
        "\n",
        "\n",
        "# 3. Render Visualization using graphviz\n",
        "dot_data = tree.export_graphviz(model, out_file=None,\n",
        "                                feature_names=X_train.columns,\n",
        "                                class_names=['Complete','Cancelled'],\n",
        "                                filled=True, rounded=True)\n",
        "graph = graphviz.Source(dot_data)\n",
        "\n",
        "# 4. Display or Save\n",
        "graph.render(\"iris_tree\")  # Creates a file named \"iris_tree.pdf\"\n",
        "# OR to display inline\n",
        "graph"
      ],
      "metadata": {
        "colab": {
          "base_uri": "https://localhost:8080/",
          "height": 936
        },
        "id": "nzjWKAcckwCV",
        "outputId": "e080b78b-a52b-47b1-fd92-3053f2d2d5be"
      },
      "execution_count": null,
      "outputs": [
        {
          "output_type": "execute_result",
          "data": {
            "image/svg+xml": "<?xml version=\"1.0\" encoding=\"UTF-8\" standalone=\"no\"?>\n<!DOCTYPE svg PUBLIC \"-//W3C//DTD SVG 1.1//EN\"\n \"http://www.w3.org/Graphics/SVG/1.1/DTD/svg11.dtd\">\n<!-- Generated by graphviz version 2.43.0 (0)\n -->\n<!-- Title: Tree Pages: 1 -->\n<svg width=\"2289pt\" height=\"671pt\"\n viewBox=\"0.00 0.00 2288.50 671.00\" xmlns=\"http://www.w3.org/2000/svg\" xmlns:xlink=\"http://www.w3.org/1999/xlink\">\n<g id=\"graph0\" class=\"graph\" transform=\"scale(1 1) rotate(0) translate(4 667)\">\n<title>Tree</title>\n<polygon fill=\"white\" stroke=\"transparent\" points=\"-4,4 -4,-667 2284.5,-667 2284.5,4 -4,4\"/>\n<!-- 0 -->\n<g id=\"node1\" class=\"node\">\n<title>0</title>\n<path fill=\"#efb286\" stroke=\"black\" d=\"M1453,-663C1453,-663 1297,-663 1297,-663 1291,-663 1285,-657 1285,-651 1285,-651 1285,-592 1285,-592 1285,-586 1291,-580 1297,-580 1297,-580 1453,-580 1453,-580 1459,-580 1465,-586 1465,-592 1465,-592 1465,-651 1465,-651 1465,-657 1459,-663 1453,-663\"/>\n<text text-anchor=\"middle\" x=\"1375\" y=\"-647.8\" font-family=\"Helvetica,sans-Serif\" font-size=\"14.00\">Required Support &lt;= 221.0</text>\n<text text-anchor=\"middle\" x=\"1375\" y=\"-632.8\" font-family=\"Helvetica,sans-Serif\" font-size=\"14.00\">gini = 0.402</text>\n<text text-anchor=\"middle\" x=\"1375\" y=\"-617.8\" font-family=\"Helvetica,sans-Serif\" font-size=\"14.00\">samples = 1297</text>\n<text text-anchor=\"middle\" x=\"1375\" y=\"-602.8\" font-family=\"Helvetica,sans-Serif\" font-size=\"14.00\">value = [935, 362]</text>\n<text text-anchor=\"middle\" x=\"1375\" y=\"-587.8\" font-family=\"Helvetica,sans-Serif\" font-size=\"14.00\">class = Complete</text>\n</g>\n<!-- 1 -->\n<g id=\"node2\" class=\"node\">\n<title>1</title>\n<path fill=\"#f2c19e\" stroke=\"black\" d=\"M1312.5,-544C1312.5,-544 1181.5,-544 1181.5,-544 1175.5,-544 1169.5,-538 1169.5,-532 1169.5,-532 1169.5,-473 1169.5,-473 1169.5,-467 1175.5,-461 1181.5,-461 1181.5,-461 1312.5,-461 1312.5,-461 1318.5,-461 1324.5,-467 1324.5,-473 1324.5,-473 1324.5,-532 1324.5,-532 1324.5,-538 1318.5,-544 1312.5,-544\"/>\n<text text-anchor=\"middle\" x=\"1247\" y=\"-528.8\" font-family=\"Helvetica,sans-Serif\" font-size=\"14.00\">Probability (%) &lt;= 0.95</text>\n<text text-anchor=\"middle\" x=\"1247\" y=\"-513.8\" font-family=\"Helvetica,sans-Serif\" font-size=\"14.00\">gini = 0.447</text>\n<text text-anchor=\"middle\" x=\"1247\" y=\"-498.8\" font-family=\"Helvetica,sans-Serif\" font-size=\"14.00\">samples = 866</text>\n<text text-anchor=\"middle\" x=\"1247\" y=\"-483.8\" font-family=\"Helvetica,sans-Serif\" font-size=\"14.00\">value = [574, 292]</text>\n<text text-anchor=\"middle\" x=\"1247\" y=\"-468.8\" font-family=\"Helvetica,sans-Serif\" font-size=\"14.00\">class = Complete</text>\n</g>\n<!-- 0&#45;&gt;1 -->\n<g id=\"edge1\" class=\"edge\">\n<title>0&#45;&gt;1</title>\n<path fill=\"none\" stroke=\"black\" d=\"M1330.59,-579.91C1320.36,-570.56 1309.4,-560.54 1298.89,-550.93\"/>\n<polygon fill=\"black\" stroke=\"black\" points=\"1301.07,-548.18 1291.33,-544.02 1296.35,-553.35 1301.07,-548.18\"/>\n<text text-anchor=\"middle\" x=\"1292.45\" y=\"-565.3\" font-family=\"Helvetica,sans-Serif\" font-size=\"14.00\">True</text>\n</g>\n<!-- 26 -->\n<g id=\"node27\" class=\"node\">\n<title>26</title>\n<path fill=\"#ea995f\" stroke=\"black\" d=\"M1630.5,-544C1630.5,-544 1475.5,-544 1475.5,-544 1469.5,-544 1463.5,-538 1463.5,-532 1463.5,-532 1463.5,-473 1463.5,-473 1463.5,-467 1469.5,-461 1475.5,-461 1475.5,-461 1630.5,-461 1630.5,-461 1636.5,-461 1642.5,-467 1642.5,-473 1642.5,-473 1642.5,-532 1642.5,-532 1642.5,-538 1636.5,-544 1630.5,-544\"/>\n<text text-anchor=\"middle\" x=\"1553\" y=\"-528.8\" font-family=\"Helvetica,sans-Serif\" font-size=\"14.00\">Vertical_Webtech &lt;= 811.0</text>\n<text text-anchor=\"middle\" x=\"1553\" y=\"-513.8\" font-family=\"Helvetica,sans-Serif\" font-size=\"14.00\">gini = 0.272</text>\n<text text-anchor=\"middle\" x=\"1553\" y=\"-498.8\" font-family=\"Helvetica,sans-Serif\" font-size=\"14.00\">samples = 431</text>\n<text text-anchor=\"middle\" x=\"1553\" y=\"-483.8\" font-family=\"Helvetica,sans-Serif\" font-size=\"14.00\">value = [361, 70]</text>\n<text text-anchor=\"middle\" x=\"1553\" y=\"-468.8\" font-family=\"Helvetica,sans-Serif\" font-size=\"14.00\">class = Complete</text>\n</g>\n<!-- 0&#45;&gt;26 -->\n<g id=\"edge26\" class=\"edge\">\n<title>0&#45;&gt;26</title>\n<path fill=\"none\" stroke=\"black\" d=\"M1436.76,-579.91C1451.67,-570.11 1467.71,-559.56 1482.97,-549.53\"/>\n<polygon fill=\"black\" stroke=\"black\" points=\"1484.92,-552.44 1491.35,-544.02 1481.07,-546.59 1484.92,-552.44\"/>\n<text text-anchor=\"middle\" x=\"1486.29\" y=\"-564.8\" font-family=\"Helvetica,sans-Serif\" font-size=\"14.00\">False</text>\n</g>\n<!-- 2 -->\n<g id=\"node3\" class=\"node\">\n<title>2</title>\n<path fill=\"#f3c6a6\" stroke=\"black\" d=\"M867,-425C867,-425 729,-425 729,-425 723,-425 717,-419 717,-413 717,-413 717,-354 717,-354 717,-348 723,-342 729,-342 729,-342 867,-342 867,-342 873,-342 879,-348 879,-354 879,-354 879,-413 879,-413 879,-419 873,-425 867,-425\"/>\n<text text-anchor=\"middle\" x=\"798\" y=\"-409.8\" font-family=\"Helvetica,sans-Serif\" font-size=\"14.00\">Country Name &lt;= 101.0</text>\n<text text-anchor=\"middle\" x=\"798\" y=\"-394.8\" font-family=\"Helvetica,sans-Serif\" font-size=\"14.00\">gini = 0.458</text>\n<text text-anchor=\"middle\" x=\"798\" y=\"-379.8\" font-family=\"Helvetica,sans-Serif\" font-size=\"14.00\">samples = 808</text>\n<text text-anchor=\"middle\" x=\"798\" y=\"-364.8\" font-family=\"Helvetica,sans-Serif\" font-size=\"14.00\">value = [521, 287]</text>\n<text text-anchor=\"middle\" x=\"798\" y=\"-349.8\" font-family=\"Helvetica,sans-Serif\" font-size=\"14.00\">class = Complete</text>\n</g>\n<!-- 1&#45;&gt;2 -->\n<g id=\"edge2\" class=\"edge\">\n<title>1&#45;&gt;2</title>\n<path fill=\"none\" stroke=\"black\" d=\"M1169.3,-481.25C1091.4,-460.95 971.49,-429.71 889.14,-408.25\"/>\n<polygon fill=\"black\" stroke=\"black\" points=\"889.85,-404.82 879.29,-405.68 888.09,-411.59 889.85,-404.82\"/>\n</g>\n<!-- 17 -->\n<g id=\"node18\" class=\"node\">\n<title>17</title>\n<path fill=\"#e78d4c\" stroke=\"black\" d=\"M1375.5,-425C1375.5,-425 1118.5,-425 1118.5,-425 1112.5,-425 1106.5,-419 1106.5,-413 1106.5,-413 1106.5,-354 1106.5,-354 1106.5,-348 1112.5,-342 1118.5,-342 1118.5,-342 1375.5,-342 1375.5,-342 1381.5,-342 1387.5,-348 1387.5,-354 1387.5,-354 1387.5,-413 1387.5,-413 1387.5,-419 1381.5,-425 1375.5,-425\"/>\n<text text-anchor=\"middle\" x=\"1247\" y=\"-409.8\" font-family=\"Helvetica,sans-Serif\" font-size=\"14.00\">Estimated Revenue Max (Millions) &lt;= 0.225</text>\n<text text-anchor=\"middle\" x=\"1247\" y=\"-394.8\" font-family=\"Helvetica,sans-Serif\" font-size=\"14.00\">gini = 0.158</text>\n<text text-anchor=\"middle\" x=\"1247\" y=\"-379.8\" font-family=\"Helvetica,sans-Serif\" font-size=\"14.00\">samples = 58</text>\n<text text-anchor=\"middle\" x=\"1247\" y=\"-364.8\" font-family=\"Helvetica,sans-Serif\" font-size=\"14.00\">value = [53, 5]</text>\n<text text-anchor=\"middle\" x=\"1247\" y=\"-349.8\" font-family=\"Helvetica,sans-Serif\" font-size=\"14.00\">class = Complete</text>\n</g>\n<!-- 1&#45;&gt;17 -->\n<g id=\"edge17\" class=\"edge\">\n<title>1&#45;&gt;17</title>\n<path fill=\"none\" stroke=\"black\" d=\"M1247,-460.91C1247,-452.65 1247,-443.86 1247,-435.3\"/>\n<polygon fill=\"black\" stroke=\"black\" points=\"1250.5,-435.02 1247,-425.02 1243.5,-435.02 1250.5,-435.02\"/>\n</g>\n<!-- 3 -->\n<g id=\"node4\" class=\"node\">\n<title>3</title>\n<path fill=\"#f8dfcd\" stroke=\"black\" d=\"M536,-306C536,-306 380,-306 380,-306 374,-306 368,-300 368,-294 368,-294 368,-235 368,-235 368,-229 374,-223 380,-223 380,-223 536,-223 536,-223 542,-223 548,-229 548,-235 548,-235 548,-294 548,-294 548,-300 542,-306 536,-306\"/>\n<text text-anchor=\"middle\" x=\"458\" y=\"-290.8\" font-family=\"Helvetica,sans-Serif\" font-size=\"14.00\">Required Support &lt;= 161.0</text>\n<text text-anchor=\"middle\" x=\"458\" y=\"-275.8\" font-family=\"Helvetica,sans-Serif\" font-size=\"14.00\">gini = 0.49</text>\n<text text-anchor=\"middle\" x=\"458\" y=\"-260.8\" font-family=\"Helvetica,sans-Serif\" font-size=\"14.00\">samples = 360</text>\n<text text-anchor=\"middle\" x=\"458\" y=\"-245.8\" font-family=\"Helvetica,sans-Serif\" font-size=\"14.00\">value = [206, 154]</text>\n<text text-anchor=\"middle\" x=\"458\" y=\"-230.8\" font-family=\"Helvetica,sans-Serif\" font-size=\"14.00\">class = Complete</text>\n</g>\n<!-- 2&#45;&gt;3 -->\n<g id=\"edge3\" class=\"edge\">\n<title>2&#45;&gt;3</title>\n<path fill=\"none\" stroke=\"black\" d=\"M716.99,-354.62C669.29,-338.21 608.58,-317.32 557.92,-299.89\"/>\n<polygon fill=\"black\" stroke=\"black\" points=\"558.85,-296.5 548.26,-296.56 556.58,-303.12 558.85,-296.5\"/>\n</g>\n<!-- 10 -->\n<g id=\"node11\" class=\"node\">\n<title>10</title>\n<path fill=\"#f0b68d\" stroke=\"black\" d=\"M906,-306C906,-306 690,-306 690,-306 684,-306 678,-300 678,-294 678,-294 678,-235 678,-235 678,-229 684,-223 690,-223 690,-223 906,-223 906,-223 912,-223 918,-229 918,-235 918,-235 918,-294 918,-294 918,-300 912,-306 906,-306\"/>\n<text text-anchor=\"middle\" x=\"798\" y=\"-290.8\" font-family=\"Helvetica,sans-Serif\" font-size=\"14.00\">Regional Parent Name_GC &lt;= 811.0</text>\n<text text-anchor=\"middle\" x=\"798\" y=\"-275.8\" font-family=\"Helvetica,sans-Serif\" font-size=\"14.00\">gini = 0.417</text>\n<text text-anchor=\"middle\" x=\"798\" y=\"-260.8\" font-family=\"Helvetica,sans-Serif\" font-size=\"14.00\">samples = 448</text>\n<text text-anchor=\"middle\" x=\"798\" y=\"-245.8\" font-family=\"Helvetica,sans-Serif\" font-size=\"14.00\">value = [315, 133]</text>\n<text text-anchor=\"middle\" x=\"798\" y=\"-230.8\" font-family=\"Helvetica,sans-Serif\" font-size=\"14.00\">class = Complete</text>\n</g>\n<!-- 2&#45;&gt;10 -->\n<g id=\"edge10\" class=\"edge\">\n<title>2&#45;&gt;10</title>\n<path fill=\"none\" stroke=\"black\" d=\"M798,-341.91C798,-333.65 798,-324.86 798,-316.3\"/>\n<polygon fill=\"black\" stroke=\"black\" points=\"801.5,-316.02 798,-306.02 794.5,-316.02 801.5,-316.02\"/>\n</g>\n<!-- 4 -->\n<g id=\"node5\" class=\"node\">\n<title>4</title>\n<path fill=\"#f4c8a8\" stroke=\"black\" d=\"M329.5,-187C329.5,-187 72.5,-187 72.5,-187 66.5,-187 60.5,-181 60.5,-175 60.5,-175 60.5,-116 60.5,-116 60.5,-110 66.5,-104 72.5,-104 72.5,-104 329.5,-104 329.5,-104 335.5,-104 341.5,-110 341.5,-116 341.5,-116 341.5,-175 341.5,-175 341.5,-181 335.5,-187 329.5,-187\"/>\n<text text-anchor=\"middle\" x=\"201\" y=\"-171.8\" font-family=\"Helvetica,sans-Serif\" font-size=\"14.00\">Estimated Revenue Max (Millions) &lt;= 1.825</text>\n<text text-anchor=\"middle\" x=\"201\" y=\"-156.8\" font-family=\"Helvetica,sans-Serif\" font-size=\"14.00\">gini = 0.461</text>\n<text text-anchor=\"middle\" x=\"201\" y=\"-141.8\" font-family=\"Helvetica,sans-Serif\" font-size=\"14.00\">samples = 175</text>\n<text text-anchor=\"middle\" x=\"201\" y=\"-126.8\" font-family=\"Helvetica,sans-Serif\" font-size=\"14.00\">value = [112, 63]</text>\n<text text-anchor=\"middle\" x=\"201\" y=\"-111.8\" font-family=\"Helvetica,sans-Serif\" font-size=\"14.00\">class = Complete</text>\n</g>\n<!-- 3&#45;&gt;4 -->\n<g id=\"edge4\" class=\"edge\">\n<title>3&#45;&gt;4</title>\n<path fill=\"none\" stroke=\"black\" d=\"M368.84,-222.91C346.41,-212.7 322.21,-201.68 299.37,-191.28\"/>\n<polygon fill=\"black\" stroke=\"black\" points=\"300.56,-187.98 290.01,-187.02 297.66,-194.35 300.56,-187.98\"/>\n</g>\n<!-- 7 -->\n<g id=\"node8\" class=\"node\">\n<title>7</title>\n<path fill=\"#fefbf9\" stroke=\"black\" d=\"M526.5,-187C526.5,-187 389.5,-187 389.5,-187 383.5,-187 377.5,-181 377.5,-175 377.5,-175 377.5,-116 377.5,-116 377.5,-110 383.5,-104 389.5,-104 389.5,-104 526.5,-104 526.5,-104 532.5,-104 538.5,-110 538.5,-116 538.5,-116 538.5,-175 538.5,-175 538.5,-181 532.5,-187 526.5,-187\"/>\n<text text-anchor=\"middle\" x=\"458\" y=\"-171.8\" font-family=\"Helvetica,sans-Serif\" font-size=\"14.00\">Vertical_Retail &lt;= 811.0</text>\n<text text-anchor=\"middle\" x=\"458\" y=\"-156.8\" font-family=\"Helvetica,sans-Serif\" font-size=\"14.00\">gini = 0.5</text>\n<text text-anchor=\"middle\" x=\"458\" y=\"-141.8\" font-family=\"Helvetica,sans-Serif\" font-size=\"14.00\">samples = 185</text>\n<text text-anchor=\"middle\" x=\"458\" y=\"-126.8\" font-family=\"Helvetica,sans-Serif\" font-size=\"14.00\">value = [94, 91]</text>\n<text text-anchor=\"middle\" x=\"458\" y=\"-111.8\" font-family=\"Helvetica,sans-Serif\" font-size=\"14.00\">class = Complete</text>\n</g>\n<!-- 3&#45;&gt;7 -->\n<g id=\"edge7\" class=\"edge\">\n<title>3&#45;&gt;7</title>\n<path fill=\"none\" stroke=\"black\" d=\"M458,-222.91C458,-214.65 458,-205.86 458,-197.3\"/>\n<polygon fill=\"black\" stroke=\"black\" points=\"461.5,-197.02 458,-187.02 454.5,-197.02 461.5,-197.02\"/>\n</g>\n<!-- 5 -->\n<g id=\"node6\" class=\"node\">\n<title>5</title>\n<path fill=\"#eda775\" stroke=\"black\" d=\"M110,-68C110,-68 12,-68 12,-68 6,-68 0,-62 0,-56 0,-56 0,-12 0,-12 0,-6 6,0 12,0 12,0 110,0 110,0 116,0 122,-6 122,-12 122,-12 122,-56 122,-56 122,-62 116,-68 110,-68\"/>\n<text text-anchor=\"middle\" x=\"61\" y=\"-52.8\" font-family=\"Helvetica,sans-Serif\" font-size=\"14.00\">gini = 0.357</text>\n<text text-anchor=\"middle\" x=\"61\" y=\"-37.8\" font-family=\"Helvetica,sans-Serif\" font-size=\"14.00\">samples = 73</text>\n<text text-anchor=\"middle\" x=\"61\" y=\"-22.8\" font-family=\"Helvetica,sans-Serif\" font-size=\"14.00\">value = [56, 17]</text>\n<text text-anchor=\"middle\" x=\"61\" y=\"-7.8\" font-family=\"Helvetica,sans-Serif\" font-size=\"14.00\">class = Complete</text>\n</g>\n<!-- 4&#45;&gt;5 -->\n<g id=\"edge5\" class=\"edge\">\n<title>4&#45;&gt;5</title>\n<path fill=\"none\" stroke=\"black\" d=\"M148.87,-103.73C136.74,-94.24 123.85,-84.16 111.78,-74.72\"/>\n<polygon fill=\"black\" stroke=\"black\" points=\"113.61,-71.7 103.57,-68.3 109.3,-77.22 113.61,-71.7\"/>\n</g>\n<!-- 6 -->\n<g id=\"node7\" class=\"node\">\n<title>6</title>\n<path fill=\"#fae8dc\" stroke=\"black\" d=\"M250,-68C250,-68 152,-68 152,-68 146,-68 140,-62 140,-56 140,-56 140,-12 140,-12 140,-6 146,0 152,0 152,0 250,0 250,0 256,0 262,-6 262,-12 262,-12 262,-56 262,-56 262,-62 256,-68 250,-68\"/>\n<text text-anchor=\"middle\" x=\"201\" y=\"-52.8\" font-family=\"Helvetica,sans-Serif\" font-size=\"14.00\">gini = 0.495</text>\n<text text-anchor=\"middle\" x=\"201\" y=\"-37.8\" font-family=\"Helvetica,sans-Serif\" font-size=\"14.00\">samples = 102</text>\n<text text-anchor=\"middle\" x=\"201\" y=\"-22.8\" font-family=\"Helvetica,sans-Serif\" font-size=\"14.00\">value = [56, 46]</text>\n<text text-anchor=\"middle\" x=\"201\" y=\"-7.8\" font-family=\"Helvetica,sans-Serif\" font-size=\"14.00\">class = Complete</text>\n</g>\n<!-- 4&#45;&gt;6 -->\n<g id=\"edge6\" class=\"edge\">\n<title>4&#45;&gt;6</title>\n<path fill=\"none\" stroke=\"black\" d=\"M201,-103.73C201,-95.52 201,-86.86 201,-78.56\"/>\n<polygon fill=\"black\" stroke=\"black\" points=\"204.5,-78.3 201,-68.3 197.5,-78.3 204.5,-78.3\"/>\n</g>\n<!-- 8 -->\n<g id=\"node9\" class=\"node\">\n<title>8</title>\n<path fill=\"#e58139\" stroke=\"black\" d=\"M390,-68C390,-68 292,-68 292,-68 286,-68 280,-62 280,-56 280,-56 280,-12 280,-12 280,-6 286,0 292,0 292,0 390,0 390,0 396,0 402,-6 402,-12 402,-12 402,-56 402,-56 402,-62 396,-68 390,-68\"/>\n<text text-anchor=\"middle\" x=\"341\" y=\"-52.8\" font-family=\"Helvetica,sans-Serif\" font-size=\"14.00\">gini = 0.0</text>\n<text text-anchor=\"middle\" x=\"341\" y=\"-37.8\" font-family=\"Helvetica,sans-Serif\" font-size=\"14.00\">samples = 6</text>\n<text text-anchor=\"middle\" x=\"341\" y=\"-22.8\" font-family=\"Helvetica,sans-Serif\" font-size=\"14.00\">value = [6, 0]</text>\n<text text-anchor=\"middle\" x=\"341\" y=\"-7.8\" font-family=\"Helvetica,sans-Serif\" font-size=\"14.00\">class = Complete</text>\n</g>\n<!-- 7&#45;&gt;8 -->\n<g id=\"edge8\" class=\"edge\">\n<title>7&#45;&gt;8</title>\n<path fill=\"none\" stroke=\"black\" d=\"M414.43,-103.73C404.49,-94.42 393.94,-84.54 384.02,-75.26\"/>\n<polygon fill=\"black\" stroke=\"black\" points=\"386.27,-72.58 376.58,-68.3 381.49,-77.69 386.27,-72.58\"/>\n</g>\n<!-- 9 -->\n<g id=\"node10\" class=\"node\">\n<title>9</title>\n<path fill=\"#f8fcfe\" stroke=\"black\" d=\"M531.5,-68C531.5,-68 432.5,-68 432.5,-68 426.5,-68 420.5,-62 420.5,-56 420.5,-56 420.5,-12 420.5,-12 420.5,-6 426.5,0 432.5,0 432.5,0 531.5,0 531.5,0 537.5,0 543.5,-6 543.5,-12 543.5,-12 543.5,-56 543.5,-56 543.5,-62 537.5,-68 531.5,-68\"/>\n<text text-anchor=\"middle\" x=\"482\" y=\"-52.8\" font-family=\"Helvetica,sans-Serif\" font-size=\"14.00\">gini = 0.5</text>\n<text text-anchor=\"middle\" x=\"482\" y=\"-37.8\" font-family=\"Helvetica,sans-Serif\" font-size=\"14.00\">samples = 179</text>\n<text text-anchor=\"middle\" x=\"482\" y=\"-22.8\" font-family=\"Helvetica,sans-Serif\" font-size=\"14.00\">value = [88, 91]</text>\n<text text-anchor=\"middle\" x=\"482\" y=\"-7.8\" font-family=\"Helvetica,sans-Serif\" font-size=\"14.00\">class = Cancelled</text>\n</g>\n<!-- 7&#45;&gt;9 -->\n<g id=\"edge9\" class=\"edge\">\n<title>7&#45;&gt;9</title>\n<path fill=\"none\" stroke=\"black\" d=\"M466.94,-103.73C468.76,-95.43 470.68,-86.67 472.51,-78.28\"/>\n<polygon fill=\"black\" stroke=\"black\" points=\"475.98,-78.82 474.7,-68.3 469.14,-77.32 475.98,-78.82\"/>\n</g>\n<!-- 11 -->\n<g id=\"node12\" class=\"node\">\n<title>11</title>\n<path fill=\"#f5cfb3\" stroke=\"black\" d=\"M798,-187C798,-187 586,-187 586,-187 580,-187 574,-181 574,-175 574,-175 574,-116 574,-116 574,-110 580,-104 586,-104 586,-104 798,-104 798,-104 804,-104 810,-110 810,-116 810,-116 810,-175 810,-175 810,-181 804,-187 798,-187\"/>\n<text text-anchor=\"middle\" x=\"692\" y=\"-171.8\" font-family=\"Helvetica,sans-Serif\" font-size=\"14.00\">Solution Complexity_Tier 2 &lt;= 811.0</text>\n<text text-anchor=\"middle\" x=\"692\" y=\"-156.8\" font-family=\"Helvetica,sans-Serif\" font-size=\"14.00\">gini = 0.472</text>\n<text text-anchor=\"middle\" x=\"692\" y=\"-141.8\" font-family=\"Helvetica,sans-Serif\" font-size=\"14.00\">samples = 186</text>\n<text text-anchor=\"middle\" x=\"692\" y=\"-126.8\" font-family=\"Helvetica,sans-Serif\" font-size=\"14.00\">value = [115, 71]</text>\n<text text-anchor=\"middle\" x=\"692\" y=\"-111.8\" font-family=\"Helvetica,sans-Serif\" font-size=\"14.00\">class = Complete</text>\n</g>\n<!-- 10&#45;&gt;11 -->\n<g id=\"edge11\" class=\"edge\">\n<title>10&#45;&gt;11</title>\n<path fill=\"none\" stroke=\"black\" d=\"M761.22,-222.91C752.92,-213.74 744.03,-203.93 735.48,-194.49\"/>\n<polygon fill=\"black\" stroke=\"black\" points=\"738.02,-192.08 728.71,-187.02 732.83,-196.78 738.02,-192.08\"/>\n</g>\n<!-- 14 -->\n<g id=\"node15\" class=\"node\">\n<title>14</title>\n<path fill=\"#eda876\" stroke=\"black\" d=\"M968,-187C968,-187 840,-187 840,-187 834,-187 828,-181 828,-175 828,-175 828,-116 828,-116 828,-110 834,-104 840,-104 840,-104 968,-104 968,-104 974,-104 980,-110 980,-116 980,-116 980,-175 980,-175 980,-181 974,-187 968,-187\"/>\n<text text-anchor=\"middle\" x=\"904\" y=\"-171.8\" font-family=\"Helvetica,sans-Serif\" font-size=\"14.00\">Probability (%) &lt;= &#45;0.5</text>\n<text text-anchor=\"middle\" x=\"904\" y=\"-156.8\" font-family=\"Helvetica,sans-Serif\" font-size=\"14.00\">gini = 0.361</text>\n<text text-anchor=\"middle\" x=\"904\" y=\"-141.8\" font-family=\"Helvetica,sans-Serif\" font-size=\"14.00\">samples = 262</text>\n<text text-anchor=\"middle\" x=\"904\" y=\"-126.8\" font-family=\"Helvetica,sans-Serif\" font-size=\"14.00\">value = [200, 62]</text>\n<text text-anchor=\"middle\" x=\"904\" y=\"-111.8\" font-family=\"Helvetica,sans-Serif\" font-size=\"14.00\">class = Complete</text>\n</g>\n<!-- 10&#45;&gt;14 -->\n<g id=\"edge14\" class=\"edge\">\n<title>10&#45;&gt;14</title>\n<path fill=\"none\" stroke=\"black\" d=\"M834.78,-222.91C843.08,-213.74 851.97,-203.93 860.52,-194.49\"/>\n<polygon fill=\"black\" stroke=\"black\" points=\"863.17,-196.78 867.29,-187.02 857.98,-192.08 863.17,-196.78\"/>\n</g>\n<!-- 12 -->\n<g id=\"node13\" class=\"node\">\n<title>12</title>\n<path fill=\"#d5eaf9\" stroke=\"black\" d=\"M672.5,-68C672.5,-68 573.5,-68 573.5,-68 567.5,-68 561.5,-62 561.5,-56 561.5,-56 561.5,-12 561.5,-12 561.5,-6 567.5,0 573.5,0 573.5,0 672.5,0 672.5,0 678.5,0 684.5,-6 684.5,-12 684.5,-12 684.5,-56 684.5,-56 684.5,-62 678.5,-68 672.5,-68\"/>\n<text text-anchor=\"middle\" x=\"623\" y=\"-52.8\" font-family=\"Helvetica,sans-Serif\" font-size=\"14.00\">gini = 0.493</text>\n<text text-anchor=\"middle\" x=\"623\" y=\"-37.8\" font-family=\"Helvetica,sans-Serif\" font-size=\"14.00\">samples = 75</text>\n<text text-anchor=\"middle\" x=\"623\" y=\"-22.8\" font-family=\"Helvetica,sans-Serif\" font-size=\"14.00\">value = [33, 42]</text>\n<text text-anchor=\"middle\" x=\"623\" y=\"-7.8\" font-family=\"Helvetica,sans-Serif\" font-size=\"14.00\">class = Cancelled</text>\n</g>\n<!-- 11&#45;&gt;12 -->\n<g id=\"edge12\" class=\"edge\">\n<title>11&#45;&gt;12</title>\n<path fill=\"none\" stroke=\"black\" d=\"M666.31,-103.73C660.79,-94.97 654.95,-85.7 649.41,-76.91\"/>\n<polygon fill=\"black\" stroke=\"black\" points=\"652.28,-74.89 643.98,-68.3 646.35,-78.63 652.28,-74.89\"/>\n</g>\n<!-- 13 -->\n<g id=\"node14\" class=\"node\">\n<title>13</title>\n<path fill=\"#eeae7f\" stroke=\"black\" d=\"M813,-68C813,-68 715,-68 715,-68 709,-68 703,-62 703,-56 703,-56 703,-12 703,-12 703,-6 709,0 715,0 715,0 813,0 813,0 819,0 825,-6 825,-12 825,-12 825,-56 825,-56 825,-62 819,-68 813,-68\"/>\n<text text-anchor=\"middle\" x=\"764\" y=\"-52.8\" font-family=\"Helvetica,sans-Serif\" font-size=\"14.00\">gini = 0.386</text>\n<text text-anchor=\"middle\" x=\"764\" y=\"-37.8\" font-family=\"Helvetica,sans-Serif\" font-size=\"14.00\">samples = 111</text>\n<text text-anchor=\"middle\" x=\"764\" y=\"-22.8\" font-family=\"Helvetica,sans-Serif\" font-size=\"14.00\">value = [82, 29]</text>\n<text text-anchor=\"middle\" x=\"764\" y=\"-7.8\" font-family=\"Helvetica,sans-Serif\" font-size=\"14.00\">class = Complete</text>\n</g>\n<!-- 11&#45;&gt;13 -->\n<g id=\"edge13\" class=\"edge\">\n<title>11&#45;&gt;13</title>\n<path fill=\"none\" stroke=\"black\" d=\"M718.81,-103.73C724.57,-94.97 730.66,-85.7 736.45,-76.91\"/>\n<polygon fill=\"black\" stroke=\"black\" points=\"739.53,-78.58 742.1,-68.3 733.69,-74.73 739.53,-78.58\"/>\n</g>\n<!-- 15 -->\n<g id=\"node16\" class=\"node\">\n<title>15</title>\n<path fill=\"#eb9f69\" stroke=\"black\" d=\"M953,-68C953,-68 855,-68 855,-68 849,-68 843,-62 843,-56 843,-56 843,-12 843,-12 843,-6 849,0 855,0 855,0 953,0 953,0 959,0 965,-6 965,-12 965,-12 965,-56 965,-56 965,-62 959,-68 953,-68\"/>\n<text text-anchor=\"middle\" x=\"904\" y=\"-52.8\" font-family=\"Helvetica,sans-Serif\" font-size=\"14.00\">gini = 0.312</text>\n<text text-anchor=\"middle\" x=\"904\" y=\"-37.8\" font-family=\"Helvetica,sans-Serif\" font-size=\"14.00\">samples = 191</text>\n<text text-anchor=\"middle\" x=\"904\" y=\"-22.8\" font-family=\"Helvetica,sans-Serif\" font-size=\"14.00\">value = [154, 37]</text>\n<text text-anchor=\"middle\" x=\"904\" y=\"-7.8\" font-family=\"Helvetica,sans-Serif\" font-size=\"14.00\">class = Complete</text>\n</g>\n<!-- 14&#45;&gt;15 -->\n<g id=\"edge15\" class=\"edge\">\n<title>14&#45;&gt;15</title>\n<path fill=\"none\" stroke=\"black\" d=\"M904,-103.73C904,-95.52 904,-86.86 904,-78.56\"/>\n<polygon fill=\"black\" stroke=\"black\" points=\"907.5,-78.3 904,-68.3 900.5,-78.3 907.5,-78.3\"/>\n</g>\n<!-- 16 -->\n<g id=\"node17\" class=\"node\">\n<title>16</title>\n<path fill=\"#f3c5a5\" stroke=\"black\" d=\"M1093,-68C1093,-68 995,-68 995,-68 989,-68 983,-62 983,-56 983,-56 983,-12 983,-12 983,-6 989,0 995,0 995,0 1093,0 1093,0 1099,0 1105,-6 1105,-12 1105,-12 1105,-56 1105,-56 1105,-62 1099,-68 1093,-68\"/>\n<text text-anchor=\"middle\" x=\"1044\" y=\"-52.8\" font-family=\"Helvetica,sans-Serif\" font-size=\"14.00\">gini = 0.456</text>\n<text text-anchor=\"middle\" x=\"1044\" y=\"-37.8\" font-family=\"Helvetica,sans-Serif\" font-size=\"14.00\">samples = 71</text>\n<text text-anchor=\"middle\" x=\"1044\" y=\"-22.8\" font-family=\"Helvetica,sans-Serif\" font-size=\"14.00\">value = [46, 25]</text>\n<text text-anchor=\"middle\" x=\"1044\" y=\"-7.8\" font-family=\"Helvetica,sans-Serif\" font-size=\"14.00\">class = Complete</text>\n</g>\n<!-- 14&#45;&gt;16 -->\n<g id=\"edge16\" class=\"edge\">\n<title>14&#45;&gt;16</title>\n<path fill=\"none\" stroke=\"black\" d=\"M956.13,-103.73C968.26,-94.24 981.15,-84.16 993.22,-74.72\"/>\n<polygon fill=\"black\" stroke=\"black\" points=\"995.7,-77.22 1001.43,-68.3 991.39,-71.7 995.7,-77.22\"/>\n</g>\n<!-- 18 -->\n<g id=\"node19\" class=\"node\">\n<title>18</title>\n<path fill=\"#9ccef2\" stroke=\"black\" d=\"M1224.5,-306C1224.5,-306 1075.5,-306 1075.5,-306 1069.5,-306 1063.5,-300 1063.5,-294 1063.5,-294 1063.5,-235 1063.5,-235 1063.5,-229 1069.5,-223 1075.5,-223 1075.5,-223 1224.5,-223 1224.5,-223 1230.5,-223 1236.5,-229 1236.5,-235 1236.5,-235 1236.5,-294 1236.5,-294 1236.5,-300 1230.5,-306 1224.5,-306\"/>\n<text text-anchor=\"middle\" x=\"1150\" y=\"-290.8\" font-family=\"Helvetica,sans-Serif\" font-size=\"14.00\">Ship To Countries &lt;= 35.5</text>\n<text text-anchor=\"middle\" x=\"1150\" y=\"-275.8\" font-family=\"Helvetica,sans-Serif\" font-size=\"14.00\">gini = 0.444</text>\n<text text-anchor=\"middle\" x=\"1150\" y=\"-260.8\" font-family=\"Helvetica,sans-Serif\" font-size=\"14.00\">samples = 3</text>\n<text text-anchor=\"middle\" x=\"1150\" y=\"-245.8\" font-family=\"Helvetica,sans-Serif\" font-size=\"14.00\">value = [1, 2]</text>\n<text text-anchor=\"middle\" x=\"1150\" y=\"-230.8\" font-family=\"Helvetica,sans-Serif\" font-size=\"14.00\">class = Cancelled</text>\n</g>\n<!-- 17&#45;&gt;18 -->\n<g id=\"edge18\" class=\"edge\">\n<title>17&#45;&gt;18</title>\n<path fill=\"none\" stroke=\"black\" d=\"M1213.35,-341.91C1205.82,-332.83 1197.77,-323.12 1190.02,-313.77\"/>\n<polygon fill=\"black\" stroke=\"black\" points=\"1192.67,-311.49 1183.59,-306.02 1187.28,-315.95 1192.67,-311.49\"/>\n</g>\n<!-- 21 -->\n<g id=\"node22\" class=\"node\">\n<title>21</title>\n<path fill=\"#e68844\" stroke=\"black\" d=\"M1415.5,-306C1415.5,-306 1266.5,-306 1266.5,-306 1260.5,-306 1254.5,-300 1254.5,-294 1254.5,-294 1254.5,-235 1254.5,-235 1254.5,-229 1260.5,-223 1266.5,-223 1266.5,-223 1415.5,-223 1415.5,-223 1421.5,-223 1427.5,-229 1427.5,-235 1427.5,-235 1427.5,-294 1427.5,-294 1427.5,-300 1421.5,-306 1415.5,-306\"/>\n<text text-anchor=\"middle\" x=\"1341\" y=\"-290.8\" font-family=\"Helvetica,sans-Serif\" font-size=\"14.00\">Category _bezel &lt;= 811.0</text>\n<text text-anchor=\"middle\" x=\"1341\" y=\"-275.8\" font-family=\"Helvetica,sans-Serif\" font-size=\"14.00\">gini = 0.103</text>\n<text text-anchor=\"middle\" x=\"1341\" y=\"-260.8\" font-family=\"Helvetica,sans-Serif\" font-size=\"14.00\">samples = 55</text>\n<text text-anchor=\"middle\" x=\"1341\" y=\"-245.8\" font-family=\"Helvetica,sans-Serif\" font-size=\"14.00\">value = [52, 3]</text>\n<text text-anchor=\"middle\" x=\"1341\" y=\"-230.8\" font-family=\"Helvetica,sans-Serif\" font-size=\"14.00\">class = Complete</text>\n</g>\n<!-- 17&#45;&gt;21 -->\n<g id=\"edge21\" class=\"edge\">\n<title>17&#45;&gt;21</title>\n<path fill=\"none\" stroke=\"black\" d=\"M1279.61,-341.91C1286.83,-332.92 1294.55,-323.32 1301.99,-314.05\"/>\n<polygon fill=\"black\" stroke=\"black\" points=\"1304.91,-316.01 1308.44,-306.02 1299.45,-311.62 1304.91,-316.01\"/>\n</g>\n<!-- 19 -->\n<g id=\"node20\" class=\"node\">\n<title>19</title>\n<path fill=\"#e58139\" stroke=\"black\" d=\"M1108,-179.5C1108,-179.5 1010,-179.5 1010,-179.5 1004,-179.5 998,-173.5 998,-167.5 998,-167.5 998,-123.5 998,-123.5 998,-117.5 1004,-111.5 1010,-111.5 1010,-111.5 1108,-111.5 1108,-111.5 1114,-111.5 1120,-117.5 1120,-123.5 1120,-123.5 1120,-167.5 1120,-167.5 1120,-173.5 1114,-179.5 1108,-179.5\"/>\n<text text-anchor=\"middle\" x=\"1059\" y=\"-164.3\" font-family=\"Helvetica,sans-Serif\" font-size=\"14.00\">gini = 0.0</text>\n<text text-anchor=\"middle\" x=\"1059\" y=\"-149.3\" font-family=\"Helvetica,sans-Serif\" font-size=\"14.00\">samples = 1</text>\n<text text-anchor=\"middle\" x=\"1059\" y=\"-134.3\" font-family=\"Helvetica,sans-Serif\" font-size=\"14.00\">value = [1, 0]</text>\n<text text-anchor=\"middle\" x=\"1059\" y=\"-119.3\" font-family=\"Helvetica,sans-Serif\" font-size=\"14.00\">class = Complete</text>\n</g>\n<!-- 18&#45;&gt;19 -->\n<g id=\"edge19\" class=\"edge\">\n<title>18&#45;&gt;19</title>\n<path fill=\"none\" stroke=\"black\" d=\"M1118.43,-222.91C1109.59,-211.54 1099.97,-199.18 1091.1,-187.77\"/>\n<polygon fill=\"black\" stroke=\"black\" points=\"1093.7,-185.41 1084.8,-179.67 1088.17,-189.71 1093.7,-185.41\"/>\n</g>\n<!-- 20 -->\n<g id=\"node21\" class=\"node\">\n<title>20</title>\n<path fill=\"#399de5\" stroke=\"black\" d=\"M1249.5,-179.5C1249.5,-179.5 1150.5,-179.5 1150.5,-179.5 1144.5,-179.5 1138.5,-173.5 1138.5,-167.5 1138.5,-167.5 1138.5,-123.5 1138.5,-123.5 1138.5,-117.5 1144.5,-111.5 1150.5,-111.5 1150.5,-111.5 1249.5,-111.5 1249.5,-111.5 1255.5,-111.5 1261.5,-117.5 1261.5,-123.5 1261.5,-123.5 1261.5,-167.5 1261.5,-167.5 1261.5,-173.5 1255.5,-179.5 1249.5,-179.5\"/>\n<text text-anchor=\"middle\" x=\"1200\" y=\"-164.3\" font-family=\"Helvetica,sans-Serif\" font-size=\"14.00\">gini = 0.0</text>\n<text text-anchor=\"middle\" x=\"1200\" y=\"-149.3\" font-family=\"Helvetica,sans-Serif\" font-size=\"14.00\">samples = 2</text>\n<text text-anchor=\"middle\" x=\"1200\" y=\"-134.3\" font-family=\"Helvetica,sans-Serif\" font-size=\"14.00\">value = [0, 2]</text>\n<text text-anchor=\"middle\" x=\"1200\" y=\"-119.3\" font-family=\"Helvetica,sans-Serif\" font-size=\"14.00\">class = Cancelled</text>\n</g>\n<!-- 18&#45;&gt;20 -->\n<g id=\"edge20\" class=\"edge\">\n<title>18&#45;&gt;20</title>\n<path fill=\"none\" stroke=\"black\" d=\"M1167.35,-222.91C1172.02,-211.98 1177.08,-200.14 1181.79,-189.11\"/>\n<polygon fill=\"black\" stroke=\"black\" points=\"1185.11,-190.24 1185.83,-179.67 1178.68,-187.49 1185.11,-190.24\"/>\n</g>\n<!-- 22 -->\n<g id=\"node23\" class=\"node\">\n<title>22</title>\n<path fill=\"#399de5\" stroke=\"black\" d=\"M1390.5,-179.5C1390.5,-179.5 1291.5,-179.5 1291.5,-179.5 1285.5,-179.5 1279.5,-173.5 1279.5,-167.5 1279.5,-167.5 1279.5,-123.5 1279.5,-123.5 1279.5,-117.5 1285.5,-111.5 1291.5,-111.5 1291.5,-111.5 1390.5,-111.5 1390.5,-111.5 1396.5,-111.5 1402.5,-117.5 1402.5,-123.5 1402.5,-123.5 1402.5,-167.5 1402.5,-167.5 1402.5,-173.5 1396.5,-179.5 1390.5,-179.5\"/>\n<text text-anchor=\"middle\" x=\"1341\" y=\"-164.3\" font-family=\"Helvetica,sans-Serif\" font-size=\"14.00\">gini = 0.0</text>\n<text text-anchor=\"middle\" x=\"1341\" y=\"-149.3\" font-family=\"Helvetica,sans-Serif\" font-size=\"14.00\">samples = 1</text>\n<text text-anchor=\"middle\" x=\"1341\" y=\"-134.3\" font-family=\"Helvetica,sans-Serif\" font-size=\"14.00\">value = [0, 1]</text>\n<text text-anchor=\"middle\" x=\"1341\" y=\"-119.3\" font-family=\"Helvetica,sans-Serif\" font-size=\"14.00\">class = Cancelled</text>\n</g>\n<!-- 21&#45;&gt;22 -->\n<g id=\"edge22\" class=\"edge\">\n<title>21&#45;&gt;22</title>\n<path fill=\"none\" stroke=\"black\" d=\"M1341,-222.91C1341,-212.2 1341,-200.62 1341,-189.78\"/>\n<polygon fill=\"black\" stroke=\"black\" points=\"1344.5,-189.67 1341,-179.67 1337.5,-189.67 1344.5,-189.67\"/>\n</g>\n<!-- 23 -->\n<g id=\"node24\" class=\"node\">\n<title>23</title>\n<path fill=\"#e68641\" stroke=\"black\" d=\"M1575,-187C1575,-187 1433,-187 1433,-187 1427,-187 1421,-181 1421,-175 1421,-175 1421,-116 1421,-116 1421,-110 1427,-104 1433,-104 1433,-104 1575,-104 1575,-104 1581,-104 1587,-110 1587,-116 1587,-116 1587,-175 1587,-175 1587,-181 1581,-187 1575,-187\"/>\n<text text-anchor=\"middle\" x=\"1504\" y=\"-171.8\" font-family=\"Helvetica,sans-Serif\" font-size=\"14.00\">Ship To Countries &lt;= 3.0</text>\n<text text-anchor=\"middle\" x=\"1504\" y=\"-156.8\" font-family=\"Helvetica,sans-Serif\" font-size=\"14.00\">gini = 0.071</text>\n<text text-anchor=\"middle\" x=\"1504\" y=\"-141.8\" font-family=\"Helvetica,sans-Serif\" font-size=\"14.00\">samples = 54</text>\n<text text-anchor=\"middle\" x=\"1504\" y=\"-126.8\" font-family=\"Helvetica,sans-Serif\" font-size=\"14.00\">value = [52, 2]</text>\n<text text-anchor=\"middle\" x=\"1504\" y=\"-111.8\" font-family=\"Helvetica,sans-Serif\" font-size=\"14.00\">class = Complete</text>\n</g>\n<!-- 21&#45;&gt;23 -->\n<g id=\"edge23\" class=\"edge\">\n<title>21&#45;&gt;23</title>\n<path fill=\"none\" stroke=\"black\" d=\"M1397.55,-222.91C1410.95,-213.29 1425.35,-202.95 1439.09,-193.09\"/>\n<polygon fill=\"black\" stroke=\"black\" points=\"1441.47,-195.7 1447.55,-187.02 1437.38,-190.01 1441.47,-195.7\"/>\n</g>\n<!-- 24 -->\n<g id=\"node25\" class=\"node\">\n<title>24</title>\n<path fill=\"#f2c09c\" stroke=\"black\" d=\"M1483,-68C1483,-68 1385,-68 1385,-68 1379,-68 1373,-62 1373,-56 1373,-56 1373,-12 1373,-12 1373,-6 1379,0 1385,0 1385,0 1483,0 1483,0 1489,0 1495,-6 1495,-12 1495,-12 1495,-56 1495,-56 1495,-62 1489,-68 1483,-68\"/>\n<text text-anchor=\"middle\" x=\"1434\" y=\"-52.8\" font-family=\"Helvetica,sans-Serif\" font-size=\"14.00\">gini = 0.444</text>\n<text text-anchor=\"middle\" x=\"1434\" y=\"-37.8\" font-family=\"Helvetica,sans-Serif\" font-size=\"14.00\">samples = 6</text>\n<text text-anchor=\"middle\" x=\"1434\" y=\"-22.8\" font-family=\"Helvetica,sans-Serif\" font-size=\"14.00\">value = [4, 2]</text>\n<text text-anchor=\"middle\" x=\"1434\" y=\"-7.8\" font-family=\"Helvetica,sans-Serif\" font-size=\"14.00\">class = Complete</text>\n</g>\n<!-- 23&#45;&gt;24 -->\n<g id=\"edge24\" class=\"edge\">\n<title>23&#45;&gt;24</title>\n<path fill=\"none\" stroke=\"black\" d=\"M1477.93,-103.73C1472.34,-94.97 1466.41,-85.7 1460.79,-76.91\"/>\n<polygon fill=\"black\" stroke=\"black\" points=\"1463.62,-74.84 1455.29,-68.3 1457.72,-78.61 1463.62,-74.84\"/>\n</g>\n<!-- 25 -->\n<g id=\"node26\" class=\"node\">\n<title>25</title>\n<path fill=\"#e58139\" stroke=\"black\" d=\"M1623,-68C1623,-68 1525,-68 1525,-68 1519,-68 1513,-62 1513,-56 1513,-56 1513,-12 1513,-12 1513,-6 1519,0 1525,0 1525,0 1623,0 1623,0 1629,0 1635,-6 1635,-12 1635,-12 1635,-56 1635,-56 1635,-62 1629,-68 1623,-68\"/>\n<text text-anchor=\"middle\" x=\"1574\" y=\"-52.8\" font-family=\"Helvetica,sans-Serif\" font-size=\"14.00\">gini = 0.0</text>\n<text text-anchor=\"middle\" x=\"1574\" y=\"-37.8\" font-family=\"Helvetica,sans-Serif\" font-size=\"14.00\">samples = 48</text>\n<text text-anchor=\"middle\" x=\"1574\" y=\"-22.8\" font-family=\"Helvetica,sans-Serif\" font-size=\"14.00\">value = [48, 0]</text>\n<text text-anchor=\"middle\" x=\"1574\" y=\"-7.8\" font-family=\"Helvetica,sans-Serif\" font-size=\"14.00\">class = Complete</text>\n</g>\n<!-- 23&#45;&gt;25 -->\n<g id=\"edge25\" class=\"edge\">\n<title>23&#45;&gt;25</title>\n<path fill=\"none\" stroke=\"black\" d=\"M1530.07,-103.73C1535.66,-94.97 1541.59,-85.7 1547.21,-76.91\"/>\n<polygon fill=\"black\" stroke=\"black\" points=\"1550.28,-78.61 1552.71,-68.3 1544.38,-74.84 1550.28,-78.61\"/>\n</g>\n<!-- 27 -->\n<g id=\"node28\" class=\"node\">\n<title>27</title>\n<path fill=\"#6ab6ec\" stroke=\"black\" d=\"M1638,-425C1638,-425 1468,-425 1468,-425 1462,-425 1456,-419 1456,-413 1456,-413 1456,-354 1456,-354 1456,-348 1462,-342 1468,-342 1468,-342 1638,-342 1638,-342 1644,-342 1650,-348 1650,-354 1650,-354 1650,-413 1650,-413 1650,-419 1644,-425 1638,-425\"/>\n<text text-anchor=\"middle\" x=\"1553\" y=\"-409.8\" font-family=\"Helvetica,sans-Serif\" font-size=\"14.00\">Customization Type &lt;= 154.5</text>\n<text text-anchor=\"middle\" x=\"1553\" y=\"-394.8\" font-family=\"Helvetica,sans-Serif\" font-size=\"14.00\">gini = 0.32</text>\n<text text-anchor=\"middle\" x=\"1553\" y=\"-379.8\" font-family=\"Helvetica,sans-Serif\" font-size=\"14.00\">samples = 5</text>\n<text text-anchor=\"middle\" x=\"1553\" y=\"-364.8\" font-family=\"Helvetica,sans-Serif\" font-size=\"14.00\">value = [1, 4]</text>\n<text text-anchor=\"middle\" x=\"1553\" y=\"-349.8\" font-family=\"Helvetica,sans-Serif\" font-size=\"14.00\">class = Cancelled</text>\n</g>\n<!-- 26&#45;&gt;27 -->\n<g id=\"edge27\" class=\"edge\">\n<title>26&#45;&gt;27</title>\n<path fill=\"none\" stroke=\"black\" d=\"M1553,-460.91C1553,-452.65 1553,-443.86 1553,-435.3\"/>\n<polygon fill=\"black\" stroke=\"black\" points=\"1556.5,-435.02 1553,-425.02 1549.5,-435.02 1556.5,-435.02\"/>\n</g>\n<!-- 30 -->\n<g id=\"node31\" class=\"node\">\n<title>30</title>\n<path fill=\"#ea985d\" stroke=\"black\" d=\"M1850.5,-425C1850.5,-425 1727.5,-425 1727.5,-425 1721.5,-425 1715.5,-419 1715.5,-413 1715.5,-413 1715.5,-354 1715.5,-354 1715.5,-348 1721.5,-342 1727.5,-342 1727.5,-342 1850.5,-342 1850.5,-342 1856.5,-342 1862.5,-348 1862.5,-354 1862.5,-354 1862.5,-413 1862.5,-413 1862.5,-419 1856.5,-425 1850.5,-425\"/>\n<text text-anchor=\"middle\" x=\"1789\" y=\"-409.8\" font-family=\"Helvetica,sans-Serif\" font-size=\"14.00\">Country Name &lt;= 4.0</text>\n<text text-anchor=\"middle\" x=\"1789\" y=\"-394.8\" font-family=\"Helvetica,sans-Serif\" font-size=\"14.00\">gini = 0.262</text>\n<text text-anchor=\"middle\" x=\"1789\" y=\"-379.8\" font-family=\"Helvetica,sans-Serif\" font-size=\"14.00\">samples = 426</text>\n<text text-anchor=\"middle\" x=\"1789\" y=\"-364.8\" font-family=\"Helvetica,sans-Serif\" font-size=\"14.00\">value = [360, 66]</text>\n<text text-anchor=\"middle\" x=\"1789\" y=\"-349.8\" font-family=\"Helvetica,sans-Serif\" font-size=\"14.00\">class = Complete</text>\n</g>\n<!-- 26&#45;&gt;30 -->\n<g id=\"edge30\" class=\"edge\">\n<title>26&#45;&gt;30</title>\n<path fill=\"none\" stroke=\"black\" d=\"M1634.88,-460.91C1657.91,-449.49 1682.98,-437.06 1706.08,-425.61\"/>\n<polygon fill=\"black\" stroke=\"black\" points=\"1707.76,-428.68 1715.16,-421.11 1704.65,-422.41 1707.76,-428.68\"/>\n</g>\n<!-- 28 -->\n<g id=\"node29\" class=\"node\">\n<title>28</title>\n<path fill=\"#399de5\" stroke=\"black\" d=\"M1556.5,-298.5C1556.5,-298.5 1457.5,-298.5 1457.5,-298.5 1451.5,-298.5 1445.5,-292.5 1445.5,-286.5 1445.5,-286.5 1445.5,-242.5 1445.5,-242.5 1445.5,-236.5 1451.5,-230.5 1457.5,-230.5 1457.5,-230.5 1556.5,-230.5 1556.5,-230.5 1562.5,-230.5 1568.5,-236.5 1568.5,-242.5 1568.5,-242.5 1568.5,-286.5 1568.5,-286.5 1568.5,-292.5 1562.5,-298.5 1556.5,-298.5\"/>\n<text text-anchor=\"middle\" x=\"1507\" y=\"-283.3\" font-family=\"Helvetica,sans-Serif\" font-size=\"14.00\">gini = 0.0</text>\n<text text-anchor=\"middle\" x=\"1507\" y=\"-268.3\" font-family=\"Helvetica,sans-Serif\" font-size=\"14.00\">samples = 4</text>\n<text text-anchor=\"middle\" x=\"1507\" y=\"-253.3\" font-family=\"Helvetica,sans-Serif\" font-size=\"14.00\">value = [0, 4]</text>\n<text text-anchor=\"middle\" x=\"1507\" y=\"-238.3\" font-family=\"Helvetica,sans-Serif\" font-size=\"14.00\">class = Cancelled</text>\n</g>\n<!-- 27&#45;&gt;28 -->\n<g id=\"edge28\" class=\"edge\">\n<title>27&#45;&gt;28</title>\n<path fill=\"none\" stroke=\"black\" d=\"M1537.04,-341.91C1532.75,-330.98 1528.09,-319.14 1523.75,-308.11\"/>\n<polygon fill=\"black\" stroke=\"black\" points=\"1526.96,-306.69 1520.04,-298.67 1520.44,-309.25 1526.96,-306.69\"/>\n</g>\n<!-- 29 -->\n<g id=\"node30\" class=\"node\">\n<title>29</title>\n<path fill=\"#e58139\" stroke=\"black\" d=\"M1697,-298.5C1697,-298.5 1599,-298.5 1599,-298.5 1593,-298.5 1587,-292.5 1587,-286.5 1587,-286.5 1587,-242.5 1587,-242.5 1587,-236.5 1593,-230.5 1599,-230.5 1599,-230.5 1697,-230.5 1697,-230.5 1703,-230.5 1709,-236.5 1709,-242.5 1709,-242.5 1709,-286.5 1709,-286.5 1709,-292.5 1703,-298.5 1697,-298.5\"/>\n<text text-anchor=\"middle\" x=\"1648\" y=\"-283.3\" font-family=\"Helvetica,sans-Serif\" font-size=\"14.00\">gini = 0.0</text>\n<text text-anchor=\"middle\" x=\"1648\" y=\"-268.3\" font-family=\"Helvetica,sans-Serif\" font-size=\"14.00\">samples = 1</text>\n<text text-anchor=\"middle\" x=\"1648\" y=\"-253.3\" font-family=\"Helvetica,sans-Serif\" font-size=\"14.00\">value = [1, 0]</text>\n<text text-anchor=\"middle\" x=\"1648\" y=\"-238.3\" font-family=\"Helvetica,sans-Serif\" font-size=\"14.00\">class = Complete</text>\n</g>\n<!-- 27&#45;&gt;29 -->\n<g id=\"edge29\" class=\"edge\">\n<title>27&#45;&gt;29</title>\n<path fill=\"none\" stroke=\"black\" d=\"M1585.96,-341.91C1595.28,-330.43 1605.42,-317.94 1614.76,-306.44\"/>\n<polygon fill=\"black\" stroke=\"black\" points=\"1617.48,-308.64 1621.07,-298.67 1612.05,-304.22 1617.48,-308.64\"/>\n</g>\n<!-- 31 -->\n<g id=\"node32\" class=\"node\">\n<title>31</title>\n<path fill=\"#399de5\" stroke=\"black\" d=\"M1838.5,-298.5C1838.5,-298.5 1739.5,-298.5 1739.5,-298.5 1733.5,-298.5 1727.5,-292.5 1727.5,-286.5 1727.5,-286.5 1727.5,-242.5 1727.5,-242.5 1727.5,-236.5 1733.5,-230.5 1739.5,-230.5 1739.5,-230.5 1838.5,-230.5 1838.5,-230.5 1844.5,-230.5 1850.5,-236.5 1850.5,-242.5 1850.5,-242.5 1850.5,-286.5 1850.5,-286.5 1850.5,-292.5 1844.5,-298.5 1838.5,-298.5\"/>\n<text text-anchor=\"middle\" x=\"1789\" y=\"-283.3\" font-family=\"Helvetica,sans-Serif\" font-size=\"14.00\">gini = 0.0</text>\n<text text-anchor=\"middle\" x=\"1789\" y=\"-268.3\" font-family=\"Helvetica,sans-Serif\" font-size=\"14.00\">samples = 2</text>\n<text text-anchor=\"middle\" x=\"1789\" y=\"-253.3\" font-family=\"Helvetica,sans-Serif\" font-size=\"14.00\">value = [0, 2]</text>\n<text text-anchor=\"middle\" x=\"1789\" y=\"-238.3\" font-family=\"Helvetica,sans-Serif\" font-size=\"14.00\">class = Cancelled</text>\n</g>\n<!-- 30&#45;&gt;31 -->\n<g id=\"edge31\" class=\"edge\">\n<title>30&#45;&gt;31</title>\n<path fill=\"none\" stroke=\"black\" d=\"M1789,-341.91C1789,-331.2 1789,-319.62 1789,-308.78\"/>\n<polygon fill=\"black\" stroke=\"black\" points=\"1792.5,-308.67 1789,-298.67 1785.5,-308.67 1792.5,-308.67\"/>\n</g>\n<!-- 32 -->\n<g id=\"node33\" class=\"node\">\n<title>32</title>\n<path fill=\"#ea975c\" stroke=\"black\" d=\"M2037,-306C2037,-306 1881,-306 1881,-306 1875,-306 1869,-300 1869,-294 1869,-294 1869,-235 1869,-235 1869,-229 1875,-223 1881,-223 1881,-223 2037,-223 2037,-223 2043,-223 2049,-229 2049,-235 2049,-235 2049,-294 2049,-294 2049,-300 2043,-306 2037,-306\"/>\n<text text-anchor=\"middle\" x=\"1959\" y=\"-290.8\" font-family=\"Helvetica,sans-Serif\" font-size=\"14.00\">Required Support &lt;= 273.5</text>\n<text text-anchor=\"middle\" x=\"1959\" y=\"-275.8\" font-family=\"Helvetica,sans-Serif\" font-size=\"14.00\">gini = 0.256</text>\n<text text-anchor=\"middle\" x=\"1959\" y=\"-260.8\" font-family=\"Helvetica,sans-Serif\" font-size=\"14.00\">samples = 424</text>\n<text text-anchor=\"middle\" x=\"1959\" y=\"-245.8\" font-family=\"Helvetica,sans-Serif\" font-size=\"14.00\">value = [360, 64]</text>\n<text text-anchor=\"middle\" x=\"1959\" y=\"-230.8\" font-family=\"Helvetica,sans-Serif\" font-size=\"14.00\">class = Complete</text>\n</g>\n<!-- 30&#45;&gt;32 -->\n<g id=\"edge32\" class=\"edge\">\n<title>30&#45;&gt;32</title>\n<path fill=\"none\" stroke=\"black\" d=\"M1847.98,-341.91C1862.09,-332.2 1877.26,-321.76 1891.71,-311.81\"/>\n<polygon fill=\"black\" stroke=\"black\" points=\"1893.87,-314.57 1900.12,-306.02 1889.9,-308.81 1893.87,-314.57\"/>\n</g>\n<!-- 33 -->\n<g id=\"node34\" class=\"node\">\n<title>33</title>\n<path fill=\"#e88e4d\" stroke=\"black\" d=\"M1962,-187C1962,-187 1824,-187 1824,-187 1818,-187 1812,-181 1812,-175 1812,-175 1812,-116 1812,-116 1812,-110 1818,-104 1824,-104 1824,-104 1962,-104 1962,-104 1968,-104 1974,-110 1974,-116 1974,-116 1974,-175 1974,-175 1974,-181 1968,-187 1962,-187\"/>\n<text text-anchor=\"middle\" x=\"1893\" y=\"-171.8\" font-family=\"Helvetica,sans-Serif\" font-size=\"14.00\">Category _test &lt;= 811.0</text>\n<text text-anchor=\"middle\" x=\"1893\" y=\"-156.8\" font-family=\"Helvetica,sans-Serif\" font-size=\"14.00\">gini = 0.166</text>\n<text text-anchor=\"middle\" x=\"1893\" y=\"-141.8\" font-family=\"Helvetica,sans-Serif\" font-size=\"14.00\">samples = 186</text>\n<text text-anchor=\"middle\" x=\"1893\" y=\"-126.8\" font-family=\"Helvetica,sans-Serif\" font-size=\"14.00\">value = [169, 17]</text>\n<text text-anchor=\"middle\" x=\"1893\" y=\"-111.8\" font-family=\"Helvetica,sans-Serif\" font-size=\"14.00\">class = Complete</text>\n</g>\n<!-- 32&#45;&gt;33 -->\n<g id=\"edge33\" class=\"edge\">\n<title>32&#45;&gt;33</title>\n<path fill=\"none\" stroke=\"black\" d=\"M1936.1,-222.91C1931.19,-214.2 1925.94,-204.9 1920.86,-195.89\"/>\n<polygon fill=\"black\" stroke=\"black\" points=\"1923.82,-194.01 1915.86,-187.02 1917.72,-197.45 1923.82,-194.01\"/>\n</g>\n<!-- 36 -->\n<g id=\"node37\" class=\"node\">\n<title>36</title>\n<path fill=\"#eba06a\" stroke=\"black\" d=\"M2181.5,-187C2181.5,-187 2004.5,-187 2004.5,-187 1998.5,-187 1992.5,-181 1992.5,-175 1992.5,-175 1992.5,-116 1992.5,-116 1992.5,-110 1998.5,-104 2004.5,-104 2004.5,-104 2181.5,-104 2181.5,-104 2187.5,-104 2193.5,-110 2193.5,-116 2193.5,-116 2193.5,-175 2193.5,-175 2193.5,-181 2187.5,-187 2181.5,-187\"/>\n<text text-anchor=\"middle\" x=\"2093\" y=\"-171.8\" font-family=\"Helvetica,sans-Serif\" font-size=\"14.00\">Account name lookup &#160;&lt;= 35.5</text>\n<text text-anchor=\"middle\" x=\"2093\" y=\"-156.8\" font-family=\"Helvetica,sans-Serif\" font-size=\"14.00\">gini = 0.317</text>\n<text text-anchor=\"middle\" x=\"2093\" y=\"-141.8\" font-family=\"Helvetica,sans-Serif\" font-size=\"14.00\">samples = 238</text>\n<text text-anchor=\"middle\" x=\"2093\" y=\"-126.8\" font-family=\"Helvetica,sans-Serif\" font-size=\"14.00\">value = [191, 47]</text>\n<text text-anchor=\"middle\" x=\"2093\" y=\"-111.8\" font-family=\"Helvetica,sans-Serif\" font-size=\"14.00\">class = Complete</text>\n</g>\n<!-- 32&#45;&gt;36 -->\n<g id=\"edge36\" class=\"edge\">\n<title>32&#45;&gt;36</title>\n<path fill=\"none\" stroke=\"black\" d=\"M2005.49,-222.91C2016.3,-213.47 2027.9,-203.34 2039,-193.65\"/>\n<polygon fill=\"black\" stroke=\"black\" points=\"2041.36,-196.23 2046.59,-187.02 2036.76,-190.96 2041.36,-196.23\"/>\n</g>\n<!-- 34 -->\n<g id=\"node35\" class=\"node\">\n<title>34</title>\n<path fill=\"#399de5\" stroke=\"black\" d=\"M1816.5,-68C1816.5,-68 1717.5,-68 1717.5,-68 1711.5,-68 1705.5,-62 1705.5,-56 1705.5,-56 1705.5,-12 1705.5,-12 1705.5,-6 1711.5,0 1717.5,0 1717.5,0 1816.5,0 1816.5,0 1822.5,0 1828.5,-6 1828.5,-12 1828.5,-12 1828.5,-56 1828.5,-56 1828.5,-62 1822.5,-68 1816.5,-68\"/>\n<text text-anchor=\"middle\" x=\"1767\" y=\"-52.8\" font-family=\"Helvetica,sans-Serif\" font-size=\"14.00\">gini = 0.0</text>\n<text text-anchor=\"middle\" x=\"1767\" y=\"-37.8\" font-family=\"Helvetica,sans-Serif\" font-size=\"14.00\">samples = 1</text>\n<text text-anchor=\"middle\" x=\"1767\" y=\"-22.8\" font-family=\"Helvetica,sans-Serif\" font-size=\"14.00\">value = [0, 1]</text>\n<text text-anchor=\"middle\" x=\"1767\" y=\"-7.8\" font-family=\"Helvetica,sans-Serif\" font-size=\"14.00\">class = Cancelled</text>\n</g>\n<!-- 33&#45;&gt;34 -->\n<g id=\"edge34\" class=\"edge\">\n<title>33&#45;&gt;34</title>\n<path fill=\"none\" stroke=\"black\" d=\"M1846.08,-103.73C1835.27,-94.33 1823.79,-84.35 1813.01,-74.99\"/>\n<polygon fill=\"black\" stroke=\"black\" points=\"1815.16,-72.22 1805.32,-68.3 1810.57,-77.5 1815.16,-72.22\"/>\n</g>\n<!-- 35 -->\n<g id=\"node36\" class=\"node\">\n<title>35</title>\n<path fill=\"#e78d4c\" stroke=\"black\" d=\"M1957,-68C1957,-68 1859,-68 1859,-68 1853,-68 1847,-62 1847,-56 1847,-56 1847,-12 1847,-12 1847,-6 1853,0 1859,0 1859,0 1957,0 1957,0 1963,0 1969,-6 1969,-12 1969,-12 1969,-56 1969,-56 1969,-62 1963,-68 1957,-68\"/>\n<text text-anchor=\"middle\" x=\"1908\" y=\"-52.8\" font-family=\"Helvetica,sans-Serif\" font-size=\"14.00\">gini = 0.158</text>\n<text text-anchor=\"middle\" x=\"1908\" y=\"-37.8\" font-family=\"Helvetica,sans-Serif\" font-size=\"14.00\">samples = 185</text>\n<text text-anchor=\"middle\" x=\"1908\" y=\"-22.8\" font-family=\"Helvetica,sans-Serif\" font-size=\"14.00\">value = [169, 16]</text>\n<text text-anchor=\"middle\" x=\"1908\" y=\"-7.8\" font-family=\"Helvetica,sans-Serif\" font-size=\"14.00\">class = Complete</text>\n</g>\n<!-- 33&#45;&gt;35 -->\n<g id=\"edge35\" class=\"edge\">\n<title>33&#45;&gt;35</title>\n<path fill=\"none\" stroke=\"black\" d=\"M1898.59,-103.73C1899.72,-95.43 1900.92,-86.67 1902.07,-78.28\"/>\n<polygon fill=\"black\" stroke=\"black\" points=\"1905.55,-78.68 1903.44,-68.3 1898.61,-77.73 1905.55,-78.68\"/>\n</g>\n<!-- 37 -->\n<g id=\"node38\" class=\"node\">\n<title>37</title>\n<path fill=\"#eb9c64\" stroke=\"black\" d=\"M2127,-68C2127,-68 2029,-68 2029,-68 2023,-68 2017,-62 2017,-56 2017,-56 2017,-12 2017,-12 2017,-6 2023,0 2029,0 2029,0 2127,0 2127,0 2133,0 2139,-6 2139,-12 2139,-12 2139,-56 2139,-56 2139,-62 2133,-68 2127,-68\"/>\n<text text-anchor=\"middle\" x=\"2078\" y=\"-52.8\" font-family=\"Helvetica,sans-Serif\" font-size=\"14.00\">gini = 0.294</text>\n<text text-anchor=\"middle\" x=\"2078\" y=\"-37.8\" font-family=\"Helvetica,sans-Serif\" font-size=\"14.00\">samples = 229</text>\n<text text-anchor=\"middle\" x=\"2078\" y=\"-22.8\" font-family=\"Helvetica,sans-Serif\" font-size=\"14.00\">value = [188, 41]</text>\n<text text-anchor=\"middle\" x=\"2078\" y=\"-7.8\" font-family=\"Helvetica,sans-Serif\" font-size=\"14.00\">class = Complete</text>\n</g>\n<!-- 36&#45;&gt;37 -->\n<g id=\"edge37\" class=\"edge\">\n<title>36&#45;&gt;37</title>\n<path fill=\"none\" stroke=\"black\" d=\"M2087.41,-103.73C2086.28,-95.43 2085.08,-86.67 2083.93,-78.28\"/>\n<polygon fill=\"black\" stroke=\"black\" points=\"2087.39,-77.73 2082.56,-68.3 2080.45,-78.68 2087.39,-77.73\"/>\n</g>\n<!-- 38 -->\n<g id=\"node39\" class=\"node\">\n<title>38</title>\n<path fill=\"#9ccef2\" stroke=\"black\" d=\"M2268.5,-68C2268.5,-68 2169.5,-68 2169.5,-68 2163.5,-68 2157.5,-62 2157.5,-56 2157.5,-56 2157.5,-12 2157.5,-12 2157.5,-6 2163.5,0 2169.5,0 2169.5,0 2268.5,0 2268.5,0 2274.5,0 2280.5,-6 2280.5,-12 2280.5,-12 2280.5,-56 2280.5,-56 2280.5,-62 2274.5,-68 2268.5,-68\"/>\n<text text-anchor=\"middle\" x=\"2219\" y=\"-52.8\" font-family=\"Helvetica,sans-Serif\" font-size=\"14.00\">gini = 0.444</text>\n<text text-anchor=\"middle\" x=\"2219\" y=\"-37.8\" font-family=\"Helvetica,sans-Serif\" font-size=\"14.00\">samples = 9</text>\n<text text-anchor=\"middle\" x=\"2219\" y=\"-22.8\" font-family=\"Helvetica,sans-Serif\" font-size=\"14.00\">value = [3, 6]</text>\n<text text-anchor=\"middle\" x=\"2219\" y=\"-7.8\" font-family=\"Helvetica,sans-Serif\" font-size=\"14.00\">class = Cancelled</text>\n</g>\n<!-- 36&#45;&gt;38 -->\n<g id=\"edge38\" class=\"edge\">\n<title>36&#45;&gt;38</title>\n<path fill=\"none\" stroke=\"black\" d=\"M2139.92,-103.73C2150.73,-94.33 2162.21,-84.35 2172.99,-74.99\"/>\n<polygon fill=\"black\" stroke=\"black\" points=\"2175.43,-77.5 2180.68,-68.3 2170.84,-72.22 2175.43,-77.5\"/>\n</g>\n</g>\n</svg>\n",
            "text/plain": [
              "<graphviz.sources.Source at 0x7ca8a515c160>"
            ]
          },
          "metadata": {},
          "execution_count": 20
        }
      ]
    },
    {
      "cell_type": "code",
      "source": [
        "y_pred = model.predict(X_test)\n",
        "# Calculate the F1-score\n",
        "f1 = f1_score(y_true=y_test, y_pred=y_pred)  # Assuming you have class imbalance\n",
        "\n",
        "print(\"F1-Score:\", f1)\n",
        "\n",
        "cm_ensemble = confusion_matrix(y_test, y_pred)\n",
        "disp = ConfusionMatrixDisplay(confusion_matrix=cm_ensemble)\n",
        "disp.plot()\n",
        "plt.show()"
      ],
      "metadata": {
        "colab": {
          "base_uri": "https://localhost:8080/",
          "height": 467
        },
        "id": "rKyp2JX_QGZD",
        "outputId": "34a969d2-3264-480b-9eaf-1f1eaa681205"
      },
      "execution_count": null,
      "outputs": [
        {
          "output_type": "stream",
          "name": "stdout",
          "text": [
            "F1-Score: 0.43870967741935485\n"
          ]
        },
        {
          "output_type": "display_data",
          "data": {
            "text/plain": [
              "<Figure size 640x480 with 2 Axes>"
            ],
            "image/png": "[encoded data removed]"
          },
          "metadata": {}
        }
      ]
    },
    {
      "cell_type": "markdown",
      "source": [
        "### **Shap Values**\n",
        "use shap value in order to estimate the project"
      ],
      "metadata": {
        "id": "NTGZtXiT_CWo"
      }
    },
    {
      "cell_type": "code",
      "source": [
        "!pip install shap\n",
        "import shap\n",
        "\n",
        "# Explain predictions on a subset of test data (X_test_subset)\n",
        "explainer = shap.Explainer(model)\n",
        "shap_values = explainer.shap_values(X_test)\n",
        "\n",
        "import shap\n",
        "\n",
        "model = model\n",
        "\n",
        "explainer = shap.TreeExplainer(model, feature_perturbation='interventional')\n",
        "#interventional argument breaks feature dependencies and provides better estimate\n",
        "\n",
        "#It takes time just take some sample\n",
        "test_explain = X_val.sample(n=1000, random_state=random_state)\n",
        "\n",
        "shap_values = explainer.shap_values(test_explain, check_additivity=False )\n",
        "\n",
        "# Summary plot of feature importance\n",
        "shap.summary_plot(shap_values, test_explain, max_display = len(X_val) )"
      ],
      "metadata": {
        "colab": {
          "base_uri": "https://localhost:8080/",
          "height": 681
        },
        "id": "fSaOyGdWQE6t",
        "outputId": "505a8532-60ee-4360-8ddb-6c8312f25663"
      },
      "execution_count": null,
      "outputs": [
        {
          "output_type": "stream",
          "name": "stdout",
          "text": [
            "Collecting shap\n",
            "  Downloading shap-0.46.0-cp310-cp310-manylinux_2_12_x86_64.manylinux2010_x86_64.manylinux_2_17_x86_64.manylinux2014_x86_64.whl.metadata (24 kB)\n",
            "Requirement already satisfied: numpy in /usr/local/lib/python3.10/dist-packages (from shap) (1.26.4)\n",
            "Requirement already satisfied: scipy in /usr/local/lib/python3.10/dist-packages (from shap) (1.13.1)\n",
            "Requirement already satisfied: scikit-learn in /usr/local/lib/python3.10/dist-packages (from shap) (1.3.2)\n",
            "Requirement already satisfied: pandas in /usr/local/lib/python3.10/dist-packages (from shap) (2.1.4)\n",
            "Requirement already satisfied: tqdm>=4.27.0 in /usr/local/lib/python3.10/dist-packages (from shap) (4.66.5)\n",
            "Requirement already satisfied: packaging>20.9 in /usr/local/lib/python3.10/dist-packages (from shap) (24.1)\n",
            "Collecting slicer==0.0.8 (from shap)\n",
            "  Downloading slicer-0.0.8-py3-none-any.whl.metadata (4.0 kB)\n",
            "Requirement already satisfied: numba in /usr/local/lib/python3.10/dist-packages (from shap) (0.60.0)\n",
            "Requirement already satisfied: cloudpickle in /usr/local/lib/python3.10/dist-packages (from shap) (2.2.1)\n",
            "Requirement already satisfied: llvmlite<0.44,>=0.43.0dev0 in /usr/local/lib/python3.10/dist-packages (from numba->shap) (0.43.0)\n",
            "Requirement already satisfied: python-dateutil>=2.8.2 in /usr/local/lib/python3.10/dist-packages (from pandas->shap) (2.8.2)\n",
            "Requirement already satisfied: pytz>=2020.1 in /usr/local/lib/python3.10/dist-packages (from pandas->shap) (2024.1)\n",
            "Requirement already satisfied: tzdata>=2022.1 in /usr/local/lib/python3.10/dist-packages (from pandas->shap) (2024.1)\n",
            "Requirement already satisfied: joblib>=1.1.1 in /usr/local/lib/python3.10/dist-packages (from scikit-learn->shap) (1.4.2)\n",
            "Requirement already satisfied: threadpoolctl>=2.0.0 in /usr/local/lib/python3.10/dist-packages (from scikit-learn->shap) (3.5.0)\n",
            "Requirement already satisfied: six>=1.5 in /usr/local/lib/python3.10/dist-packages (from python-dateutil>=2.8.2->pandas->shap) (1.16.0)\n",
            "Downloading shap-0.46.0-cp310-cp310-manylinux_2_12_x86_64.manylinux2010_x86_64.manylinux_2_17_x86_64.manylinux2014_x86_64.whl (540 kB)\n",
            "\u001b[2K   \u001b[90m━━━━━━━━━━━━━━━━━━━━━━━━━━━━━━━━━━━━━━━━\u001b[0m \u001b[32m540.1/540.1 kB\u001b[0m \u001b[31m9.4 MB/s\u001b[0m eta \u001b[36m0:00:00\u001b[0m\n",
            "\u001b[?25hDownloading slicer-0.0.8-py3-none-any.whl (15 kB)\n",
            "Installing collected packages: slicer, shap\n",
            "Successfully installed shap-0.46.0 slicer-0.0.8\n"
          ]
        },
        {
          "output_type": "error",
          "ename": "NameError",
          "evalue": "name 'X_val' is not defined",
          "traceback": [
            "\u001b[0;31m---------------------------------------------------------------------------\u001b[0m",
            "\u001b[0;31mNameError\u001b[0m                                 Traceback (most recent call last)",
            "\u001b[0;32m<ipython-input-22-04fae8ed5e6a>\u001b[0m in \u001b[0;36m<cell line: 16>\u001b[0;34m()\u001b[0m\n\u001b[1;32m     14\u001b[0m \u001b[0;34m\u001b[0m\u001b[0m\n\u001b[1;32m     15\u001b[0m \u001b[0;31m#It takes time just take some sample\u001b[0m\u001b[0;34m\u001b[0m\u001b[0;34m\u001b[0m\u001b[0m\n\u001b[0;32m---> 16\u001b[0;31m \u001b[0mtest_explain\u001b[0m \u001b[0;34m=\u001b[0m \u001b[0mX_val\u001b[0m\u001b[0;34m.\u001b[0m\u001b[0msample\u001b[0m\u001b[0;34m(\u001b[0m\u001b[0mn\u001b[0m\u001b[0;34m=\u001b[0m\u001b[0;36m1000\u001b[0m\u001b[0;34m,\u001b[0m \u001b[0mrandom_state\u001b[0m\u001b[0;34m=\u001b[0m\u001b[0mrandom_state\u001b[0m\u001b[0;34m)\u001b[0m\u001b[0;34m\u001b[0m\u001b[0;34m\u001b[0m\u001b[0m\n\u001b[0m\u001b[1;32m     17\u001b[0m \u001b[0;34m\u001b[0m\u001b[0m\n\u001b[1;32m     18\u001b[0m \u001b[0mshap_values\u001b[0m \u001b[0;34m=\u001b[0m \u001b[0mexplainer\u001b[0m\u001b[0;34m.\u001b[0m\u001b[0mshap_values\u001b[0m\u001b[0;34m(\u001b[0m\u001b[0mtest_explain\u001b[0m\u001b[0;34m,\u001b[0m \u001b[0mcheck_additivity\u001b[0m\u001b[0;34m=\u001b[0m\u001b[0;32mFalse\u001b[0m \u001b[0;34m)\u001b[0m\u001b[0;34m\u001b[0m\u001b[0;34m\u001b[0m\u001b[0m\n",
            "\u001b[0;31mNameError\u001b[0m: name 'X_val' is not defined"
          ]
        }
      ]
    },
    {
      "cell_type": "code",
      "source": [
        "from sklearn.datasets import make_classification\n",
        "from sklearn.utils import class_weight\n",
        "from sklearn.metrics import accuracy_score, f1_score, classification_report\n",
        "\n",
        "# 1. Calculate class weights\n",
        "class_weights = class_weight.compute_class_weight(class_weight='balanced', classes=np.unique(y_train), y=y_train)\n",
        "class_weights_dict = dict(zip(np.unique(y_train), class_weights))\n",
        "\n",
        "# 2. Create and train the model with class weights\n",
        "model = LGBMClassifier(class_weight=class_weights_dict ,random_state=42, verbose = -1)\n",
        "model.fit(X_train, y_train)\n",
        "\n",
        "y_pred = model.predict(X_train)\n",
        "cm_ensemble = confusion_matrix(y_train, y_pred)\n",
        "disp = ConfusionMatrixDisplay(confusion_matrix=cm_ensemble)\n",
        "disp.plot()\n",
        "plt.show()\n",
        "\n"
      ],
      "metadata": {
        "id": "mnpPNP0RnZxh"
      },
      "execution_count": null,
      "outputs": []
    },
    {
      "cell_type": "code",
      "source": [
        "def plot_feature_importance(model, feature_names=None, top_n=20, plot=True):\n",
        "\n",
        "    # Get feature importance\n",
        "    feature_importance = model.feature_importances_\n",
        "\n",
        "    # Get feature names\n",
        "    if feature_names is None:\n",
        "        feature_names = model.feature_name()\n",
        "\n",
        "    # Create DataFrame with feature names and importance scores\n",
        "    feature_importance_df = pd.DataFrame({'Feature': feature_names, 'Importance': feature_importance})\n",
        "\n",
        "    # Sort by importance and select top features\n",
        "    feature_importance_df = feature_importance_df.sort_values(by='Importance', ascending=False).head(top_n)\n",
        "\n",
        "    # Plot the feature importance\n",
        "    if plot:\n",
        "        plt.figure(figsize=(10, 10))\n",
        "        sns.barplot(x='Importance', y='Feature', data=feature_importance_df, palette='viridis')\n",
        "        plt.title('LightGBM Feature Importance')\n",
        "        plt.show()\n",
        "\n",
        "    return feature_importance_df\n",
        "\n",
        "feature_importance_df = plot_feature_importance(model,feature_names=X_train.columns)"
      ],
      "metadata": {
        "id": "pexZdStoLrAa"
      },
      "execution_count": null,
      "outputs": []
    },
    {
      "cell_type": "markdown",
      "source": [],
      "metadata": {
        "id": "KrTFNjKWLPzL"
      }
    },
    {
      "cell_type": "code",
      "source": [
        "from ipywidgets import interact, FloatSlider\n",
        "\n",
        "\n",
        "fpr, tpr, thresholds = roc_curve(y_val, y_pred_prob)\n",
        "\n",
        "# Calculate the Youden Index for each threshold\n",
        "youden_index = tpr - fpr\n",
        "optimal_threshold = thresholds[np.argmax(youden_index)]\n",
        "max_youden_index = np.max(youden_index)\n",
        "\n",
        "print(f\"Optimal threshold: {optimal_threshold}\")\n",
        "print(f\"Maximum Youden Index: {max_youden_index}\")\n",
        "\n",
        "# Function to update the confusion matrix based on the selected threshold\n",
        "def update_confusion_matrix(threshold):\n",
        "    # Apply the threshold to get binary predictions\n",
        "    final_preds = (y_pred_prob >= threshold).astype(int)\n",
        "    cm = confusion_matrix(y_val, final_preds)\n",
        "    disp = ConfusionMatrixDisplay(confusion_matrix=cm, display_labels=model.classes_)\n",
        "    disp.plot(cmap='Blues')\n",
        "    plt.title(f'Confusion Matrix at threshold = {threshold:.2f}')\n",
        "    plt.show()\n",
        "\n",
        "# Plot ROC curve and Youden Index\n",
        "plt.figure(figsize=(10, 5))\n",
        "\n",
        "# Subplot 1: ROC Curve\n",
        "plt.subplot(1, 2, 1)\n",
        "plt.plot(fpr, tpr, label='ROC curve')\n",
        "plt.plot([0, 1], [0, 1], 'k--', label='Random guess')\n",
        "plt.xlabel('False Positive Rate')\n",
        "plt.ylabel('True Positive Rate')\n",
        "plt.title('ROC Curve')\n",
        "plt.legend()\n",
        "\n",
        "# Subplot 2: Youden Index\n",
        "plt.subplot(1, 2, 2)\n",
        "plt.plot(thresholds, youden_index, label='Youden Index')\n",
        "plt.axvline(x=optimal_threshold, color='r', linestyle='--', label=f'Optimal threshold = {optimal_threshold:.2f}')\n",
        "plt.xlabel('Threshold')\n",
        "plt.ylabel('Youden Index')\n",
        "plt.title('Youden Index vs Threshold')\n",
        "plt.legend()\n",
        "\n",
        "plt.tight_layout()\n",
        "plt.show()\n",
        "\n",
        "#Playing with slider bar\n",
        "interact(update_confusion_matrix, threshold=FloatSlider(value=optimal_threshold, min=0.0, max=1.0, step=0.01))\n",
        "d = {optimal_threshold:.2f}')\n",
        "plt.xlabel('Threshold')\n",
        "plt.ylabel('Youden Index')\n",
        "plt.title('Youden Index vs Threshold')\n",
        "plt.legend()\n",
        "\n",
        "plt.tight_layout()\n",
        "plt.show()\n",
        "\n",
        "#Playing with slider bar\n",
        "interact(update_confusion_matrix, threshold=FloatSlider(value=optimal_threshold, min=0.0, max=1.0, step=0.01))"
      ],
      "metadata": {
        "id": "If5L4zDDLPQw"
      },
      "execution_count": null,
      "outputs": []
    },
    {
      "cell_type": "code",
      "source": [
        "# 5. Evaluation with emphasis on the minority class\n",
        "from sklearn.metrics import accuracy_score, recall_score, precision_score, f1_score\n",
        "\n",
        "y_pred = model.predict(X_val)\n",
        "\n",
        "print('Accuracy:', accuracy_score(y_val, y_pred))\n",
        "print('Recall:', recall_score(y_val, y_pred))\n",
        "print('Precision:', precision_score(y_val, y_pred))\n",
        "print('F1-Score:', f1_score(y_val, y_pred))\n",
        "\n",
        "\n",
        "cm_ensemble = confusion_matrix(y_val, y_pred)\n",
        "disp = ConfusionMatrixDisplay(confusion_matrix=cm_ensemble)\n",
        "disp.plot()\n",
        "plt.show()"
      ],
      "metadata": {
        "id": "ullZgKiXvYE1"
      },
      "execution_count": null,
      "outputs": []
    },
    {
      "cell_type": "markdown",
      "source": [
        "# Optuna and modeling"
      ],
      "metadata": {
        "id": "oLyB9oGUaXNN"
      }
    },
    {
      "cell_type": "markdown",
      "source": [
        "# Imports for Modeling and HyperTuning"
      ],
      "metadata": {
        "id": "tauOgg_DQrDf"
      }
    },
    {
      "cell_type": "code",
      "source": [
        "!pip install optuna\n",
        "import optuna\n",
        "import lightgbm as lgb\n",
        "from sklearn.model_selection import cross_validate, StratifiedKFold\n",
        "from sklearn.metrics import accuracy_score  # Or other suitable metric\n",
        "\n",
        "def objective_lgbm(trial):\n",
        "    params = {\n",
        "\n",
        "        'max_depth': trial.suggest_int('max_depth', 5, 15),\n",
        "        'num_leaves': trial.suggest_int('num_leaves', 2, 256),\n",
        "        'learning_rate': trial.suggest_float('learning_rate', 0.3, 1),\n",
        "        'feature_fraction': trial.suggest_float('feature_fraction', 0.4, 1.0),\n",
        "        'bagging_fraction': trial.suggest_float('bagging_fraction', 0.4, 1.0),\n",
        "        'bagging_freq': trial.suggest_int('bagging_freq', 1, 10),\n",
        "        'reg_alpha': trial.suggest_loguniform('reg_alpha', 1e-3, 0.1),\n",
        "        'reg_lambda': trial.suggest_loguniform('reg_lambda', 1e-1, 10.0),\n",
        "        'colsample_bytree': trial.suggest_float('colsample_bytree', 0.3, 0.9),\n",
        "        'subsample': trial.suggest_float('subsample', 0.8, 1.0),\n",
        "        'min_child_samples': trial.suggest_int('min_child_samples', 10, 50),\n",
        "    }\n",
        "    lgbParams = {\n",
        "        'is_unbalance': True,\n",
        "        'random_state': 42,\n",
        "        'metric': 'binary_logloss', # binary metric\n",
        "        \"boosting_type\": \"gbdt\", # Can experiment with other types\n",
        "        'objective': 'binary', # For binary classification\n",
        "    }\n",
        "\n",
        "    LGBM_model = lgb.LGBMClassifier(**params, **lgbParams)\n",
        "\n",
        "    cv = StratifiedKFold(n_splits=5, shuffle=True, random_state=42)\n",
        "    cv_results = cross_validate(LGBM_model, X_train, y_train, cv=cv, scoring='f1', return_train_score=False)\n",
        "\n",
        "    score = cv_results['test_score'].mean()\n",
        "    return score\n",
        "\n",
        "# Assuming you have your data in 'X_train' and 'y_train'\n",
        "\n",
        "study = optuna.create_study(direction='maximize', sampler=optuna.samplers.TPESampler())\n",
        "study.optimize(objective_lgbm, n_trials=50)\n",
        "\n",
        "best_params = study.best_params\n",
        "print(\"Best Hyperparameters for LGBM:\", best_params)\n",
        "\n",
        "optuna.visualization.plot_param_importances(study)\n"
      ],
      "metadata": {
        "id": "UgBEymXfiuPz"
      },
      "execution_count": null,
      "outputs": []
    },
    {
      "cell_type": "code",
      "source": [
        "optuna_LGBM = {\n",
        "               'max_depth': 13,\n",
        "               'num_leaves': 147,\n",
        "               'learning_rate': 0.4500756157117973,\n",
        "               'feature_fraction': 0.7301992104097964,\n",
        "               'bagging_fraction': 0.9359450585018844,\n",
        "               'bagging_freq': 6, 'reg_alpha': 0.018888660125774434,\n",
        "               'reg_lambda': 0.1399392554580834,\n",
        "               'colsample_bytree': 0.7185635561648196,\n",
        "               'subsample': 0.9130070661805147,\n",
        "               'min_child_samples': 23\n",
        "               }\n",
        "lgbm_model = LGBMClassifier(**optuna_LGBM)\n",
        "lgbm_model.fit(X_train, y_train)\n",
        "\n",
        "y_pred = model.predict(X_val)\n",
        "\n",
        "print('Accuracy:', accuracy_score(y_val, y_pred))\n",
        "print('Recall:', recall_score(y_val, y_pred))\n",
        "print('Precision:', precision_score(y_val, y_pred))\n",
        "print('F1-Score:', f1_score(y_val, y_pred))\n",
        "\n",
        "\n",
        "cm_ensemble = confusion_matrix(y_val, y_pred)\n",
        "disp = ConfusionMatrixDisplay(confusion_matrix=cm_ensemble)\n",
        "disp.plot()\n",
        "plt.show()"
      ],
      "metadata": {
        "id": "fsXJg41_P-ru"
      },
      "execution_count": null,
      "outputs": []
    },
    {
      "cell_type": "markdown",
      "source": [
        "# XGBoost Optuna"
      ],
      "metadata": {
        "id": "O57S5146adkg"
      }
    },
    {
      "cell_type": "code",
      "source": [
        "#!pip install optuna\n",
        "import optuna\n",
        "import lightgbm as lgb\n",
        "from sklearn.model_selection import cross_validate\n",
        "\n",
        "def objective_lgbm(trial, data, target):\n",
        "    param = {\n",
        "        \"objective\": \"binary\",  # Explicitly set binary objective\n",
        "        \"metric\": \"auc\",  # Good for binary classification (other options listed below)\n",
        "        \"boosting_type\": \"gbdt\",\n",
        "        \"learning_rate\": trial.suggest_float(\"learning_rate\", 0.01, 0.3),\n",
        "        \"num_leaves\": trial.suggest_int(\"num_leaves\", 2, 256),\n",
        "        \"feature_fraction\": trial.suggest_float(\"feature_fraction\", 0.4, 1.0),\n",
        "        \"bagging_fraction\": trial.suggest_float(\"bagging_fraction\", 0.4, 1.0),\n",
        "        \"min_data_in_leaf\": trial.suggest_int(\"min_data_in_leaf\", 20, 100),\n",
        "        \"lambda_l1\": trial.suggest_float(\"lambda_l1\", 1e-8, 10.0, log=True),\n",
        "        \"lambda_l2\": trial.suggest_float(\"lambda_l2\", 1e-8, 10.0, log=True),\n",
        "    }\n",
        "\n",
        "    model = lgb.LGBMClassifier(**param)\n",
        "\n",
        "    cv_results = cross_validate(model, data, target, cv=5, scoring='roc_auc',\n",
        "                                return_train_score=False)\n",
        "\n",
        "    return cv_results['test_score'].mean()\n",
        "\n",
        "# Assuming you have your data in 'X_train' and 'y_train'\n",
        "study = optuna.create_study(direction='maximize')  # Maximize AUC\n",
        "study.optimize(lambda trial: objective_lgbm(trial, X_train, y_train), n_trials=100)\n",
        "\n",
        "best_params = study.best_params\n",
        "print(\"Best Hyperparameters for LGBM:\", best_params)\n",
        "\n"
      ],
      "metadata": {
        "id": "zHaipYW9aZ4k"
      },
      "execution_count": null,
      "outputs": []
    },
    {
      "cell_type": "code",
      "source": [
        "XGBoost_params_optuna = {\n",
        "    'max_depth': 8,\n",
        "    'min_child_weight': 5,\n",
        "    'learning_rate': 0.37121407880565305,\n",
        "    'n_estimators': 595,\n",
        "    'subsample': 0.011992467193061185,\n",
        "    'colsample_bytree': 0.618905962813888,\n",
        "    'random_state': 42,\n",
        "    'verbose': False\n",
        "}\n",
        "\n",
        "xgb = XGBClassifier(**XGBoost_params_optuna)\n",
        "\n",
        "xgb.fit(X_train, y_train)\n",
        "prediction = xgb.predict(X_test)\n",
        "\n",
        "cm_ensemble = confusion_matrix(y_test, prediction)\n",
        "disp = ConfusionMatrixDisplay(confusion_matrix=cm_ensemble)\n",
        "disp.plot()\n",
        "plt.show()"
      ],
      "metadata": {
        "id": "R--8v-Txy3KT"
      },
      "execution_count": null,
      "outputs": []
    }
  ]
}